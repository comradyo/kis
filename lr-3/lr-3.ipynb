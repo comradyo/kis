{
  "cells": [
    {
      "cell_type": "markdown",
      "id": "95ff2545-ee90-4c31-86bb-ca43c11e48eb",
      "metadata": {
        "id": "95ff2545-ee90-4c31-86bb-ca43c11e48eb"
      },
      "source": [
        "# Лабораторная работа 3. Модель однофазной одноканальной открытой системы обслуживания"
      ]
    },
    {
      "cell_type": "markdown",
      "id": "4d6cc536-35ce-4cff-901a-a1c5fa12e357",
      "metadata": {
        "id": "4d6cc536-35ce-4cff-901a-a1c5fa12e357"
      },
      "source": [
        "## Задание 1."
      ]
    },
    {
      "cell_type": "markdown",
      "id": "0a5c490c-88d9-4ca2-8f29-f6fa90db50bc",
      "metadata": {
        "id": "0a5c490c-88d9-4ca2-8f29-f6fa90db50bc"
      },
      "source": [
        "В процессе эксплуатации ЭВМ осуществляются ее разовые проверки, в результате которых она может оказаться в следующих состояниях:\n",
        "- $S_1$ - ЭВМ полностью исправна;\n",
        "- $S_2$ - ЭВМ имеет незначителльные неисправности в программном обеспечении, при которых она может решать задачи;\n",
        "- $S_3$ - ЭВМ имеет существенные неисправности и может решать ограниченный класс задач;\n",
        "- $S_4$ - ЭВМ полностью вышла из строя.\n",
        "\n",
        "В начальный момент времени ЭВМ полностью исправна (состояние $S_1$). Проверка ЭВМ производится в фиксированные моменты времени $t_k$. Процесс, протекающий в системе, может рассматриваться как однородная марковская цепь с $k$ шагами ($1, 2,\\ldots, k$ проверки). Матрица переходных вероятностей имеет вид:\n",
        "\\begin{equation}\n",
        "P = \\begin{pmatrix} p_{11} & p_{12} & p_{13} & p_{14} \\\\ 0 & p_{22} & p_{23} & p_{24} \\\\0 & 0 & p_{33} & p_{34}\\\\ 0 & 0 & 0 & p_{44}\\end{pmatrix} \n",
        "\\end{equation}"
      ]
    },
    {
      "cell_type": "markdown",
      "id": "99869d29-2076-4d27-b571-6baae6d2f22f",
      "metadata": {
        "id": "99869d29-2076-4d27-b571-6baae6d2f22f"
      },
      "source": [
        "Построить граф состояний. Найти вероятности (численно и теоретически) состояний ЭВМ после $k-2, k-1, k$ осмотров."
      ]
    },
    {
      "cell_type": "code",
      "execution_count": null,
      "id": "e35c7d58-132a-48e4-a5e1-08e1c7730fab",
      "metadata": {
        "id": "e35c7d58-132a-48e4-a5e1-08e1c7730fab",
        "outputId": "956bae19-e0af-4169-a1bf-6b3343c706ea",
        "colab": {
          "base_uri": "https://localhost:8080/",
          "height": 223
        }
      },
      "outputs": [
        {
          "output_type": "display_data",
          "data": {
            "text/plain": [
              "                                          \n",
              "p1 0.3208944 0.2615892 0.1290183 0.2884981\n",
              "p2 0.0000000 0.1459995 0.4679388 0.3860617\n",
              "p3 0.0000000 0.0000000 0.5850840 0.4149160\n",
              "p4 0.0000000 0.0000000 0.0000000 1.0000000"
            ],
            "text/html": [
              "<table class=\"dataframe\">\n",
              "<caption>A data.frame: 4 × 4</caption>\n",
              "<thead>\n",
              "\t<tr><th></th><th scope=col></th><th scope=col></th><th scope=col></th><th scope=col></th></tr>\n",
              "\t<tr><th></th><th scope=col>&lt;dbl&gt;</th><th scope=col>&lt;dbl&gt;</th><th scope=col>&lt;dbl&gt;</th><th scope=col>&lt;dbl&gt;</th></tr>\n",
              "</thead>\n",
              "<tbody>\n",
              "\t<tr><th scope=row>p1</th><td>0.3208944</td><td>0.2615892</td><td>0.1290183</td><td>0.2884981</td></tr>\n",
              "\t<tr><th scope=row>p2</th><td>0.0000000</td><td>0.1459995</td><td>0.4679388</td><td>0.3860617</td></tr>\n",
              "\t<tr><th scope=row>p3</th><td>0.0000000</td><td>0.0000000</td><td>0.5850840</td><td>0.4149160</td></tr>\n",
              "\t<tr><th scope=row>p4</th><td>0.0000000</td><td>0.0000000</td><td>0.0000000</td><td>1.0000000</td></tr>\n",
              "</tbody>\n",
              "</table>\n"
            ],
            "text/markdown": "\nA data.frame: 4 × 4\n\n| <!--/--> | <!----> &lt;dbl&gt; | <!----> &lt;dbl&gt; | <!----> &lt;dbl&gt; | <!----> &lt;dbl&gt; |\n|---|---|---|---|---|\n| p1 | 0.3208944 | 0.2615892 | 0.1290183 | 0.2884981 |\n| p2 | 0.0000000 | 0.1459995 | 0.4679388 | 0.3860617 |\n| p3 | 0.0000000 | 0.0000000 | 0.5850840 | 0.4149160 |\n| p4 | 0.0000000 | 0.0000000 | 0.0000000 | 1.0000000 |\n\n",
            "text/latex": "A data.frame: 4 × 4\n\\begin{tabular}{r|llll}\n  &  &  &  & \\\\\n  & <dbl> & <dbl> & <dbl> & <dbl>\\\\\n\\hline\n\tp1 & 0.3208944 & 0.2615892 & 0.1290183 & 0.2884981\\\\\n\tp2 & 0.0000000 & 0.1459995 & 0.4679388 & 0.3860617\\\\\n\tp3 & 0.0000000 & 0.0000000 & 0.5850840 & 0.4149160\\\\\n\tp4 & 0.0000000 & 0.0000000 & 0.0000000 & 1.0000000\\\\\n\\end{tabular}\n"
          },
          "metadata": {}
        },
        {
          "output_type": "stream",
          "name": "stdout",
          "text": [
            "[1] \"k= 7\"\n"
          ]
        }
      ],
      "source": [
        "Variant<-8\n",
        "set.seed(Variant) \n",
        "k<-sample(c(4:9),1)\n",
        "pp1<-runif(4)\n",
        "pp2<-runif(3)\n",
        "pp3<-runif(2)\n",
        "p1<-pp1/sum(pp1)\n",
        "p2<-c(c(0),pp2/sum(pp2))\n",
        "p3<-c(c(0,0),pp3/sum(pp3))\n",
        "p4<-c(0,0,0,1)\n",
        "P<-data.frame()\n",
        "P<-rbind(P,p1)\n",
        "P<-rbind(P,p2)\n",
        "P<-rbind(P,p3)\n",
        "P<-rbind(P,p4)\n",
        "rownames(P)<-c(\"p1\",\"p2\",\"p3\",\"p4\")\n",
        "colnames(P)<-c(\"\",\"\",\"\",\"\")\n",
        "View(P)\n",
        "print(paste(\"k=\",as.character(k)))"
      ]
    },
    {
      "cell_type": "markdown",
      "source": [
        "Граф состояний:"
      ],
      "metadata": {
        "id": "0xPZ8jXJY-D6"
      },
      "id": "0xPZ8jXJY-D6"
    },
    {
      "cell_type": "markdown",
      "source": [
        "![image.png](data:image/png;base64,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)"
      ],
      "metadata": {
        "id": "qOUIePO5YUwF"
      },
      "id": "qOUIePO5YUwF"
    },
    {
      "cell_type": "markdown",
      "source": [
        "Найти вероятности (теоретически) состояний ЭВМ после $k-2, k-1, k$ осмотров:"
      ],
      "metadata": {
        "id": "r7XyeDu6YwYa"
      },
      "id": "r7XyeDu6YwYa"
    },
    {
      "cell_type": "code",
      "source": [
        "#install.packages(\"matrixcalc\")\n",
        "library(matrixcalc)\n",
        "P_matr <- data.matrix(P, rownames.force = NA) # view -> matrix"
      ],
      "metadata": {
        "id": "YqzwRYB3Z4sX",
        "colab": {
          "base_uri": "https://localhost:8080/"
        },
        "outputId": "a9a4e764-ebb4-42de-9182-0edd8341ab8a"
      },
      "id": "YqzwRYB3Z4sX",
      "execution_count": null,
      "outputs": [
        {
          "output_type": "stream",
          "name": "stderr",
          "text": [
            "Installing package into ‘/usr/local/lib/R/site-library’\n",
            "(as ‘lib’ is unspecified)\n",
            "\n"
          ]
        }
      ]
    },
    {
      "cell_type": "code",
      "source": [
        "p0 <- c(1, 0, 0, 0) # Начальное состояние\n",
        "\n",
        "pkm2  <- p0 %*% matrix.power(P_matr, k-2)\n",
        "pkm1  <- p0 %*% matrix.power(P_matr, k-1)\n",
        "pk    <- p0 %*% matrix.power(P_matr, k)\n",
        "\n",
        "pkm2\n",
        "pkm1\n",
        "pk"
      ],
      "metadata": {
        "id": "SX0_52bWZJ_J",
        "colab": {
          "base_uri": "https://localhost:8080/",
          "height": 207
        },
        "outputId": "1430ddf4-20a9-4682-c944-371b84f0f9a0"
      },
      "id": "SX0_52bWZJ_J",
      "execution_count": null,
      "outputs": [
        {
          "output_type": "display_data",
          "data": {
            "text/html": [
              "<table class=\"dataframe\">\n",
              "<caption>A matrix: 1 × 4 of type dbl</caption>\n",
              "<thead>\n",
              "\t<tr><th scope=col></th><th scope=col></th><th scope=col></th><th scope=col></th></tr>\n",
              "</thead>\n",
              "<tbody>\n",
              "\t<tr><td>0.003402599</td><td>0.004990025</td><td>0.09526266</td><td>0.8963447</td></tr>\n",
              "</tbody>\n",
              "</table>\n"
            ],
            "text/markdown": "\nA matrix: 1 × 4 of type dbl\n\n| <!----> | <!----> | <!----> | <!----> |\n|---|---|---|---|\n| 0.003402599 | 0.004990025 | 0.09526266 | 0.8963447 |\n\n",
            "text/latex": "A matrix: 1 × 4 of type dbl\n\\begin{tabular}{llll}\n  &  &  & \\\\\n\\hline\n\t 0.003402599 & 0.004990025 & 0.09526266 & 0.8963447\\\\\n\\end{tabular}\n",
            "text/plain": [
              "                                                 \n",
              "[1,] 0.003402599 0.004990025 0.09526266 0.8963447"
            ]
          },
          "metadata": {}
        },
        {
          "output_type": "display_data",
          "data": {
            "text/html": [
              "<table class=\"dataframe\">\n",
              "<caption>A matrix: 1 × 4 of type dbl</caption>\n",
              "<thead>\n",
              "\t<tr><th scope=col></th><th scope=col></th><th scope=col></th><th scope=col></th></tr>\n",
              "</thead>\n",
              "<tbody>\n",
              "\t<tr><td>0.001091875</td><td>0.001618624</td><td>0.05851069</td><td>0.9387788</td></tr>\n",
              "</tbody>\n",
              "</table>\n"
            ],
            "text/markdown": "\nA matrix: 1 × 4 of type dbl\n\n| <!----> | <!----> | <!----> | <!----> |\n|---|---|---|---|\n| 0.001091875 | 0.001618624 | 0.05851069 | 0.9387788 |\n\n",
            "text/latex": "A matrix: 1 × 4 of type dbl\n\\begin{tabular}{llll}\n  &  &  & \\\\\n\\hline\n\t 0.001091875 & 0.001618624 & 0.05851069 & 0.9387788\\\\\n\\end{tabular}\n",
            "text/plain": [
              "                                                 \n",
              "[1,] 0.001091875 0.001618624 0.05851069 0.9387788"
            ]
          },
          "metadata": {}
        },
        {
          "output_type": "display_data",
          "data": {
            "text/html": [
              "<table class=\"dataframe\">\n",
              "<caption>A matrix: 1 × 4 of type dbl</caption>\n",
              "<thead>\n",
              "\t<tr><th scope=col></th><th scope=col></th><th scope=col></th><th scope=col></th></tr>\n",
              "</thead>\n",
              "<tbody>\n",
              "\t<tr><td>0.0003503766</td><td>0.0005219411</td><td>0.03513196</td><td>0.9639957</td></tr>\n",
              "</tbody>\n",
              "</table>\n"
            ],
            "text/markdown": "\nA matrix: 1 × 4 of type dbl\n\n| <!----> | <!----> | <!----> | <!----> |\n|---|---|---|---|\n| 0.0003503766 | 0.0005219411 | 0.03513196 | 0.9639957 |\n\n",
            "text/latex": "A matrix: 1 × 4 of type dbl\n\\begin{tabular}{llll}\n  &  &  & \\\\\n\\hline\n\t 0.0003503766 & 0.0005219411 & 0.03513196 & 0.9639957\\\\\n\\end{tabular}\n",
            "text/plain": [
              "                                                   \n",
              "[1,] 0.0003503766 0.0005219411 0.03513196 0.9639957"
            ]
          },
          "metadata": {}
        }
      ]
    },
    {
      "cell_type": "markdown",
      "source": [
        "Найти вероятности (численно) состояний ЭВМ после $k-2, k-1, k$ осмотров"
      ],
      "metadata": {
        "id": "UB98PWurZKdI"
      },
      "id": "UB98PWurZKdI"
    },
    {
      "cell_type": "code",
      "source": [
        "N <- 1000 # число повторов\n",
        "p_exp <- c(0, 0, 0, 0) # Количество раз, которое ЭВМ оказалась в каждом из состояний\n",
        "\n",
        "getProbsForK<-function(kk) {\n",
        "for (i in 1:N) {\n",
        "  curState <- 1\n",
        "  for (j in 1:kk) {\n",
        "    val <- runif(1)\n",
        "    if (curState == 1) {\n",
        "      if (val < P_matr[1, 1]) {\n",
        "        curState <- 1\n",
        "      } else if (val < P_matr[1, 1] + P_matr[1, 2]) {\n",
        "        curState <- 2\n",
        "      } else if (val < P_matr[1, 1] + P_matr[1, 2] + P_matr[1,3]) {\n",
        "        curState <- 3\n",
        "      } else {\n",
        "        curState <- 4\n",
        "      }\n",
        "    } else if (curState == 2) {\n",
        "      if (val < P_matr[2, 2]) {\n",
        "        curState <- 2\n",
        "      } else if (val < P_matr[2, 2] + P_matr[2, 3]) {\n",
        "        curState <- 3\n",
        "      } else {\n",
        "        curState <- 4\n",
        "      }\n",
        "    } else if (curState == 3) {\n",
        "      if (val < P_matr[3, 3]) {\n",
        "        curState <- 3\n",
        "      } else {\n",
        "        curState <- 4\n",
        "      }\n",
        "    } else {\n",
        "      curState <- 4\n",
        "    }\n",
        "  }\n",
        "  p_exp[curState] = p_exp[curState] + 1\n",
        "}\n",
        "\n",
        "probs <- c(\n",
        "  p_exp[1]/N, \n",
        "  p_exp[2]/N, \n",
        "  p_exp[3]/N, \n",
        "  p_exp[4]/N\n",
        ")\n",
        "\n",
        "return(probs)\n",
        "}\n",
        "\n",
        "getProbsForK(k-2)\n",
        "getProbsForK(k-1)\n",
        "getProbsForK(k)\n",
        "\n"
      ],
      "metadata": {
        "colab": {
          "base_uri": "https://localhost:8080/",
          "height": 69
        },
        "id": "Qz6wc-CmZOqy",
        "outputId": "1a231537-13d3-4808-97fa-c034a24b3d0e"
      },
      "id": "Qz6wc-CmZOqy",
      "execution_count": null,
      "outputs": [
        {
          "output_type": "display_data",
          "data": {
            "text/html": [
              "<style>\n",
              ".list-inline {list-style: none; margin:0; padding: 0}\n",
              ".list-inline>li {display: inline-block}\n",
              ".list-inline>li:not(:last-child)::after {content: \"\\00b7\"; padding: 0 .5ex}\n",
              "</style>\n",
              "<ol class=list-inline><li>0.003</li><li>0.002</li><li>0.092</li><li>0.903</li></ol>\n"
            ],
            "text/markdown": "1. 0.003\n2. 0.002\n3. 0.092\n4. 0.903\n\n\n",
            "text/latex": "\\begin{enumerate*}\n\\item 0.003\n\\item 0.002\n\\item 0.092\n\\item 0.903\n\\end{enumerate*}\n",
            "text/plain": [
              "[1] 0.003 0.002 0.092 0.903"
            ]
          },
          "metadata": {}
        },
        {
          "output_type": "display_data",
          "data": {
            "text/html": [
              "<style>\n",
              ".list-inline {list-style: none; margin:0; padding: 0}\n",
              ".list-inline>li {display: inline-block}\n",
              ".list-inline>li:not(:last-child)::after {content: \"\\00b7\"; padding: 0 .5ex}\n",
              "</style>\n",
              "<ol class=list-inline><li>0</li><li>0.002</li><li>0.06</li><li>0.938</li></ol>\n"
            ],
            "text/markdown": "1. 0\n2. 0.002\n3. 0.06\n4. 0.938\n\n\n",
            "text/latex": "\\begin{enumerate*}\n\\item 0\n\\item 0.002\n\\item 0.06\n\\item 0.938\n\\end{enumerate*}\n",
            "text/plain": [
              "[1] 0.000 0.002 0.060 0.938"
            ]
          },
          "metadata": {}
        },
        {
          "output_type": "display_data",
          "data": {
            "text/html": [
              "<style>\n",
              ".list-inline {list-style: none; margin:0; padding: 0}\n",
              ".list-inline>li {display: inline-block}\n",
              ".list-inline>li:not(:last-child)::after {content: \"\\00b7\"; padding: 0 .5ex}\n",
              "</style>\n",
              "<ol class=list-inline><li>0</li><li>0</li><li>0.03</li><li>0.97</li></ol>\n"
            ],
            "text/markdown": "1. 0\n2. 0\n3. 0.03\n4. 0.97\n\n\n",
            "text/latex": "\\begin{enumerate*}\n\\item 0\n\\item 0\n\\item 0.03\n\\item 0.97\n\\end{enumerate*}\n",
            "text/plain": [
              "[1] 0.00 0.00 0.03 0.97"
            ]
          },
          "metadata": {}
        }
      ]
    },
    {
      "cell_type": "markdown",
      "id": "e6724a07-3712-42b3-9530-c367098fe313",
      "metadata": {
        "id": "e6724a07-3712-42b3-9530-c367098fe313"
      },
      "source": [
        "## Задание 2."
      ]
    },
    {
      "cell_type": "markdown",
      "id": "6611127a-a5fb-427a-9db9-2b6861b5547f",
      "metadata": {
        "id": "6611127a-a5fb-427a-9db9-2b6861b5547f"
      },
      "source": [
        "Вычислительный центр фирмы состоит из одного главного сервера коллективного пользования. Число работающих в центре программистов в любой момент времени равно $k$. Каждый программист готовит свою программу и через терминал передает ее на сервер для выполнения, куда она сразу попадает. Время подготовки программ имеет экспоненциальное распределение со средним значением $t_{1}$ мин. Время выполнения программы имеет экспоненциальное распределение со средним значением $t_{2}$ мин. Найти (теоретически и экспериментально):\n",
        " - вероятность того, что программа не будет выполнена сразу же, как только она поступила на терминал;\n",
        " - среднее время до получения пользователем результатов реализации;\n",
        " - среднее количество программ, ожидающих выполнения на сервере."
      ]
    },
    {
      "cell_type": "code",
      "execution_count": 71,
      "id": "057b7b51-a9ca-4cf9-b351-002ba57834e1",
      "metadata": {
        "id": "057b7b51-a9ca-4cf9-b351-002ba57834e1",
        "outputId": "9792ce23-e23d-4afc-dc4e-071a672e904b",
        "colab": {
          "base_uri": "https://localhost:8080/",
          "height": 129
        }
      },
      "outputs": [
        {
          "output_type": "display_data",
          "data": {
            "text/plain": [
              "  k  t1 t2\n",
              "1 25 17 4 "
            ],
            "text/html": [
              "<table class=\"dataframe\">\n",
              "<caption>A data.frame: 1 × 3</caption>\n",
              "<thead>\n",
              "\t<tr><th scope=col>k</th><th scope=col>t1</th><th scope=col>t2</th></tr>\n",
              "\t<tr><th scope=col>&lt;int&gt;</th><th scope=col>&lt;int&gt;</th><th scope=col>&lt;int&gt;</th></tr>\n",
              "</thead>\n",
              "<tbody>\n",
              "\t<tr><td>25</td><td>17</td><td>4</td></tr>\n",
              "</tbody>\n",
              "</table>\n"
            ],
            "text/markdown": "\nA data.frame: 1 × 3\n\n| k &lt;int&gt; | t1 &lt;int&gt; | t2 &lt;int&gt; |\n|---|---|---|\n| 25 | 17 | 4 |\n\n",
            "text/latex": "A data.frame: 1 × 3\n\\begin{tabular}{lll}\n k & t1 & t2\\\\\n <int> & <int> & <int>\\\\\n\\hline\n\t 25 & 17 & 4\\\\\n\\end{tabular}\n"
          },
          "metadata": {}
        }
      ],
      "source": [
        "Variant<-8\n",
        "set.seed(Variant) \n",
        "k<-sample(c(10:25),1)\n",
        "t1<-sample(c(14:20),1)\n",
        "t2<-sample(c(2:5),1)\n",
        "View(data.frame(k,t1,t2))"
      ]
    },
    {
      "cell_type": "markdown",
      "source": [
        "Теоретическая часть:"
      ],
      "metadata": {
        "id": "LnQ3Yg3txamW"
      },
      "id": "LnQ3Yg3txamW"
    },
    {
      "cell_type": "markdown",
      "source": [
        "Вычислительный центр представляет из себя СМО вида $M/M/1/\\infty$, для которой процесс гибели-размножения представим в следующем виде:"
      ],
      "metadata": {
        "id": "ZYbFinwWxydi"
      },
      "id": "ZYbFinwWxydi"
    },
    {
      "cell_type": "markdown",
      "source": [
        "![Диаграмма без названия.drawio (2).png](data:image/png;base64,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)"
      ],
      "metadata": {
        "id": "bA5CxRMHZip0"
      },
      "id": "bA5CxRMHZip0"
    },
    {
      "cell_type": "markdown",
      "source": [
        "Число состояний этой системы неограничено, поскольку пользователи не ждут ответа от сервера, значит, система — открытая.\n",
        "\n",
        "Интенсивность подготовки программ k программистами:\n",
        "$$\\lambda_i = \\lambda = \\frac{k}{t_1}$$\n",
        "Интенсивность выполнения программ сервером:\n",
        "$$\\mu_i = \\mu = \\frac{1}{t_2}$$\n",
        "Коэффициент загрузки системы:\n",
        "$$\\rho_i = \\rho = \\frac{\\lambda}{\\mu}$$\n",
        "\n",
        "Определим искомые характеристики системы:\n",
        "- Вероятность того, что программа не будет выполнена сразу же, как только она поступила на терминал:\n",
        "$$ \\overline{P_0} = 1 - P_0 $$\n",
        "$$P_0=1-\\rho$$\n",
        "$$ \\overline{P_0} = \\rho $$\n",
        "\n",
        "- Среднее время до получения пользователем результатов реализации:\n",
        "$$T_{\\text{сист}}=\\frac{1}{\\mu(1-\\rho)}$$\n",
        "\n",
        "- Среднее количество программ, ожидающих выполнения на сервере:\n",
        "$$L_{оч} = \\lambda \\cdot W_{\\text{оч}} = \\frac{\\rho^2}{(1-\\rho)} $$\n",
        "\n"
      ],
      "metadata": {
        "id": "NoHrnoIK1Jzo"
      },
      "id": "NoHrnoIK1Jzo"
    },
    {
      "cell_type": "markdown",
      "source": [
        "Теоретическая часть в среде R:"
      ],
      "metadata": {
        "id": "qcd4zMMJc6X9"
      },
      "id": "qcd4zMMJc6X9"
    },
    {
      "cell_type": "code",
      "source": [
        "l <- k/t1\n",
        "m <- 1/t2\n",
        "l\n",
        "m"
      ],
      "metadata": {
        "colab": {
          "base_uri": "https://localhost:8080/",
          "height": 52
        },
        "id": "0K_SVl3ikv_M",
        "outputId": "73523c5c-5046-479e-9ef4-8737e34da25c"
      },
      "id": "0K_SVl3ikv_M",
      "execution_count": 72,
      "outputs": [
        {
          "output_type": "display_data",
          "data": {
            "text/html": [
              "1.47058823529412"
            ],
            "text/markdown": "1.47058823529412",
            "text/latex": "1.47058823529412",
            "text/plain": [
              "[1] 1.470588"
            ]
          },
          "metadata": {}
        },
        {
          "output_type": "display_data",
          "data": {
            "text/html": [
              "0.25"
            ],
            "text/markdown": "0.25",
            "text/latex": "0.25",
            "text/plain": [
              "[1] 0.25"
            ]
          },
          "metadata": {}
        }
      ]
    },
    {
      "cell_type": "markdown",
      "source": [
        "$\\mu < \\lambda$, условие успешной обработки программ не выполняется, изменим исходные данные:\n",
        "\n",
        "Пусть\n",
        "$$k = 5$$\n",
        "$$t1 = 25$$\n",
        "$$t2 = 3$$"
      ],
      "metadata": {
        "id": "LrLWLPcLkxyU"
      },
      "id": "LrLWLPcLkxyU"
    },
    {
      "cell_type": "code",
      "source": [
        "k <- 5\n",
        "t1 <- 25\n",
        "t2 <- 3\n",
        "l <- k/t1\n",
        "m <- 1/t2\n",
        "ro <- l/m\n",
        "Tsist <- 1/(m*(1-ro))\n",
        "Loch <- ro^2 / (1 - ro)\n",
        "l\n",
        "m\n",
        "print(\"not P0 = \"); ro # = !P0\n",
        "print(\"Tsist = \"); Tsist\n",
        "print(\"Loch = \"); Loch"
      ],
      "metadata": {
        "colab": {
          "base_uri": "https://localhost:8080/",
          "height": 156
        },
        "id": "c6yP2fLClHXA",
        "outputId": "5f490c71-ff90-4e3f-e397-2ead696a4f87"
      },
      "id": "c6yP2fLClHXA",
      "execution_count": 131,
      "outputs": [
        {
          "output_type": "display_data",
          "data": {
            "text/html": [
              "0.2"
            ],
            "text/markdown": "0.2",
            "text/latex": "0.2",
            "text/plain": [
              "[1] 0.2"
            ]
          },
          "metadata": {}
        },
        {
          "output_type": "display_data",
          "data": {
            "text/html": [
              "0.333333333333333"
            ],
            "text/markdown": "0.333333333333333",
            "text/latex": "0.333333333333333",
            "text/plain": [
              "[1] 0.3333333"
            ]
          },
          "metadata": {}
        },
        {
          "output_type": "stream",
          "name": "stdout",
          "text": [
            "[1] \"not P0 = \"\n"
          ]
        },
        {
          "output_type": "display_data",
          "data": {
            "text/html": [
              "0.6"
            ],
            "text/markdown": "0.6",
            "text/latex": "0.6",
            "text/plain": [
              "[1] 0.6"
            ]
          },
          "metadata": {}
        },
        {
          "output_type": "stream",
          "name": "stdout",
          "text": [
            "[1] \"Tsist = \"\n"
          ]
        },
        {
          "output_type": "display_data",
          "data": {
            "text/html": [
              "7.5"
            ],
            "text/markdown": "7.5",
            "text/latex": "7.5",
            "text/plain": [
              "[1] 7.5"
            ]
          },
          "metadata": {}
        },
        {
          "output_type": "stream",
          "name": "stdout",
          "text": [
            "[1] \"Loch = \"\n"
          ]
        },
        {
          "output_type": "display_data",
          "data": {
            "text/html": [
              "0.9"
            ],
            "text/markdown": "0.9",
            "text/latex": "0.9",
            "text/plain": [
              "[1] 0.9"
            ]
          },
          "metadata": {}
        }
      ]
    },
    {
      "cell_type": "markdown",
      "source": [
        "Практическая часть в среде R:"
      ],
      "metadata": {
        "id": "xJJbVdiMxfc1"
      },
      "id": "xJJbVdiMxfc1"
    },
    {
      "cell_type": "markdown",
      "source": [],
      "metadata": {
        "id": "4UpyBmQCYpx3"
      },
      "id": "4UpyBmQCYpx3"
    },
    {
      "cell_type": "code",
      "source": [
        "l <- 1/t1\n",
        "m <- 1/t2\n",
        "\n",
        "N <- 1000000    # Число тиков (прибавления дельт времени)\n",
        "dt <- 0.01      # Тик (Дельта времени)\n",
        "# N * dt        # Время симуляции программы (в единицах времени симуляции)\n",
        "curTime <- 0    # Текущее время симуляции\n",
        "\n",
        "queueDuration <- 0 # Временной буфер - через сколько времени обработаются все заявки в системе\n",
        "queueDurationTotal <- 0\n",
        "\n",
        "P0 <- 0     # вероятность того, что программа будет выполнена сразу же, как только она поступила на терминал \n",
        "NotP0 <- 0  # вероятность того, что программа не будет выполнена сразу же, как только она поступила на терминал\n",
        "\n",
        "q <- c()    # очередь длительностей обработки программ в системе\n",
        "qLenTotal <- 0\n",
        "\n",
        "numOfReqs <- 0\n",
        "handleDurationTotal <- 0\n",
        "\n",
        "progSendTimes <- rexp(k, l) # времена, в которые программисты отправляют свои программы\n",
        "\n",
        "for (i in 1:N) {\n",
        "  curTime <- curTime + dt\n",
        "  for (j in 1:k) {\n",
        "    if (curTime >= progSendTimes[j]) {\n",
        "      numOfReqs <- numOfReqs + 1\n",
        "      if (queueDuration == 0) {\n",
        "        P0 <- P0 + 1\n",
        "      } else {\n",
        "        NotP0 <- NotP0 + 1\n",
        "      }\n",
        "      handleDuration <- rexp(1, m)      # Время обработки задачи на сервере\n",
        "      handleDurTotal <- handleDurationTotal + handleDuration\n",
        "      q <- append(q, handleDuration)    # Добавляем это время в очередь обработки\n",
        "      queueDurationTotal <- queueDurationTotal + queueDuration\n",
        "      queueDuration <- queueDuration + handleDuration   # Заявка встает в конец очереди\n",
        "      progSendTimes[j] <- progSendTimes[j] + rexp(1, l) # Следующее время отправки заявки j-м пользователем\n",
        "    }\n",
        "  }\n",
        "\n",
        "  # сокращение времени обработки текущей программы, которая находится на сервере.\n",
        "  if (length(q) >= 1) {\n",
        "    q[1] <- q[1] - dt\n",
        "    if (q[1] <= 0) {\n",
        "      q <- q[-1]\n",
        "    }\n",
        "  }\n",
        "  if (length(q) >= 1) {\n",
        "      qLenTotal <- qLenTotal + length(q) - 1 # Не учитываем программу, которая обрабатывается на сервере\n",
        "  }\n",
        "\n",
        "  # сокращение временного буфера.\n",
        "  if (queueDuration >= dt) {\n",
        "    queueDuration <- queueDuration - dt\n",
        "  } else {\n",
        "    queueDuration <- 0\n",
        "  }\n",
        "}\n",
        "\n",
        "# Вероятность того, что программа будет выполнена не сразу\n",
        "NotP0 / (P0 + NotP0) \n",
        "\n",
        "(totalBuffer + handleDurTotal) / numOfReqs\n",
        "\n",
        "# Среднее количество программ, ожидающих выполнения на сервере\n",
        "qLenTotal / N"
      ],
      "metadata": {
        "id": "JDh_PbhMxg56",
        "colab": {
          "base_uri": "https://localhost:8080/",
          "height": 69
        },
        "outputId": "4462c54a-296d-4ace-b6dc-abcb51d70dfa"
      },
      "id": "JDh_PbhMxg56",
      "execution_count": 134,
      "outputs": [
        {
          "output_type": "display_data",
          "data": {
            "text/html": [
              "0.57655381505811"
            ],
            "text/markdown": "0.57655381505811",
            "text/latex": "0.57655381505811",
            "text/plain": [
              "[1] 0.5765538"
            ]
          },
          "metadata": {}
        },
        {
          "output_type": "display_data",
          "data": {
            "text/html": [
              "7.70826531749327"
            ],
            "text/markdown": "7.70826531749327",
            "text/latex": "7.70826531749327",
            "text/plain": [
              "[1] 7.708265"
            ]
          },
          "metadata": {}
        },
        {
          "output_type": "display_data",
          "data": {
            "text/html": [
              "0.796987"
            ],
            "text/markdown": "0.796987",
            "text/latex": "0.796987",
            "text/plain": [
              "[1] 0.796987"
            ]
          },
          "metadata": {}
        }
      ]
    },
    {
      "cell_type": "markdown",
      "id": "95ec39b4-da86-48dd-b694-d066605bd91d",
      "metadata": {
        "id": "95ec39b4-da86-48dd-b694-d066605bd91d"
      },
      "source": [
        "## Дополнительное задание. "
      ]
    },
    {
      "cell_type": "markdown",
      "id": "7d09de74-81ae-4c8d-a049-b46563d25a78",
      "metadata": {
        "tags": [],
        "id": "7d09de74-81ae-4c8d-a049-b46563d25a78"
      },
      "source": [
        "<p style='text-align: justify;'>\n",
        "Точка блуждает по оси абсцисс: на каждом шаге она с вероятностью $p_1$ остается на месте, с вероятностью $p_2$ перескакивает на единицу вправо и с вероятностью $p_3$ влево. Состояние системы  после $k$ шагов определяется одной координатой (абсциссой) точки. Рассматривая последовательность положений точки как цепь Маркова, найти вероятность (численно и теоретически) того, что она после $k$ шагов окажется от начала координат не дальше, чем на расстоянии, равном $m$.\n",
        "</p>"
      ]
    },
    {
      "cell_type": "code",
      "execution_count": null,
      "id": "35ecae8a-1f5d-4216-aed5-001f7c156a02",
      "metadata": {
        "tags": [],
        "id": "35ecae8a-1f5d-4216-aed5-001f7c156a02"
      },
      "outputs": [],
      "source": [
        "Variant<-8\n",
        "set.seed(Variant) \n",
        "pp<-runif(3)\n",
        "p1<-pp[1]/sum(pp)\n",
        "p2<-pp[2]/sum(pp)\n",
        "p3<-pp[3]/sum(pp)\n",
        "k<-sample(c(4:8),1)\n",
        "m<-sample(c(1:k),1)\n",
        "View(data.frame(p1,p2,p3,k,m))"
      ]
    }
  ],
  "metadata": {
    "kernelspec": {
      "display_name": "R",
      "language": "R",
      "name": "ir"
    },
    "language_info": {
      "codemirror_mode": "r",
      "file_extension": ".r",
      "mimetype": "text/x-r-source",
      "name": "R",
      "pygments_lexer": "r",
      "version": "4.2.2"
    },
    "colab": {
      "provenance": []
    }
  },
  "nbformat": 4,
  "nbformat_minor": 5
}