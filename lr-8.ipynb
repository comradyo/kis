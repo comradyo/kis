{
  "cells": [
    {
      "cell_type": "markdown",
      "metadata": {
        "id": "view-in-github",
        "colab_type": "text"
      },
      "source": [
        "<a href=\"https://colab.research.google.com/github/comradyo/kis/blob/main/lr-8.ipynb\" target=\"_parent\"><img src=\"https://colab.research.google.com/assets/colab-badge.svg\" alt=\"Open In Colab\"/></a>"
      ]
    },
    {
      "cell_type": "markdown",
      "id": "97de2146-dc54-47bd-b9dd-64e20991f951",
      "metadata": {
        "id": "97de2146-dc54-47bd-b9dd-64e20991f951"
      },
      "source": [
        "# Лабораторная работа 8. Анализ одноканальной системы массового обслуживания с учетом приоритета заявок"
      ]
    },
    {
      "cell_type": "markdown",
      "id": "b9173369-f939-45ca-9a19-a5eed24178ea",
      "metadata": {
        "id": "b9173369-f939-45ca-9a19-a5eed24178ea"
      },
      "source": [
        "## Задание 1."
      ]
    },
    {
      "cell_type": "markdown",
      "id": "4aca29b3-139f-4f11-b78e-18fd2161dcb4",
      "metadata": {
        "id": "4aca29b3-139f-4f11-b78e-18fd2161dcb4"
      },
      "source": [
        "Система электронного документооборота с автоматическим классификатором поступающей корреспонденции должна учитывать различную важность документов, количество типов документов $P$, средняя интенсивность поступления заявок $\\lambda_1, \\lambda_2, \\ldots, \\lambda_P$, средняя интенсивность обслуживания $\\mu_1, \\mu_2, \\ldots, \\mu_P$ соответственно, очередь неограничена. Приоритеты заявок $p_1<p_2<\\ldots<p_P$.\n",
        "\n",
        "Оценить среднее время нахождения каждого типа заявки в очереди (теоретически и экспериментально) для одного из 4 случаев:\n",
        "- относительный фиксированный приоритет (V1);\n",
        "- абсолютный фиксированный приоритет (V2);\n",
        "- приоритет с зависимой задержкой без прерывания (V3);\n",
        "- приоритет с зависимой задержкой с прерываниями (V4);\n",
        "\n",
        "в соответствии с вариантом."
      ]
    },
    {
      "cell_type": "code",
      "execution_count": 94,
      "id": "7543cc99-e683-4665-9452-3bbfcbcf5ed2",
      "metadata": {
        "id": "7543cc99-e683-4665-9452-3bbfcbcf5ed2",
        "outputId": "c0ddb82e-d17e-4ee3-96b6-69d23e917af5",
        "colab": {
          "base_uri": "https://localhost:8080/",
          "height": 416
        }
      },
      "outputs": [
        {
          "output_type": "display_data",
          "data": {
            "text/plain": [
              "  P V \n",
              "1 6 V4"
            ],
            "text/html": [
              "<table class=\"dataframe\">\n",
              "<caption>A data.frame: 1 × 2</caption>\n",
              "<thead>\n",
              "\t<tr><th scope=col>P</th><th scope=col>V</th></tr>\n",
              "\t<tr><th scope=col>&lt;dbl&gt;</th><th scope=col>&lt;chr&gt;</th></tr>\n",
              "</thead>\n",
              "<tbody>\n",
              "\t<tr><td>6</td><td>V4</td></tr>\n",
              "</tbody>\n",
              "</table>\n"
            ],
            "text/markdown": "\nA data.frame: 1 × 2\n\n| P &lt;dbl&gt; | V &lt;chr&gt; |\n|---|---|\n| 6 | V4 |\n\n",
            "text/latex": "A data.frame: 1 × 2\n\\begin{tabular}{ll}\n P & V\\\\\n <dbl> & <chr>\\\\\n\\hline\n\t 6 & V4\\\\\n\\end{tabular}\n"
          },
          "metadata": {}
        },
        {
          "output_type": "display_data",
          "data": {
            "text/plain": [
              "  lambdas     mus      bs\n",
              "1 0.089301011 1.528918  1\n",
              "2 0.432391373 1.553064  2\n",
              "3 0.544962116 2.042214  4\n",
              "4 0.138224346 1.447378  7\n",
              "5 0.927812252 1.815850  9\n",
              "6 0.001301721 2.229751 10"
            ],
            "text/html": [
              "<table class=\"dataframe\">\n",
              "<caption>A data.frame: 6 × 3</caption>\n",
              "<thead>\n",
              "\t<tr><th scope=col>lambdas</th><th scope=col>mus</th><th scope=col>bs</th></tr>\n",
              "\t<tr><th scope=col>&lt;dbl&gt;</th><th scope=col>&lt;dbl&gt;</th><th scope=col>&lt;int&gt;</th></tr>\n",
              "</thead>\n",
              "<tbody>\n",
              "\t<tr><td>0.089301011</td><td>1.528918</td><td> 1</td></tr>\n",
              "\t<tr><td>0.432391373</td><td>1.553064</td><td> 2</td></tr>\n",
              "\t<tr><td>0.544962116</td><td>2.042214</td><td> 4</td></tr>\n",
              "\t<tr><td>0.138224346</td><td>1.447378</td><td> 7</td></tr>\n",
              "\t<tr><td>0.927812252</td><td>1.815850</td><td> 9</td></tr>\n",
              "\t<tr><td>0.001301721</td><td>2.229751</td><td>10</td></tr>\n",
              "</tbody>\n",
              "</table>\n"
            ],
            "text/markdown": "\nA data.frame: 6 × 3\n\n| lambdas &lt;dbl&gt; | mus &lt;dbl&gt; | bs &lt;int&gt; |\n|---|---|---|\n| 0.089301011 | 1.528918 |  1 |\n| 0.432391373 | 1.553064 |  2 |\n| 0.544962116 | 2.042214 |  4 |\n| 0.138224346 | 1.447378 |  7 |\n| 0.927812252 | 1.815850 |  9 |\n| 0.001301721 | 2.229751 | 10 |\n\n",
            "text/latex": "A data.frame: 6 × 3\n\\begin{tabular}{lll}\n lambdas & mus & bs\\\\\n <dbl> & <dbl> & <int>\\\\\n\\hline\n\t 0.089301011 & 1.528918 &  1\\\\\n\t 0.432391373 & 1.553064 &  2\\\\\n\t 0.544962116 & 2.042214 &  4\\\\\n\t 0.138224346 & 1.447378 &  7\\\\\n\t 0.927812252 & 1.815850 &  9\\\\\n\t 0.001301721 & 2.229751 & 10\\\\\n\\end{tabular}\n"
          },
          "metadata": {}
        }
      ],
      "source": [
        "Variant<-8\n",
        "set.seed(Variant) \n",
        "P<-sample(c(4, 6),1)\n",
        "V<-sample(c(\"V1\", \"V2\", \"V3\", \"V4\"),1)\n",
        "if ((V==\"V3\") | (V==\"V4\")){\n",
        "    bs<-sort(sample(c(1:10),P))\n",
        "}\n",
        "lambdas<-runif(P)\n",
        "mus<-runif(P,1,3)\n",
        "View(data.frame(P,V))\n",
        "if ((V==\"V3\") | (V==\"V4\")) {View(data.frame(lambdas, mus, bs))}\n",
        "if ((V==\"V1\") | (V==\"V2\")) {View(data.frame(lambdas, mus))}\n"
      ]
    },
    {
      "cell_type": "markdown",
      "source": [
        "Теоретическая часть:\n",
        "\n"
      ],
      "metadata": {
        "id": "XSjwL6CptGAG"
      },
      "id": "XSjwL6CptGAG"
    },
    {
      "cell_type": "markdown",
      "source": [
        "$$\\lambda=\\sum_{p=1}^P\\lambda_p$$\n",
        "$$\\frac{1}{\\mu}=\\sum_{p=1}^P \\frac{\\lambda_p}{\\lambda}\\cdot \\frac{1}{\\mu_p}$$\n",
        "$$\\rho_p=\\frac{\\lambda_p}{\\mu_p}$$\n",
        "$$\\rho=\\frac{\\lambda}{\\mu}=\\sum_{p=1}^P \\rho_p$$\n",
        "$$W_0=\\sum_{p=1}^P\\frac{\\rho_p}{\\mu_p}$$"
      ],
      "metadata": {
        "id": "zP_NIwusVXEa"
      },
      "id": "zP_NIwusVXEa"
    },
    {
      "cell_type": "markdown",
      "source": [
        "Рекуррентная зависимость $W_p$ от $W_i$ для заявок с низшими приоритетами **для системы приоритета с зависимой задержкой с прерыванием**:\n",
        "$$0\\leq\\rho<1: W_p=\\frac{1}{1-\\sum_{i=p+1}^P\\rho_i\\cdot\\left(1-\\frac{b_p}{b_i}\\right)}\\cdot$$ $$\\left(\\frac{W_0}{1-\\rho}+\\sum_{i=p+1}^P\\frac{\\rho_i}{\\mu_p}\\cdot \\left(1-\\frac{b_p}{b_i}\\right)-\\sum_{i=1}^{p-1}\\frac{\\rho_i}{\\mu_i}\\cdot\\left(1-\\frac{b_i}{b_p}\\right)-\\sum_{i=1}^{p-1}\\rho_i\\cdot W_i\\cdot \\left(1-\\frac{b_i}{b_p}\\right)\\right)$$\n",
        "\n",
        "Для более наглядного представления введем обозначения:\n",
        "\n",
        "$$A = 1 - \\sum_{i = p+1}^P \\rho_i \\cdot \\left( 1 - \\frac{b_p}{b_i} \\right) $$\n",
        "\n",
        "$$B = \\frac{W_0}{1-\\rho} $$\n",
        "\n",
        "$$C = \\sum_{i=p+1}^P\\frac{\\rho_i}{\\mu_p}\\cdot \\left(1-\\frac{b_p}{b_i}\\right) $$\n",
        "\n",
        "$$D = \\sum_{i=1}^{p-1}\\frac{\\rho_i}{\\mu_i}\\cdot\\left(1-\\frac{b_i}{b_p}\\right) $$\n",
        "\n",
        "$$E = \\sum_{i=1}^{p-1}\\rho_i\\cdot W_i\\cdot \\left(1-\\frac{b_i}{b_p}\\right) $$\n",
        "\n",
        "Тогда формулу для нахождения $W_p$ можно записать в виде:\n",
        "\n",
        "$$ W_p = \\frac{B + C - D - E}{A}$$"
      ],
      "metadata": {
        "id": "EYBZqb63NxJA"
      },
      "id": "EYBZqb63NxJA"
    },
    {
      "cell_type": "markdown",
      "source": [
        "Реализуем теоретическую часть в среде R:"
      ],
      "metadata": {
        "id": "VxiqAJk82uDk"
      },
      "id": "VxiqAJk82uDk"
    },
    {
      "cell_type": "code",
      "source": [
        "# функция суммирования\n",
        "summ <- function(from, to, expr) {\n",
        "  if (from > to) {\n",
        "    return(0)\n",
        "  }\n",
        "  res <- 0\n",
        "  for (i in (from:to)) {\n",
        "    res <- res + expr(i)\n",
        "  }\n",
        "  return(res)\n",
        "}"
      ],
      "metadata": {
        "id": "NvEoxIE62yfX"
      },
      "id": "NvEoxIE62yfX",
      "execution_count": 95,
      "outputs": []
    },
    {
      "cell_type": "code",
      "source": [
        "rhos <- lambdas/mus\n",
        "rho <- sum(rhos)\n",
        "rho\n",
        "\n",
        "# rho > 1, уменьшим увеличим mus на 0.5\n",
        "mus <- mus + 0.5\n",
        "\n",
        "rhos <- lambdas/mus\n",
        "rho <- sum(rhos)\n",
        "rho"
      ],
      "metadata": {
        "colab": {
          "base_uri": "https://localhost:8080/",
          "height": 52
        },
        "id": "-Y8KaXI3Rr0h",
        "outputId": "9aae9a55-543e-4746-cb29-ef93f7947ee4"
      },
      "id": "-Y8KaXI3Rr0h",
      "execution_count": 96,
      "outputs": [
        {
          "output_type": "display_data",
          "data": {
            "text/html": [
              "1.21070419863221"
            ],
            "text/markdown": "1.21070419863221",
            "text/latex": "1.21070419863221",
            "text/plain": [
              "[1] 1.210704"
            ]
          },
          "metadata": {}
        },
        {
          "output_type": "display_data",
          "data": {
            "text/html": [
              "0.941079460219965"
            ],
            "text/markdown": "0.941079460219965",
            "text/latex": "0.941079460219965",
            "text/plain": [
              "[1] 0.9410795"
            ]
          },
          "metadata": {}
        }
      ]
    },
    {
      "cell_type": "markdown",
      "source": [
        "Рекуррентная зависимость $W_p$ от $W_i$ для заявок с низшими приоритетами **для системы приоритета с зависимой задержкой с прерыванием**:\n",
        "$$0\\leq\\rho<1: W_p=\\frac{1}{1-\\sum_{i=p+1}^P\\rho_i\\cdot\\left(1-\\frac{b_p}{b_i}\\right)}\\cdot$$ $$\\left(\\frac{W_0}{1-\\rho}+\\sum_{i=p+1}^P\\frac{\\rho_i}{\\mu_p}\\cdot \\left(1-\\frac{b_p}{b_i}\\right)-\\sum_{i=1}^{p-1}\\frac{\\rho_i}{\\mu_i}\\cdot\\left(1-\\frac{b_i}{b_p}\\right)-\\sum_{i=1}^{p-1}\\rho_i\\cdot W_i\\cdot \\left(1-\\frac{b_i}{b_p}\\right)\\right)$$\n",
        "\n",
        "Для более наглядного представления введем обозначения:\n",
        "\n",
        "$$A = 1 - \\sum_{i = p+1}^P \\rho_i \\cdot \\left( 1 - \\frac{b_p}{b_i} \\right) $$\n",
        "\n",
        "$$B = \\frac{W_0}{1-\\rho} $$\n",
        "\n",
        "$$C = \\sum_{i=p+1}^P\\frac{\\rho_i}{\\mu_p}\\cdot \\left(1-\\frac{b_p}{b_i}\\right) $$\n",
        "\n",
        "$$D = \\sum_{i=1}^{p-1}\\frac{\\rho_i}{\\mu_i}\\cdot\\left(1-\\frac{b_i}{b_p}\\right) $$\n",
        "\n",
        "$$E = \\sum_{i=1}^{p-1}\\rho_i\\cdot W_i\\cdot \\left(1-\\frac{b_i}{b_p}\\right) $$\n",
        "\n",
        "Тогда формулу для нахождения $W_p$ можно записать в виде:\n",
        "\n",
        "$$ W_p = \\frac{B + C - D - E}{A}$$"
      ],
      "metadata": {
        "id": "oVGUYhfaZS-a"
      },
      "id": "oVGUYhfaZS-a"
    },
    {
      "cell_type": "code",
      "source": [
        "W0 <- sum(rhos/mus)\n",
        "\n",
        "A <- function(p) {\n",
        "  return(\n",
        "    1 - summ(p + 1, P, function(i) {\n",
        "      return(\n",
        "        rhos[i] * (1 - bs[p] / bs[i])\n",
        "        )\n",
        "      }\n",
        "    )\n",
        "  )\n",
        "}\n",
        "\n",
        "B <- W0 / (1 - rho)\n",
        "\n",
        "C <- function(p) {\n",
        "  return(\n",
        "    summ(p+1, P, function(i) {\n",
        "      return(\n",
        "        (rhos[i] / mus[p]) * (1 - bs[p] / bs[i])\n",
        "      )\n",
        "    })\n",
        "  )\n",
        "}\n",
        "\n",
        "D <- function(p) {\n",
        "  return(\n",
        "    summ(1, p-1, function(i) {\n",
        "      return(\n",
        "        (rhos[i] / mus[i]) * (1 - bs[i] / bs[p])\n",
        "        )\n",
        "    })\n",
        "  )\n",
        "}\n",
        "\n",
        "E <- function(p, W) {\n",
        "  return(\n",
        "    summ(1, p-1, function(i) {\n",
        "      return(\n",
        "        rhos[i] * W[i] * (1 - bs[i] / bs[p])\n",
        "        )\n",
        "    })\n",
        "  )\n",
        "}"
      ],
      "metadata": {
        "id": "kjvP_sIwNCRK"
      },
      "id": "kjvP_sIwNCRK",
      "execution_count": 97,
      "outputs": []
    },
    {
      "cell_type": "code",
      "source": [
        "Ws <- double(P)\n",
        "Ws[1] <- (B + C(1) - D(1)) / A(1)\n",
        "\n",
        "for (p in (2:P)) {\n",
        "  Ws[p] <- (B + C(p) - D(p) - E(p, Ws)) / A(1)\n",
        "}\n",
        "\n",
        "printf <- function(...)print(sprintf(...))\n",
        "\n",
        "for (i in 1:P) {\n",
        "   cat(i,\"\\t\",  Ws[i],'\\n')\n",
        "}"
      ],
      "metadata": {
        "colab": {
          "base_uri": "https://localhost:8080/"
        },
        "id": "6z8n-vo9c84l",
        "outputId": "a05be6db-c7d6-4062-f7b0-64528c24ea1e"
      },
      "id": "6z8n-vo9c84l",
      "execution_count": 98,
      "outputs": [
        {
          "output_type": "stream",
          "name": "stdout",
          "text": [
            "1 \t 23.4885 \n",
            "2 \t 21.47999 \n",
            "3 \t 12.93006 \n",
            "4 \t 5.40369 \n",
            "5 \t 2.784587 \n",
            "6 \t 1.511347 \n"
          ]
        }
      ]
    },
    {
      "cell_type": "markdown",
      "source": [
        "Практическая часть, реализованная в среде R:"
      ],
      "metadata": {
        "id": "yzepS8N92zHi"
      },
      "id": "yzepS8N92zHi"
    },
    {
      "cell_type": "code",
      "source": [
        "N <- 10000000  # Число тиков (прибавления дельт времени)\n",
        "dt <- 0.001      # Тик (Дельта времени)\n",
        "curTime <- 0   # Текущее время симуляции\n",
        "\n",
        "buffer <- c() # буфер заявок в систему, обрабатывается первая заявка\n",
        "bufferReceiveAt <- c() # буфер моментов времени, когда заявки появились в системе\n",
        "bufferPriority <- c() # буфер приоритетов заявок\n",
        "bufferType <- c() # буфер типов заявок\n",
        "\n",
        "timeInSystByType <- double(P) # сколько времени находились в системе заявки каждого из P типов\n",
        "numOfSuccesfulReqsByType <- integer(P) # суммарное число обработанных заявок каждого из P типов\n",
        "\n",
        "receiveReqAtByPriority <- double(P)\n",
        "for (p in 1:P) {\n",
        "  receiveReqAtByPriority[p] <- rexp(1, lambdas[p])\n",
        "}\n",
        "\n",
        "getHandleDuration <- function(p) {\n",
        "  return (rexp(1, mus[p]))\n",
        "}\n",
        "\n",
        "for (i in 1:N) {\n",
        "  curTime <- curTime + dt\n",
        "\n",
        "  # Поступление новых заявок\n",
        "  for (p in 1:P) {\n",
        "    if (curTime >= receiveReqAtByPriority[p]) {\n",
        "      buffer <- append(buffer, getHandleDuration(p))\n",
        "      bufferReceiveAt <- append(bufferReceiveAt, receiveReqAtByPriority[p])\n",
        "      bufferType <- append(bufferType, p)\n",
        "\n",
        "      receiveReqAtByPriority[p] <- receiveReqAtByPriority[p] + rexp(1, lambdas[p])\n",
        "    }\n",
        "  }\n",
        "\n",
        "  # обновление приоритетов\n",
        "  for (j in 1:length(buffer)) {\n",
        "    bufferPriority[j] <- (curTime - bufferReceiveAt[j]) * bs[bufferType[j]]\n",
        "  }\n",
        "\n",
        "  # сокращение времени обработки текущей программы, которая находится на сервере.\n",
        "  if (length(buffer) > 0) {\n",
        "    maxPriorityReqID <- which.max(bufferPriority)\n",
        "\n",
        "    # swap\n",
        "    if (maxPriorityReqID != 1) {\n",
        "      #print(maxPriorityReqID)\n",
        "      b1 <- buffer[1]\n",
        "      b1RecAt <- bufferReceiveAt[1]\n",
        "      b1Priority <- bufferPriority[1]\n",
        "      b1Type <- bufferType[1]\n",
        "\n",
        "      buffer[1] <- buffer[maxPriorityReqID]\n",
        "      bufferReceiveAt[1] <- bufferReceiveAt[maxPriorityReqID]\n",
        "      bufferPriority[1] <- bufferPriority[maxPriorityReqID]\n",
        "      bufferType[1] <- bufferType[maxPriorityReqID]\n",
        "\n",
        "      buffer[maxPriorityReqID] <- b1\n",
        "      bufferReceiveAt[maxPriorityReqID] <- b1RecAt\n",
        "      bufferPriority[maxPriorityReqID] <- b1Priority\n",
        "      bufferType[maxPriorityReqID] <- b1Type\n",
        "    }\n",
        "\n",
        "    buffer[1] <- buffer[1] - dt\n",
        "    if (buffer[1] <= 0) {\n",
        "      numOfSuccesfulReqsByType[bufferType[1]] <- numOfSuccesfulReqsByType[bufferType[1]] + 1\n",
        "      timeInSystByType[bufferType[1]] <- timeInSystByType[bufferType[1]] + curTime - bufferReceiveAt[1]\n",
        "\n",
        "      buffer <- buffer[-1]\n",
        "      bufferReceiveAt <- bufferReceiveAt[-1]\n",
        "      bufferPriority <- bufferPriority[-1]\n",
        "      bufferType <- bufferType[-1]\n",
        "    }\n",
        "  }\n",
        "}"
      ],
      "metadata": {
        "id": "EPG2hmiCgKfB"
      },
      "id": "EPG2hmiCgKfB",
      "execution_count": 115,
      "outputs": []
    },
    {
      "cell_type": "code",
      "source": [
        "numOfSuccesfulReqsByType\n",
        "lambdas\n",
        "timeInSystByType"
      ],
      "metadata": {
        "colab": {
          "base_uri": "https://localhost:8080/",
          "height": 69
        },
        "id": "P2POhFrer7Um",
        "outputId": "7839e2c5-8f16-4eb9-a90e-539e060d7163"
      },
      "id": "P2POhFrer7Um",
      "execution_count": 116,
      "outputs": [
        {
          "output_type": "display_data",
          "data": {
            "text/html": [
              "<style>\n",
              ".list-inline {list-style: none; margin:0; padding: 0}\n",
              ".list-inline>li {display: inline-block}\n",
              ".list-inline>li:not(:last-child)::after {content: \"\\00b7\"; padding: 0 .5ex}\n",
              "</style>\n",
              "<ol class=list-inline><li>852</li><li>4335</li><li>5500</li><li>1384</li><li>9250</li><li>17</li></ol>\n"
            ],
            "text/markdown": "1. 852\n2. 4335\n3. 5500\n4. 1384\n5. 9250\n6. 17\n\n\n",
            "text/latex": "\\begin{enumerate*}\n\\item 852\n\\item 4335\n\\item 5500\n\\item 1384\n\\item 9250\n\\item 17\n\\end{enumerate*}\n",
            "text/plain": [
              "[1]  852 4335 5500 1384 9250   17"
            ]
          },
          "metadata": {}
        },
        {
          "output_type": "display_data",
          "data": {
            "text/html": [
              "<style>\n",
              ".list-inline {list-style: none; margin:0; padding: 0}\n",
              ".list-inline>li {display: inline-block}\n",
              ".list-inline>li:not(:last-child)::after {content: \"\\00b7\"; padding: 0 .5ex}\n",
              "</style>\n",
              "<ol class=list-inline><li>0.0893010105937719</li><li>0.432391373440623</li><li>0.544962115585804</li><li>0.138224346097559</li><li>0.927812252193689</li><li>0.00130172143690288</li></ol>\n"
            ],
            "text/markdown": "1. 0.0893010105937719\n2. 0.432391373440623\n3. 0.544962115585804\n4. 0.138224346097559\n5. 0.927812252193689\n6. 0.00130172143690288\n\n\n",
            "text/latex": "\\begin{enumerate*}\n\\item 0.0893010105937719\n\\item 0.432391373440623\n\\item 0.544962115585804\n\\item 0.138224346097559\n\\item 0.927812252193689\n\\item 0.00130172143690288\n\\end{enumerate*}\n",
            "text/plain": [
              "[1] 0.089301011 0.432391373 0.544962116 0.138224346 0.927812252 0.001301721"
            ]
          },
          "metadata": {}
        },
        {
          "output_type": "display_data",
          "data": {
            "text/html": [
              "<style>\n",
              ".list-inline {list-style: none; margin:0; padding: 0}\n",
              ".list-inline>li {display: inline-block}\n",
              ".list-inline>li:not(:last-child)::after {content: \"\\00b7\"; padding: 0 .5ex}\n",
              "</style>\n",
              "<ol class=list-inline><li>19441.4330295997</li><li>54501.270729582</li><li>37103.7941735913</li><li>5603.63758920584</li><li>30396.9029773183</li><li>53.4455530912546</li></ol>\n"
            ],
            "text/markdown": "1. 19441.4330295997\n2. 54501.270729582\n3. 37103.7941735913\n4. 5603.63758920584\n5. 30396.9029773183\n6. 53.4455530912546\n\n\n",
            "text/latex": "\\begin{enumerate*}\n\\item 19441.4330295997\n\\item 54501.270729582\n\\item 37103.7941735913\n\\item 5603.63758920584\n\\item 30396.9029773183\n\\item 53.4455530912546\n\\end{enumerate*}\n",
            "text/plain": [
              "[1] 19441.43303 54501.27073 37103.79417  5603.63759 30396.90298    53.44555"
            ]
          },
          "metadata": {}
        }
      ]
    },
    {
      "cell_type": "code",
      "source": [
        "res <- timeInSystByType / numOfSuccesfulReqsByType\n",
        "for (p in 1:P) {\n",
        "  print(res[p])\n",
        "}"
      ],
      "metadata": {
        "colab": {
          "base_uri": "https://localhost:8080/"
        },
        "id": "90lCeAa3q4l2",
        "outputId": "66c6ec32-48eb-421d-9189-eba2b2ede4f6"
      },
      "id": "90lCeAa3q4l2",
      "execution_count": 117,
      "outputs": [
        {
          "output_type": "stream",
          "name": "stdout",
          "text": [
            "[1] 22.81858\n",
            "[1] 12.57238\n",
            "[1] 6.746144\n",
            "[1] 4.048871\n",
            "[1] 3.286152\n",
            "[1] 3.143856\n"
          ]
        }
      ]
    }
  ],
  "metadata": {
    "kernelspec": {
      "display_name": "R",
      "language": "R",
      "name": "ir"
    },
    "language_info": {
      "codemirror_mode": "r",
      "file_extension": ".r",
      "mimetype": "text/x-r-source",
      "name": "R",
      "pygments_lexer": "r",
      "version": "4.2.2"
    },
    "colab": {
      "provenance": [],
      "include_colab_link": true
    }
  },
  "nbformat": 4,
  "nbformat_minor": 5
}