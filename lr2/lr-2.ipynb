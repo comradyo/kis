{
  "cells": [
    {
      "cell_type": "markdown",
      "metadata": {
        "id": "view-in-github",
        "colab_type": "text"
      },
      "source": [
        "<a href=\"https://colab.research.google.com/github/comradyo/kis/blob/main/lr2/lr-2.ipynb\" target=\"_parent\"><img src=\"https://colab.research.google.com/assets/colab-badge.svg\" alt=\"Open In Colab\"/></a>"
      ]
    },
    {
      "cell_type": "markdown",
      "id": "87fefa8a-beea-4827-ac49-806933db26aa",
      "metadata": {
        "id": "87fefa8a-beea-4827-ac49-806933db26aa"
      },
      "source": [
        "# Лабораторная работа 2. Методы анализа параметров компонентов моделей функционирования КИС"
      ]
    },
    {
      "cell_type": "markdown",
      "id": "336e7746-cdf6-4b89-8702-a8d1bf0cf7ba",
      "metadata": {
        "id": "336e7746-cdf6-4b89-8702-a8d1bf0cf7ba"
      },
      "source": [
        "## Задание 1.\n",
        "\n",
        "Заданы три независимые целочисленные неотрицательные случайные величины $X_1, X_2, X_3$, необходимо найти:\n",
        "- математическое ожидание, \n",
        "- дисперсию, \n",
        "- среднее квадратическое отклонение, \n",
        "- коэффициент вариации \n",
        "\n",
        "случайной величины $X_1+X_2+X_3$ численно и теоретически (из определения и с использованием производящей функции).\n",
        "В таблице ниже представлены соответствия значений случайной величины и их вероятности. "
      ]
    },
    {
      "cell_type": "code",
      "execution_count": null,
      "id": "02188160-4285-4b58-adeb-e991ac17b34e",
      "metadata": {
        "id": "02188160-4285-4b58-adeb-e991ac17b34e"
      },
      "outputs": [],
      "source": [
        "Variant<-8\n",
        "set.seed(Variant) \n",
        "X1<-sample(c(1:20),5)\n",
        "X2<-sample(c(3:100),5)\n",
        "X3<-sample(c(0:40),5)\n",
        "pp1<-runif(5)\n",
        "p1<-pp1/sum(pp1)\n",
        "pp2<-runif(5)\n",
        "p2<-pp2/sum(pp2)\n",
        "pp3<-runif(5)\n",
        "p3<-pp3/sum(pp3)"
      ]
    },
    {
      "cell_type": "code",
      "execution_count": null,
      "id": "586ec80f-58c8-4a6f-8b54-5b9ad8723fec",
      "metadata": {
        "id": "586ec80f-58c8-4a6f-8b54-5b9ad8723fec",
        "outputId": "ff5959ac-929b-44a7-861c-641445b0142e",
        "colab": {
          "base_uri": "https://localhost:8080/",
          "height": 255
        }
      },
      "outputs": [
        {
          "output_type": "display_data",
          "data": {
            "text/plain": [
              "  X1 X2 X3 p1        p2         p3        \n",
              "1 20 44 34 0.1417121 0.04319863 0.25161206\n",
              "2  2  3  5 0.2136064 0.27043601 0.37736297\n",
              "3 15 95 21 0.0746814 0.23317449 0.07386225\n",
              "4 12 52 10 0.2304178 0.36122455 0.15866802\n",
              "5  7  5  3 0.3395822 0.09196632 0.13849469"
            ],
            "text/html": [
              "<table class=\"dataframe\">\n",
              "<caption>A data.frame: 5 × 6</caption>\n",
              "<thead>\n",
              "\t<tr><th scope=col>X1</th><th scope=col>X2</th><th scope=col>X3</th><th scope=col>p1</th><th scope=col>p2</th><th scope=col>p3</th></tr>\n",
              "\t<tr><th scope=col>&lt;int&gt;</th><th scope=col>&lt;int&gt;</th><th scope=col>&lt;int&gt;</th><th scope=col>&lt;dbl&gt;</th><th scope=col>&lt;dbl&gt;</th><th scope=col>&lt;dbl&gt;</th></tr>\n",
              "</thead>\n",
              "<tbody>\n",
              "\t<tr><td>20</td><td>44</td><td>34</td><td>0.1417121</td><td>0.04319863</td><td>0.25161206</td></tr>\n",
              "\t<tr><td> 2</td><td> 3</td><td> 5</td><td>0.2136064</td><td>0.27043601</td><td>0.37736297</td></tr>\n",
              "\t<tr><td>15</td><td>95</td><td>21</td><td>0.0746814</td><td>0.23317449</td><td>0.07386225</td></tr>\n",
              "\t<tr><td>12</td><td>52</td><td>10</td><td>0.2304178</td><td>0.36122455</td><td>0.15866802</td></tr>\n",
              "\t<tr><td> 7</td><td> 5</td><td> 3</td><td>0.3395822</td><td>0.09196632</td><td>0.13849469</td></tr>\n",
              "</tbody>\n",
              "</table>\n"
            ],
            "text/markdown": "\nA data.frame: 5 × 6\n\n| X1 &lt;int&gt; | X2 &lt;int&gt; | X3 &lt;int&gt; | p1 &lt;dbl&gt; | p2 &lt;dbl&gt; | p3 &lt;dbl&gt; |\n|---|---|---|---|---|---|\n| 20 | 44 | 34 | 0.1417121 | 0.04319863 | 0.25161206 |\n|  2 |  3 |  5 | 0.2136064 | 0.27043601 | 0.37736297 |\n| 15 | 95 | 21 | 0.0746814 | 0.23317449 | 0.07386225 |\n| 12 | 52 | 10 | 0.2304178 | 0.36122455 | 0.15866802 |\n|  7 |  5 |  3 | 0.3395822 | 0.09196632 | 0.13849469 |\n\n",
            "text/latex": "A data.frame: 5 × 6\n\\begin{tabular}{llllll}\n X1 & X2 & X3 & p1 & p2 & p3\\\\\n <int> & <int> & <int> & <dbl> & <dbl> & <dbl>\\\\\n\\hline\n\t 20 & 44 & 34 & 0.1417121 & 0.04319863 & 0.25161206\\\\\n\t  2 &  3 &  5 & 0.2136064 & 0.27043601 & 0.37736297\\\\\n\t 15 & 95 & 21 & 0.0746814 & 0.23317449 & 0.07386225\\\\\n\t 12 & 52 & 10 & 0.2304178 & 0.36122455 & 0.15866802\\\\\n\t  7 &  5 &  3 & 0.3395822 & 0.09196632 & 0.13849469\\\\\n\\end{tabular}\n"
          },
          "metadata": {}
        }
      ],
      "source": [
        "View(data.frame(X1, X2, X3, p1, p2, p3))"
      ]
    },
    {
      "cell_type": "markdown",
      "source": [
        "In R one can have objects of type \"expression\". An expression contains one or more statements. A **statement** is a syntactically correct collection of tokens. **Expression** objects are special\n",
        "language objects which contain parsed but unevaluated R statements. The main difference is\n",
        "that an expression object can contain several such expressions. Objects of type \"expression\" are only evaluated when explicitly (явно) passed to eval, whereas\n",
        "other language objects may get evaluated in some unexpected cases."
      ],
      "metadata": {
        "id": "LPWFnE3YPg1v"
      },
      "id": "LPWFnE3YPg1v"
    },
    {
      "cell_type": "markdown",
      "source": [
        "Производящая функция случайной величины:\n",
        "$$P_{\\zeta}(z)=\\sum_{n=0}^\\infty p_nz^n$$\n",
        "Свойства производящей функции\n",
        "\n",
        "1. $$P_{\\zeta}(1)=1$$\n",
        "2. $$M(\\zeta)=P'_{\\zeta}(z)|_{z=1}$$\n",
        "3. $$D(\\zeta)=P''_{\\zeta}(z)|_{z=1}+P'_{\\zeta}(z)|_{z=1}-\\left(P'_{\\zeta}(z)\\right)^2|_{z=1}$$\n",
        "4. $$p_n=\\frac{1}{n!}\\frac{d^n P_{\\zeta}(z)}{dz^n}|_{z=0}$$\n",
        "5. Если $\\zeta_1, \\zeta_2$ две независимые целочисленные случайные неотрицательные величины, то\n",
        "$$P_{\\zeta_1+\\zeta_2}(z)=P_{\\zeta_1}(z)\\cdot P_{\\zeta_2}(z)$$\n",
        "6. Если $\\zeta=\\sum_{i=1}^{v}\\zeta_i$, где $v$ - целочисленная неотрицательная случайная величина, $\\forall i: \\zeta_i$ - одинаково распределенные независимые целочисленные неотрицательные случайные величины, то\n",
        "$$P_{\\zeta}(z)=P_v\\left(P_{\\zeta_i}(z)\\right)$$\n",
        "Если $\\zeta_i$ непрерывные случайные величины, то\n",
        "$$\\beta_{\\zeta}(s)=P_v\\left(\\beta_{\\zeta_i}(s)\\right)$$"
      ],
      "metadata": {
        "id": "bhzAq8a1ZQwh"
      },
      "id": "bhzAq8a1ZQwh"
    },
    {
      "cell_type": "markdown",
      "source": [
        "Воспользуемся этими свойствами для выполнения задания."
      ],
      "metadata": {
        "id": "dXR0Iz-QaIx0"
      },
      "id": "dXR0Iz-QaIx0"
    },
    {
      "cell_type": "markdown",
      "source": [
        "Проведем теоретическое моделирование в среде R:"
      ],
      "metadata": {
        "id": "vAuxiXLmk2lr"
      },
      "id": "vAuxiXLmk2lr"
    },
    {
      "cell_type": "code",
      "source": [
        "# производная n-го порядка\n",
        "DD <- function(expr, name, order = 1) {\n",
        "  if(order < 1) stop(\"'order' must be >= 1\")\n",
        "  if(order == 1) return(D(expr, name))\n",
        "  else return(DD(D(expr, name), name, order - 1))\n",
        "}"
      ],
      "metadata": {
        "id": "vxjXFBzNQmHr"
      },
      "id": "vxjXFBzNQmHr",
      "execution_count": null,
      "outputs": []
    },
    {
      "cell_type": "code",
      "source": [
        "Px1<-\"\"; Px2<-\"\"; Px3<-\"\"\n",
        "\n",
        "for (i in (1:5)) {\n",
        "  Px1<-paste(Px1, \"+\",p1[i],\"*z^\",X1[i])\n",
        "  Px2<-paste(Px2, \"+\",p2[i],\"*z^\",X2[i])\n",
        "  Px3<-paste(Px3, \"+\",p3[i],\"*z^\",X3[i])\n",
        "}\n",
        "\n",
        "Px_temp <-paste(\"(\",Px1,\")*(\",Px2,\")*(\",Px3,\")\")"
      ],
      "metadata": {
        "id": "hW0kamPcQpC9"
      },
      "id": "hW0kamPcQpC9",
      "execution_count": null,
      "outputs": []
    },
    {
      "cell_type": "code",
      "source": [
        "# string -> expression \n",
        "Px_ <- parse(text=Px_temp)\n",
        "# Evaluate (вычислить) an R expression in a specified environment.\n",
        "# В данном случае Px_ - это expression, в котором 'z' - аргумент.\n",
        "Px <- function(z) {eval(Px_)} # Производящая функция\n",
        "\n",
        "DPx_ <- D(Px_, 'z')\n",
        "DDPx_ <- DD(Px_, 'z', 2)"
      ],
      "metadata": {
        "id": "mMLUdLwnQrkL"
      },
      "id": "mMLUdLwnQrkL",
      "execution_count": null,
      "outputs": []
    },
    {
      "cell_type": "code",
      "source": [
        "# Мат. ожидание\n",
        "Mx <- function(z) {eval(DPx_)}\n",
        "# дисперсия\n",
        "Dx <- function(z) {eval(DDPx_) + eval(DPx_) - eval(DPx_) ^ 2}\n",
        "# среднеквадратичное отклонение\n",
        "MSD <- function(z) {sqrt(Dx(z))}\n",
        "# коэффициент вариации\n",
        "COV <- function(z) {MSD(z) * 100 / Mx(z)}"
      ],
      "metadata": {
        "id": "VbZCUlrfQtnM"
      },
      "id": "VbZCUlrfQtnM",
      "execution_count": null,
      "outputs": []
    },
    {
      "cell_type": "code",
      "source": [
        "Px(1)\n",
        "Mx(1)\n",
        "Dx(1)\n",
        "MSD(1)\n",
        "COV(1)"
      ],
      "metadata": {
        "colab": {
          "base_uri": "https://localhost:8080/",
          "height": 104
        },
        "id": "qQmybfDzQxHa",
        "outputId": "8408c5df-a0e8-4c29-9694-aa4f9b42044c"
      },
      "id": "qQmybfDzQxHa",
      "execution_count": null,
      "outputs": [
        {
          "output_type": "display_data",
          "data": {
            "text/html": [
              "1"
            ],
            "text/markdown": "1",
            "text/latex": "1",
            "text/plain": [
              "[1] 1"
            ]
          },
          "metadata": {}
        },
        {
          "output_type": "display_data",
          "data": {
            "text/html": [
              "67.6257946413309"
            ],
            "text/markdown": "67.6257946413309",
            "text/latex": "67.6257946413309",
            "text/plain": [
              "[1] 67.62579"
            ]
          },
          "metadata": {}
        },
        {
          "output_type": "display_data",
          "data": {
            "text/html": [
              "1411.66461787112"
            ],
            "text/markdown": "1411.66461787112",
            "text/latex": "1411.66461787112",
            "text/plain": [
              "[1] 1411.665"
            ]
          },
          "metadata": {}
        },
        {
          "output_type": "display_data",
          "data": {
            "text/html": [
              "37.5721255436943"
            ],
            "text/markdown": "37.5721255436943",
            "text/latex": "37.5721255436943",
            "text/plain": [
              "[1] 37.57213"
            ]
          },
          "metadata": {}
        },
        {
          "output_type": "display_data",
          "data": {
            "text/html": [
              "55.5588673567043"
            ],
            "text/markdown": "55.5588673567043",
            "text/latex": "55.5588673567043",
            "text/plain": [
              "[1] 55.55887"
            ]
          },
          "metadata": {}
        }
      ]
    },
    {
      "cell_type": "markdown",
      "source": [
        "Проведем экспериментальное моделирование в среде R:"
      ],
      "metadata": {
        "id": "AfdRp1qak7IL"
      },
      "id": "AfdRp1qak7IL"
    },
    {
      "cell_type": "code",
      "source": [
        "#Экспериментальная часть\n",
        "\n",
        "N <- 100000\n",
        "xx1 <- c()\n",
        "xx2 <- c()\n",
        "xx3 <- c()\n",
        "for (i in c(1:N)) {\n",
        "  f<-runif(1)\n",
        "  p_left <- 0\n",
        "  p_right <- p1[1]\n",
        "  for (j in c(1:length(p1))) {\n",
        "    if ((f > p_left) & (f < p_right))\n",
        "      xx1 <- c(xx1, X1[j])\n",
        "    if (j != length(p1)) {\n",
        "      p_left <- p_right\n",
        "      p_right <- p_right + p1[j + 1]\n",
        "    }\n",
        "  }\n",
        "  \n",
        "  f<-runif(1)\n",
        "  p_left <- 0\n",
        "  p_right <- p2[1]\n",
        "  for (j in c(1:length(p2))) {\n",
        "    if ((f > p_left) & (f < p_right))\n",
        "      xx2 <- c(xx2, X2[j])\n",
        "    if (j != length(p2)) {\n",
        "      p_left <- p_right\n",
        "      p_right <- p_right + p2[j + 1]\n",
        "    }\n",
        "  }\n",
        "  \n",
        "  f<-runif(1)\n",
        "  p_left <- 0\n",
        "  p_right <- p3[1]\n",
        "  for (j in c(1:length(p3))) {\n",
        "    if ((f > p_left) & (f < p_right))\n",
        "      xx3 <- c(xx3, X3[j])\n",
        "    if (j != length(p3)) {\n",
        "      p_left <- p_right\n",
        "      p_right <- p_right + p3[j + 1]\n",
        "    }\n",
        "  }\n",
        "}\n",
        "\n",
        "print(mean(xx1 + xx2 + xx3))\n",
        "print((sd(xx1 + xx2 + xx3)) ^ 2)"
      ],
      "metadata": {
        "colab": {
          "base_uri": "https://localhost:8080/"
        },
        "id": "WoURqfo0L2YH",
        "outputId": "eccf99b5-51e7-472d-9e9b-dcac2a98c279"
      },
      "id": "WoURqfo0L2YH",
      "execution_count": null,
      "outputs": [
        {
          "output_type": "stream",
          "name": "stdout",
          "text": [
            "[1] 67.54393\n",
            "[1] 1406.668\n"
          ]
        }
      ]
    },
    {
      "cell_type": "markdown",
      "id": "e6d621e3-5b20-4829-888d-c70323d5bdce",
      "metadata": {
        "id": "e6d621e3-5b20-4829-888d-c70323d5bdce"
      },
      "source": [
        "## Задание 2.\n",
        "\n",
        "Заданы три независимые целочисленные неотрицательные случайные величины $X_1, X_2, X_3$, распределенные по закону Пуассона, необходимо найти:\n",
        "\n",
        "1. математическое ожидание, \n",
        "2. дисперсию, \n",
        "3. среднее квадратическое отклонение\n",
        "4. коэффициент вариации \n",
        "\n",
        "Случайной величины $X_1+X_2+X_3$ численно и теоретически.\n",
        "\n",
        "Параметры закона Пуассона для $X_1, X_2, X_3$ определить в соответствии с вариантом."
      ]
    },
    {
      "cell_type": "code",
      "execution_count": null,
      "id": "3ec37643-101e-4b3c-b666-021465d56f2c",
      "metadata": {
        "id": "3ec37643-101e-4b3c-b666-021465d56f2c",
        "outputId": "921d061c-1e5e-4fe6-dc50-ceb06f304d38",
        "colab": {
          "base_uri": "https://localhost:8080/",
          "height": 34
        }
      },
      "outputs": [
        {
          "output_type": "display_data",
          "data": {
            "text/html": [
              "<style>\n",
              ".list-inline {list-style: none; margin:0; padding: 0}\n",
              ".list-inline>li {display: inline-block}\n",
              ".list-inline>li:not(:last-child)::after {content: \"\\00b7\"; padding: 0 .5ex}\n",
              "</style>\n",
              "<ol class=list-inline><li>0.466295241378248</li><li>0.207823317032307</li><li>0.799657957628369</li></ol>\n"
            ],
            "text/markdown": "1. 0.466295241378248\n2. 0.207823317032307\n3. 0.799657957628369\n\n\n",
            "text/latex": "\\begin{enumerate*}\n\\item 0.466295241378248\n\\item 0.207823317032307\n\\item 0.799657957628369\n\\end{enumerate*}\n",
            "text/plain": [
              "[1] 0.4662952 0.2078233 0.7996580"
            ]
          },
          "metadata": {}
        }
      ],
      "source": [
        "Variant<-8\n",
        "set.seed(Variant) \n",
        "runif(3)"
      ]
    },
    {
      "cell_type": "markdown",
      "source": [
        "$\\lambda_1=0.466295241378248$ \n",
        "\n",
        "$\\lambda_2=0.207823317032307$\n",
        "\n",
        "$\\lambda_3=0.799657957628369$"
      ],
      "metadata": {
        "id": "5qw9SS3fGgMZ"
      },
      "id": "5qw9SS3fGgMZ"
    },
    {
      "cell_type": "markdown",
      "source": [
        "\n",
        "Производящая функция распределения случайной величины, распределенной по закону Пуассона:\n",
        "\n",
        "$$P_{\\zeta}(z)=\\sum_{n=0}^\\infty p_nz^n$$, \n",
        "где $p_n=\\frac{\\lambda^n}{n!}e^{-\\lambda}$ — вероятность того, что случайная величина $\\zeta$ примет значение $n$.\n",
        "\n",
        "Тогда $$P_{\\zeta}(z)=\\sum_{n=0}^\\infty \\frac{\\lambda^n}{n!} e^{-\\lambda}z^n = e^{-\\lambda} \\sum_{n=0}^\\infty \\frac{(\\lambda z)^n}{n!} = e^{-\\lambda} e^{\\lambda z} = e^{\\lambda (z-1)} $$\n",
        "\n",
        "Из свойств производящей функции распределения случайной величины:\n",
        "\n",
        "$$P_{X_1+X_2+X_3}(z)=P_{X_1}(z) \\cdot P_{X_2}(z) \\cdot P_{X_3}(z) = e^{\\lambda_1 (z-1) + \\lambda_2 (z-1) + \\lambda_3 (z-1)} = e^{(z-1)(\\lambda_1 + \\lambda_2 + \\lambda_3)} = e^{\\lambda(z-1)}$$\n",
        "\n",
        ", где $\\lambda = \\lambda_1 + \\lambda_2 + \\lambda_3$\n",
        "\n",
        "Тогда:\n",
        "\n",
        "$$ P'_{\\zeta}(z) = (e^{\\lambda(z-1)})' = \\lambda e^{\\lambda(z-1)} $$\n",
        "$$ P''_{\\zeta}(z) = (P'_{\\zeta}(z))' = (\\lambda e^{\\lambda(z-1)})' = \\lambda^2 e^{\\lambda(z-1)} $$\n",
        "$$M(\\zeta)=P'_{\\zeta}(z)|_{z=1} = \\lambda$$\n",
        "$$D(\\zeta)=P''_{\\zeta}(z)|_{z=1}+P'_{\\zeta}(z)|_{z=1}-\\left(P'_{\\zeta}(z)\\right)^2|_{z=1} = \\lambda^2 + \\lambda - \\lambda^2 = \\lambda $$\n",
        "\n",
        "$$\\sigma = \\sqrt{D} = \\sqrt{\\lambda}$$\n",
        "\n",
        "$$c_v=\\frac{\\sigma}{M(\\zeta)} \\cdot 100 = \\frac{\\sqrt{\\lambda}}{\\lambda}\\cdot 100 = \\frac{100}{\\sqrt{\\lambda}}$$"
      ],
      "metadata": {
        "id": "T44QkW7t_lbP"
      },
      "id": "T44QkW7t_lbP"
    },
    {
      "cell_type": "markdown",
      "source": [
        "Проведем теоретическое моделирование в среде R:"
      ],
      "metadata": {
        "id": "ei4g0tKeVmfW"
      },
      "id": "ei4g0tKeVmfW"
    },
    {
      "cell_type": "code",
      "source": [
        "# Теоретическая часть\n",
        "\n",
        "l1 <- 0.466295241378248\n",
        "l2 <- 0.207823317032307\n",
        "l3 <- 0.799657957628369\n",
        "l <- l1 + l2 + l3\n",
        "M <- l\n",
        "D <- l\n",
        "sigm <- sqrt(l)\n",
        "c_v <- 100 / sqrt(l)\n",
        "M\n",
        "D\n",
        "sigm\n",
        "c_v"
      ],
      "metadata": {
        "id": "hm0namjflBvz",
        "colab": {
          "base_uri": "https://localhost:8080/",
          "height": 86
        },
        "outputId": "6db32106-abd8-42b2-a241-a5f2fe9737dc"
      },
      "id": "hm0namjflBvz",
      "execution_count": 5,
      "outputs": [
        {
          "output_type": "display_data",
          "data": {
            "text/html": [
              "1.47377651603892"
            ],
            "text/markdown": "1.47377651603892",
            "text/latex": "1.47377651603892",
            "text/plain": [
              "[1] 1.473777"
            ]
          },
          "metadata": {}
        },
        {
          "output_type": "display_data",
          "data": {
            "text/html": [
              "1.47377651603892"
            ],
            "text/markdown": "1.47377651603892",
            "text/latex": "1.47377651603892",
            "text/plain": [
              "[1] 1.473777"
            ]
          },
          "metadata": {}
        },
        {
          "output_type": "display_data",
          "data": {
            "text/html": [
              "1.21399197527781"
            ],
            "text/markdown": "1.21399197527781",
            "text/latex": "1.21399197527781",
            "text/plain": [
              "[1] 1.213992"
            ]
          },
          "metadata": {}
        },
        {
          "output_type": "display_data",
          "data": {
            "text/html": [
              "82.3728673965211"
            ],
            "text/markdown": "82.3728673965211",
            "text/latex": "82.3728673965211",
            "text/plain": [
              "[1] 82.37287"
            ]
          },
          "metadata": {}
        }
      ]
    },
    {
      "cell_type": "markdown",
      "source": [
        "Проведем экспериментальное моделирование в среде R:"
      ],
      "metadata": {
        "id": "VDozNvlxlFmF"
      },
      "id": "VDozNvlxlFmF"
    },
    {
      "cell_type": "code",
      "source": [
        "# Экспериментальная часть\n",
        "\n",
        "N<-10000000\n",
        "l1 <- 0.466295241378248\n",
        "l2 <- 0.207823317032307\n",
        "l3 <- 0.799657957628369\n",
        "X1<-rpois(N, l1)\n",
        "X2<-rpois(N, l2)\n",
        "X3<-rpois(N, l3)\n",
        "X<-X1+X2+X3\n",
        "print(mean(X))\n",
        "print(var(X))\n",
        "print(sd(X))\n",
        "print(sd(X)/mean(X))"
      ],
      "metadata": {
        "id": "LUDRYFfClKN4",
        "colab": {
          "base_uri": "https://localhost:8080/"
        },
        "outputId": "bb3dedbe-2c55-4f27-9797-51f1bfa4f45d"
      },
      "id": "LUDRYFfClKN4",
      "execution_count": 6,
      "outputs": [
        {
          "output_type": "stream",
          "name": "stdout",
          "text": [
            "[1] 1.474135\n",
            "[1] 1.474329\n",
            "[1] 1.21422\n",
            "[1] 0.8236826\n"
          ]
        }
      ]
    },
    {
      "cell_type": "markdown",
      "id": "da414c21-adb1-4eca-9728-e16f19b2ba90",
      "metadata": {
        "id": "da414c21-adb1-4eca-9728-e16f19b2ba90"
      },
      "source": [
        "## Задание 3.\n",
        "Обработка сообщения в специализированной ВС осуществляется $K$ последовательными программами. Длительность работы\n",
        "каждой программы представляет собой случайную величину, распределенную экспоненциально со средним значением $T=\\frac{1}{\\lambda}$. \n",
        "\n",
        "Найти: \n",
        "1. Преобразование Лапласа-Стилтьеса распределения длительности обработки сообщения в ВС\n",
        "2. Математическое ожидание распределения \n",
        "3. Дисперсию распределения.\n",
        "\n",
        "Построить модель и провести численный расчет."
      ]
    },
    {
      "cell_type": "code",
      "execution_count": 18,
      "id": "de51dab9-11c2-4174-b3e7-2dbb6aece235",
      "metadata": {
        "id": "de51dab9-11c2-4174-b3e7-2dbb6aece235",
        "outputId": "ed56103c-d607-40cd-831b-6b341d9ff5e0",
        "colab": {
          "base_uri": "https://localhost:8080/",
          "height": 34
        }
      },
      "outputs": [
        {
          "output_type": "display_data",
          "data": {
            "text/html": [
              "0.460569450864568"
            ],
            "text/markdown": "0.460569450864568",
            "text/latex": "0.460569450864568",
            "text/plain": [
              "[1] 0.4605695"
            ]
          },
          "metadata": {}
        }
      ],
      "source": [
        "Variant<-8\n",
        "lambda<-runif(7)[7]\n",
        "lambda"
      ]
    },
    {
      "cell_type": "markdown",
      "source": [
        "Функция распределения вероятностей и плотность распределения случайной величины $ \\zeta $, распределенной по экспоненциальному закону распределения: \n",
        "\n",
        "$$ P(\\zeta < t) = F(t) = 1-e^{-\\lambda t} $$\n",
        "$$ f(t) = \\lambda e ^{-\\lambda t} $$\n",
        "\n",
        "Найдем преобразование Лапласа-Стилтьеса распределения длительности обработки сообщения одной из программ:\n",
        "\n",
        "$$ B(F(t)) = \\beta(s) = \\int_0^\\infty e^{-st} dF(t) = \\int_0^\\infty e^{-st} d(1-e^{-\\lambda t}) = $$ \n",
        "$$ = \\lambda \\int_0^\\infty e^{-st} e^{-\\lambda t} dt = \\lambda \\int_0^\\infty e^{t(-s-\\lambda)} dt = \\frac{\\lambda}{-s-\\lambda} \\cdot e^{t(-s-\\lambda)} |_0^\\infty = $$\n",
        "$$ = \\frac{\\lambda}{-s-\\lambda} \\cdot \\frac{1}{e^{t(s+\\lambda)}|_0^\\infty} = 0 - \\frac{\\lambda}{-s-\\lambda} = \\frac{\\lambda}{s+\\lambda} $$\n",
        "\n",
        "Найдем преобразование Лапласа-Стилтьеса распределения длительности обработки сообщения одной из программ:\n",
        "\n",
        "Преобразование Лапласа-Стильеса для $ T = \\sum_{i=1}^{k} T_i $:\n",
        "$$ \\beta_T(s)=\\prod_{i=1}^k \\beta_{T_i}(s) = (\\frac{\\lambda}{s+\\lambda}) ^ k = \\beta(s) $$\n",
        "\n",
        "Вычислим $\\beta'(s) $ и $ \\beta''(s) $:\n",
        "\n",
        "$$ \\beta'(s) = (\\frac{\\lambda^k}{(s+\\lambda)^k})' = - \\frac{\\lambda^k \\cdot k}{(s+\\lambda)^{k+1}} $$\n",
        "\n",
        "$$ \\beta''(s) = (- \\frac{\\lambda^k \\cdot k}{(s+\\lambda)^{k+1}})' = \\frac{\\lambda^k \\cdot k \\cdot (k+1) }{(s+\\lambda)^{k+2}} $$\n",
        "\n",
        "Найдем математическое ожидание распределения:\n",
        "$$M(\\zeta)=-\\beta'(0) = \\frac{k}{\\lambda}$$\n",
        "\n",
        "Найдем дисперсию распределения:\n",
        "$$D(\\zeta)=\\beta''(0)-\\left(\\beta'(0)\\right)^2 = \\frac{k(k+1)}{\\lambda^2} - \\frac{k^2}{\\lambda^2} = \\frac{k}{\\lambda^2} $$\n",
        "\n",
        "\n"
      ],
      "metadata": {
        "id": "tq58kTRBF4Y_"
      },
      "id": "tq58kTRBF4Y_"
    },
    {
      "cell_type": "markdown",
      "source": [
        "Проведем теоретическое моделирование в среде R:"
      ],
      "metadata": {
        "id": "ipazurWEo5B7"
      },
      "id": "ipazurWEo5B7"
    },
    {
      "cell_type": "code",
      "source": [
        "# Теоретическая часть\n",
        "\n",
        "k <- 10\n",
        "l <- lambda\n",
        "\n",
        "m <- k/l\n",
        "d <- k/(l*l)\n",
        "\n",
        "m\n",
        "d"
      ],
      "metadata": {
        "id": "vtnnRVBppBwu",
        "colab": {
          "base_uri": "https://localhost:8080/",
          "height": 52
        },
        "outputId": "eb20b01d-89ea-4ebb-a538-2332c0513785"
      },
      "id": "vtnnRVBppBwu",
      "execution_count": 23,
      "outputs": [
        {
          "output_type": "display_data",
          "data": {
            "text/html": [
              "21.712252041963"
            ],
            "text/markdown": "21.712252041963",
            "text/latex": "21.712252041963",
            "text/plain": [
              "[1] 21.71225"
            ]
          },
          "metadata": {}
        },
        {
          "output_type": "display_data",
          "data": {
            "text/html": [
              "47.1421888733726"
            ],
            "text/markdown": "47.1421888733726",
            "text/latex": "47.1421888733726",
            "text/plain": [
              "[1] 47.14219"
            ]
          },
          "metadata": {}
        }
      ]
    },
    {
      "cell_type": "markdown",
      "source": [
        "Проведем экспериментальное моделирование в среде R:\n",
        "\n"
      ],
      "metadata": {
        "id": "4KiIJMKMo-gd"
      },
      "id": "4KiIJMKMo-gd"
    },
    {
      "cell_type": "code",
      "source": [
        "# Экспериментальная часть\n",
        "\n",
        "N <- 100000\n",
        "tmp <- c()\n",
        "for (i in c(1:k)) {\n",
        "  if (i == 1) {\n",
        "    tmp <- rexp(N, lambda)\n",
        "  } else {\n",
        "    tmp <- tmp + rexp(N, lambda)\n",
        "  }\n",
        "}\n",
        "\n",
        "mx <- mean(tmp)\n",
        "mx\n",
        "s <- sd(tmp)\n",
        "dx <- s^2\n",
        "dx\n",
        "k <- (res_exp_s/res_exp_mx) * 100"
      ],
      "metadata": {
        "id": "aK8wJtMppFQI",
        "colab": {
          "base_uri": "https://localhost:8080/",
          "height": 52
        },
        "outputId": "0c3d696e-76c5-4999-c1ac-f6eca33a3d4a"
      },
      "id": "aK8wJtMppFQI",
      "execution_count": 24,
      "outputs": [
        {
          "output_type": "display_data",
          "data": {
            "text/html": [
              "21.6922627158606"
            ],
            "text/markdown": "21.6922627158606",
            "text/latex": "21.6922627158606",
            "text/plain": [
              "[1] 21.69226"
            ]
          },
          "metadata": {}
        },
        {
          "output_type": "display_data",
          "data": {
            "text/html": [
              "47.3400331722985"
            ],
            "text/markdown": "47.3400331722985",
            "text/latex": "47.3400331722985",
            "text/plain": [
              "[1] 47.34003"
            ]
          },
          "metadata": {}
        }
      ]
    },
    {
      "cell_type": "markdown",
      "id": "284c9d36-521b-43e3-8fe4-18b0a479b5fe",
      "metadata": {
        "id": "284c9d36-521b-43e3-8fe4-18b0a479b5fe"
      },
      "source": [
        "## Задание 4.\n",
        "\n",
        "Доказать, что сумма величин, распределенных по закону Пуассона с параметрами $\\alpha_1, \\alpha_2,\\ldots$ , распределена по закону Пуассона, также обосновать это экспериментально."
      ]
    },
    {
      "cell_type": "markdown",
      "source": [
        "Доказательство аналогично доказательству в пункте 2, но вместо суммы 3-х величин мы берем сумму k величин:\n",
        "\n",
        "$$P_{\\sum_{i=1}^k X_i}(z)=\\prod_{i=1}^k P_{X_i}(z) = e^{\\sum_{i=1}^k\\lambda_i (z-1)} = e^{(z-1) \\cdot \\sum_{i=1}^k\\lambda_i} = e^{\\lambda(z-1)}$$\n",
        "\n",
        ", где $\\lambda = \\sum_{i=1}^k\\lambda_i$\n",
        "\n",
        "Дальнейшие рассуждения аналогичны рассуждениям в задании 2, в итоге мы получаем:\n",
        "$$M(\\zeta) = \\lambda$$\n",
        "$$D(\\zeta) = \\lambda $$"
      ],
      "metadata": {
        "id": "AKUMy9F7pVGZ"
      },
      "id": "AKUMy9F7pVGZ"
    },
    {
      "cell_type": "markdown",
      "source": [
        "Проведем теоретическое моделирование в среде R:"
      ],
      "metadata": {
        "id": "a25FbQu6pVzZ"
      },
      "id": "a25FbQu6pVzZ"
    },
    {
      "cell_type": "code",
      "source": [
        "# Теоретическая часть\n",
        "\n",
        "Variant<-8\n",
        "k <- 10\n",
        "lambdas<-runif(k)\n",
        "lambdas\n",
        "\n",
        "l <- sum(lambdas)\n",
        "m <- l\n",
        "d <- l\n",
        "m\n",
        "d"
      ],
      "metadata": {
        "id": "TczH3fU5pWof",
        "colab": {
          "base_uri": "https://localhost:8080/",
          "height": 86
        },
        "outputId": "205c896c-e976-4937-c8a0-6ceed8e929fb"
      },
      "id": "TczH3fU5pWof",
      "execution_count": 34,
      "outputs": [
        {
          "output_type": "display_data",
          "data": {
            "text/html": [
              "<style>\n",
              ".list-inline {list-style: none; margin:0; padding: 0}\n",
              ".list-inline>li {display: inline-block}\n",
              ".list-inline>li:not(:last-child)::after {content: \"\\00b7\"; padding: 0 .5ex}\n",
              "</style>\n",
              "<ol class=list-inline><li>0.948548561660573</li><li>0.874501923797652</li><li>0.162948137614876</li><li>0.394208851503208</li><li>0.303083541803062</li><li>0.314656055765226</li><li>0.680913923541084</li><li>0.114363439148292</li><li>0.537087513832375</li><li>0.252894515404478</li></ol>\n"
            ],
            "text/markdown": "1. 0.948548561660573\n2. 0.874501923797652\n3. 0.162948137614876\n4. 0.394208851503208\n5. 0.303083541803062\n6. 0.314656055765226\n7. 0.680913923541084\n8. 0.114363439148292\n9. 0.537087513832375\n10. 0.252894515404478\n\n\n",
            "text/latex": "\\begin{enumerate*}\n\\item 0.948548561660573\n\\item 0.874501923797652\n\\item 0.162948137614876\n\\item 0.394208851503208\n\\item 0.303083541803062\n\\item 0.314656055765226\n\\item 0.680913923541084\n\\item 0.114363439148292\n\\item 0.537087513832375\n\\item 0.252894515404478\n\\end{enumerate*}\n",
            "text/plain": [
              " [1] 0.9485486 0.8745019 0.1629481 0.3942089 0.3030835 0.3146561 0.6809139\n",
              " [8] 0.1143634 0.5370875 0.2528945"
            ]
          },
          "metadata": {}
        },
        {
          "output_type": "display_data",
          "data": {
            "text/html": [
              "4.58320646407083"
            ],
            "text/markdown": "4.58320646407083",
            "text/latex": "4.58320646407083",
            "text/plain": [
              "[1] 4.583206"
            ]
          },
          "metadata": {}
        },
        {
          "output_type": "display_data",
          "data": {
            "text/html": [
              "4.58320646407083"
            ],
            "text/markdown": "4.58320646407083",
            "text/latex": "4.58320646407083",
            "text/plain": [
              "[1] 4.583206"
            ]
          },
          "metadata": {}
        }
      ]
    },
    {
      "cell_type": "markdown",
      "source": [
        "Проведем экспериментальное моделирование в среде R:"
      ],
      "metadata": {
        "id": "qAqLuiN2pXRB"
      },
      "id": "qAqLuiN2pXRB"
    },
    {
      "cell_type": "code",
      "source": [
        "# Экспериментальная часть\n",
        "\n",
        "k <- 10\n",
        "N <- 1000000\n",
        "tmp <- c()\n",
        "for (i in c(1:k)) {\n",
        "  if (i == 1) {\n",
        "    tmp <- rpois(n=N, lambda=lambdas[i])\n",
        "  } else {\n",
        "    tmp <- tmp + rpois(n=N, lambda=lambdas[i])\n",
        "  }\n",
        "}\n",
        "\n",
        "mx <- mean(tmp)\n",
        "mx\n",
        "s <- sd(tmp)\n",
        "dx <- s^2\n",
        "dx"
      ],
      "metadata": {
        "id": "mtmUi37apYGL",
        "colab": {
          "base_uri": "https://localhost:8080/",
          "height": 52
        },
        "outputId": "9ad2dfb4-3583-4da6-a284-60f9f640e2c2"
      },
      "id": "mtmUi37apYGL",
      "execution_count": 35,
      "outputs": [
        {
          "output_type": "display_data",
          "data": {
            "text/html": [
              "4.581551"
            ],
            "text/markdown": "4.581551",
            "text/latex": "4.581551",
            "text/plain": [
              "[1] 4.581551"
            ]
          },
          "metadata": {}
        },
        {
          "output_type": "display_data",
          "data": {
            "text/html": [
              "4.58561202001101"
            ],
            "text/markdown": "4.58561202001101",
            "text/latex": "4.58561202001101",
            "text/plain": [
              "[1] 4.585612"
            ]
          },
          "metadata": {}
        }
      ]
    },
    {
      "cell_type": "markdown",
      "id": "df09bd25-2d9a-4373-82af-02771272d756",
      "metadata": {
        "id": "df09bd25-2d9a-4373-82af-02771272d756"
      },
      "source": [
        "## Задание 5.\n",
        "\n",
        "Серверная станция состоит из двух модулей питания. Время безотказной работы каждого из них распределено по показательному закону с одинаковыми параметрами:\n",
        "$$f(t)=\\lambda e^{-\\lambda t}$$\n",
        "$t$ - время работы одного модуля до первого отказа.\n",
        "Второй модуль питания включается сразу же после отказа первого. \n",
        "\n",
        "Определить: \n",
        "1. Плотность вероятности времени безотказной работы всей системы.\n",
        "2. Математическое ожидание времени безотказной работы.\n",
        "3. Дисперсию времени безотказной работы."
      ]
    },
    {
      "cell_type": "code",
      "execution_count": 36,
      "id": "5b831d98-dd65-419e-898f-a936ebb63e0d",
      "metadata": {
        "id": "5b831d98-dd65-419e-898f-a936ebb63e0d",
        "outputId": "07e96084-d08d-4cc6-f041-71e0a39c2d09",
        "colab": {
          "base_uri": "https://localhost:8080/",
          "height": 34
        }
      },
      "outputs": [
        {
          "output_type": "display_data",
          "data": {
            "text/html": [
              "0.870634062914178"
            ],
            "text/markdown": "0.870634062914178",
            "text/latex": "0.870634062914178",
            "text/plain": [
              "[1] 0.8706341"
            ]
          },
          "metadata": {}
        }
      ],
      "source": [
        "Variant<-8\n",
        "lambda<-runif(100)[77]\n",
        "lambda"
      ]
    },
    {
      "cell_type": "markdown",
      "source": [
        "Обозначим: $t_1$ — время безотказной работы первого модуля, $t_2$ — время безотказной работы второго модуля, $t = t_1 + t_2$ — время безотказной работы системы в целом."
      ],
      "metadata": {
        "id": "8fUzOIXyyhY_"
      },
      "id": "8fUzOIXyyhY_"
    },
    {
      "cell_type": "markdown",
      "source": [
        "Если две независимые случайные величины $\\zeta_1, \\zeta_2$ имеют функции преобразования Лапласа-Стилтьеса $\\beta_1(s),\\beta_2(s)$, то случайная величина $\\zeta_1+\\zeta_2$ имеет преобразование Лапласа-Стилтьеса $\\beta_1(s)\\cdot\\beta_2(s)$"
      ],
      "metadata": {
        "id": "xGBLiDR10mPE"
      },
      "id": "xGBLiDR10mPE"
    },
    {
      "cell_type": "markdown",
      "source": [
        "Если заданы две независимые неотрицательные случайные величины $\\zeta_1, \\zeta_2$, то функция плотности распределения вероятностей композиции в виде суммы этих случайных величин $\\zeta=\\zeta_1+\\zeta_2$ выразится:\n",
        "$$f_{\\zeta}=\\int_{A(\\zeta)}^{B(\\zeta)} f_{\\zeta_1}(\\zeta_1)\\cdot f_{\\zeta_2}(\\zeta-\\zeta_1)d\\zeta_1$$"
      ],
      "metadata": {
        "id": "VZAEOkNA0qrs"
      },
      "id": "VZAEOkNA0qrs"
    },
    {
      "cell_type": "markdown",
      "source": [
        "Пределы интегрирования вычисляются следующим образом:\n",
        "$$A(\\zeta)=a+\\frac{\\zeta-(a+d)+|\\zeta-(a+d)|}{2}$$\n",
        "$$B(\\zeta)=b+\\frac{\\zeta-(b+c)-|\\zeta-(b+c)|}{2}$$\n",
        "$$a\\leq \\zeta_1\\leq b, c\\leq \\zeta_2\\leq d$$"
      ],
      "metadata": {
        "id": "knHa0Yhv00nI"
      },
      "id": "knHa0Yhv00nI"
    },
    {
      "cell_type": "markdown",
      "source": [
        "В рамках нашей задачи, $t_1, t_2, t = t_1 + t_2$ являются случайными величинами, распределенными по показательному закону. Применим указанное ранее свойство для определения функции плотности $t$:\n",
        "\n",
        "$$f_t = \\int_{A(t)}^{B(t)} f_{t_1}(t_1) \\cdot f_{t_2}(t - t_1) dt_1 = \\int_{A(t)}^{B(t)} \\lambda_1 e^{-\\lambda_1 t_1} \\cdot \\lambda_2 e^{-\\lambda_2 (t-t_1)} dt_1 = \\lambda_1 \\lambda_2 \\int_{A(t)}^{B(t)}  e^{-\\lambda_1 t_1 -\\lambda_2 t +\\lambda_2 t_1} \\cdot dt_1 = \\lambda^2 \\int_{A(t)}^{B(t)}  e^{-\\lambda t} \\cdot dt_1 = \\lambda^2 e^{-\\lambda t} \\cdot t_1 |_{A(t)}^{B(t)} $$\n",
        "\n",
        "Определим пределы интегрирования:\n",
        "\n",
        "$$a = 0, b = \\infty, c = 0, d = \\infty $$\n",
        "$$A(t)=a+\\frac{t-(a+d)+|t-(a+d)|}{2}=\\frac{t-d+|t-d|}{2}$$\n",
        "$$B(t)=b+\\frac{t-(b+c)-|t-(b+c)|}{2}=b+\\frac{t-b-|t-b|}{2}$$\n",
        "$$ 0 \\leq t_1 \\leq \\infty, 0 \\leq t_2 \\leq \\infty$$\n",
        "\n",
        "Раскроем модули, учтем, что $0 \\leq t < \\infty$:\n",
        "\n",
        "$$A(t)=\\frac{t-d-t+d}{2}=0$$\n",
        "$$B(t)=b+\\frac{t-b+t-b}{2}=b+t-b=t$$\n",
        "$$ f_t = \\lambda^2 e^{-\\lambda t} \\cdot t_1 |_{A(t)}^{B(t)} = \\lambda^2 e^{-\\lambda t} \\cdot t $$\n",
        "\n",
        "Определим математическое ожидание и дисперсию времени безотказной работы:\n",
        "$$ \\beta(s) = \\int_0^\\infty e^{-st} dF(t) = \\int_0^\\infty e^{-st} \\lambda^2 e^{-\\lambda t} t \\cdot dt = \\lambda^2 \\int_0^\\infty e^{-t(s+\\lambda)} t \\cdot dt = \\frac{\\lambda^2}{(s+\\lambda)^2}  \\int_0^\\infty -t(s+\\lambda) e^{-t(s+\\lambda)} \\cdot d(-t(s+\\lambda)) = $$\n",
        "\n",
        "$$ = \\frac{\\lambda^2}{(s+\\lambda)^2}  \\int_0^{-\\infty} w e^w dw = \\frac{\\lambda^2}{(s+\\lambda)^2} (x-1)e^x |_0^{-\\infty} = \\frac{\\lambda^2}{(s+\\lambda)^2} $$\n",
        "\n",
        "$$ \\beta'(s) = (\\frac{\\lambda^2}{(s+\\lambda)^2})' = -\\frac{2\\lambda^2}{(s+\\lambda)^3} $$\n",
        "\n",
        "$$ \\beta''(s) = (-\\frac{2\\lambda^2}{(s+\\lambda)^3})' = \\frac{6\\lambda^2}{(s+\\lambda)^4} $$\n",
        "\n",
        "$$M(t)=-\\beta'(0) = \\frac{2}{\\lambda}$$\n",
        "$$D(t)=\\beta''(0)-\\left(\\beta'(0)\\right)^2 = \\frac{6}{\\lambda^2} - \\frac{4}{\\lambda^2} = \\frac{2}{\\lambda^2}$$\n",
        "\n"
      ],
      "metadata": {
        "id": "HJfC4RYU0-OT"
      },
      "id": "HJfC4RYU0-OT"
    },
    {
      "cell_type": "markdown",
      "source": [
        "Проведем теоретическое моделирование в среде R:"
      ],
      "metadata": {
        "id": "oWQysDnNqmg5"
      },
      "id": "oWQysDnNqmg5"
    },
    {
      "cell_type": "code",
      "source": [
        "# Теоретическая часть\n",
        "\n",
        "m <- 2/lambda\n",
        "d <- 2/(lambda * lambda)\n",
        "m\n",
        "d\n"
      ],
      "metadata": {
        "colab": {
          "base_uri": "https://localhost:8080/",
          "height": 52
        },
        "id": "dRe0_Z6gqqcT",
        "outputId": "c8997a2a-bb72-470d-99be-811af1aa7167"
      },
      "id": "dRe0_Z6gqqcT",
      "execution_count": 42,
      "outputs": [
        {
          "output_type": "display_data",
          "data": {
            "text/html": [
              "2.29717637431462"
            ],
            "text/markdown": "2.29717637431462",
            "text/latex": "2.29717637431462",
            "text/plain": [
              "[1] 2.297176"
            ]
          },
          "metadata": {}
        },
        {
          "output_type": "display_data",
          "data": {
            "text/html": [
              "2.63850964735464"
            ],
            "text/markdown": "2.63850964735464",
            "text/latex": "2.63850964735464",
            "text/plain": [
              "[1] 2.63851"
            ]
          },
          "metadata": {}
        }
      ]
    },
    {
      "cell_type": "markdown",
      "source": [
        "Проведем экспериментальное моделирование в среде R:"
      ],
      "metadata": {
        "id": "m1HtZiycquKB"
      },
      "id": "m1HtZiycquKB"
    },
    {
      "cell_type": "code",
      "source": [
        "# Экспериментальная часть\n",
        "\n",
        "sum <- c(0)\n",
        "N <- 10000\n",
        "for (i in c(1:N)) {\n",
        "  sum <- c(sum, sum(rexp(2, lambda)))\n",
        "}\n",
        "\n",
        "mx <- mean(sum)\n",
        "mx\n",
        "s <- sd(sum)\n",
        "dx <- s^2\n",
        "dx"
      ],
      "metadata": {
        "colab": {
          "base_uri": "https://localhost:8080/",
          "height": 52
        },
        "id": "ll7vnOqSqxqb",
        "outputId": "ae299328-c24a-4ae9-b64c-6e1ea312e15f"
      },
      "id": "ll7vnOqSqxqb",
      "execution_count": 43,
      "outputs": [
        {
          "output_type": "display_data",
          "data": {
            "text/html": [
              "2.30035435976632"
            ],
            "text/markdown": "2.30035435976632",
            "text/latex": "2.30035435976632",
            "text/plain": [
              "[1] 2.300354"
            ]
          },
          "metadata": {}
        },
        {
          "output_type": "display_data",
          "data": {
            "text/html": [
              "2.63754206347491"
            ],
            "text/markdown": "2.63754206347491",
            "text/latex": "2.63754206347491",
            "text/plain": [
              "[1] 2.637542"
            ]
          },
          "metadata": {}
        }
      ]
    }
  ],
  "metadata": {
    "kernelspec": {
      "display_name": "R",
      "language": "R",
      "name": "ir"
    },
    "language_info": {
      "codemirror_mode": "r",
      "file_extension": ".r",
      "mimetype": "text/x-r-source",
      "name": "R",
      "pygments_lexer": "r",
      "version": "4.2.2"
    },
    "colab": {
      "provenance": [],
      "include_colab_link": true
    }
  },
  "nbformat": 4,
  "nbformat_minor": 5
}