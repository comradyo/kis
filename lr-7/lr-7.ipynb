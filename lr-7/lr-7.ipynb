{
  "cells": [
    {
      "cell_type": "markdown",
      "id": "0930b58e-7229-48f1-bf09-b5d9e98dbabd",
      "metadata": {
        "id": "0930b58e-7229-48f1-bf09-b5d9e98dbabd"
      },
      "source": [
        "# Лабораторная работа 7. Управление ресурсами в однопроцессорной системе с неоднородными заявками"
      ]
    },
    {
      "cell_type": "markdown",
      "id": "812c1018-f022-4f93-b424-44d95c772e42",
      "metadata": {
        "id": "812c1018-f022-4f93-b424-44d95c772e42"
      },
      "source": [
        "## Задание 1.\n",
        "\n",
        "В однопроцессорную  систему случайным образом поступают на выполнение $m$ разных типов программ, отличающихся известной трудоемкостью $Q_1, Q_2, \\ldots, Q_m$. Входящий поток простейший с интенсивностью $\\lambda$.\n",
        "\n",
        "- Представив данную систему как одноканальную СМО с неограниченной очередью, вычислить среднее время обслуживания программ, считая длительность обслуживания случайной величиной (теоретически и экспериментально).\n",
        "\n",
        "- Реализовать алгоритм SPT, выбирая из очереди заявки в соответствии с их приоритетом по трудоемкости. Рассчитать среднее время обслуживания программ. Сравнить полученные результаты.\n",
        "\n",
        "- Реализовать алгоритм RR при заданном кванте времени $q$. Оценить среднее время обслуживания программ. Сравнить полученные результаты. Выяснить, как влияет величина кванта на среднее время обслуживания программ."
      ]
    },
    {
      "cell_type": "code",
      "execution_count": 1,
      "id": "98fc2563-02e6-4c17-9fea-9f4a47c89898",
      "metadata": {
        "id": "98fc2563-02e6-4c17-9fea-9f4a47c89898",
        "outputId": "1a77379c-ef5e-45df-dab4-ab4ee098a2d0",
        "colab": {
          "base_uri": "https://localhost:8080/",
          "height": 164
        }
      },
      "outputs": [
        {
          "output_type": "display_data",
          "data": {
            "text/plain": [
              "  m q lambda \n",
              "1 9 3 1.61935"
            ],
            "text/html": [
              "<table class=\"dataframe\">\n",
              "<caption>A data.frame: 1 × 3</caption>\n",
              "<thead>\n",
              "\t<tr><th scope=col>m</th><th scope=col>q</th><th scope=col>lambda</th></tr>\n",
              "\t<tr><th scope=col>&lt;int&gt;</th><th scope=col>&lt;int&gt;</th><th scope=col>&lt;dbl&gt;</th></tr>\n",
              "</thead>\n",
              "<tbody>\n",
              "\t<tr><td>9</td><td>3</td><td>1.61935</td></tr>\n",
              "</tbody>\n",
              "</table>\n"
            ],
            "text/markdown": "\nA data.frame: 1 × 3\n\n| m &lt;int&gt; | q &lt;int&gt; | lambda &lt;dbl&gt; |\n|---|---|---|\n| 9 | 3 | 1.61935 |\n\n",
            "text/latex": "A data.frame: 1 × 3\n\\begin{tabular}{lll}\n m & q & lambda\\\\\n <int> & <int> & <dbl>\\\\\n\\hline\n\t 9 & 3 & 1.61935\\\\\n\\end{tabular}\n"
          },
          "metadata": {}
        },
        {
          "output_type": "stream",
          "name": "stdout",
          "text": [
            "[1] 1.012475452 3.263946321 1.459516694 2.855469094 1.489090714 2.516819748\n",
            "[7] 0.299747437 4.973630433 0.003007615\n"
          ]
        }
      ],
      "source": [
        "Variant<-8\n",
        "set.seed(Variant) \n",
        "m<-sample(c(6:20),1)\n",
        "lambda<-runif(1,0.1, 2)\n",
        "Q<-rexp(m,0.3)\n",
        "q<-sample(c(1:4),1)\n",
        "View(data.frame(m,q, lambda))\n",
        "print(Q)"
      ]
    },
    {
      "cell_type": "markdown",
      "source": [
        "#Часть 1:\n",
        "\n",
        "Заданная система является системой вида $M/M/1/\\infty$.\n",
        "\n",
        "Среднее время обслуживания для данного вида систем:\n",
        "\n",
        "$$ T_{сист} = \\frac{1}{\\mu(1-\\rho)} = \\frac{1}{\\mu-\\lambda} $$\n",
        "\n",
        "Определим интенсивность обслуживания $\\mu$:\n",
        "\n",
        "$$ \\mu = \\frac{1}{Q_{ср}} =  \\frac{m}{\\sum_{i=1}^{m}Q_i} $$\n",
        "\n"
      ],
      "metadata": {
        "id": "3KCqMpxLapX5"
      },
      "id": "3KCqMpxLapX5"
    },
    {
      "cell_type": "markdown",
      "source": [
        "Проведем теоретические рассчеты в среде R"
      ],
      "metadata": {
        "id": "y9jW_7BDdo8H"
      },
      "id": "y9jW_7BDdo8H"
    },
    {
      "cell_type": "code",
      "source": [
        "mu <- m / sum(Q)\n",
        "mu\n",
        "lambda\n",
        "\n",
        "# lambda > mu, уменьшим лямбду\n",
        "lambda <- lambda - 1.2\n",
        "\n",
        "1 / (mu - lambda)"
      ],
      "metadata": {
        "colab": {
          "base_uri": "https://localhost:8080/",
          "height": 69
        },
        "id": "wU6yVME4ds-W",
        "outputId": "f2eb858c-0985-41ac-8399-318462a31344"
      },
      "id": "wU6yVME4ds-W",
      "execution_count": 10,
      "outputs": [
        {
          "output_type": "display_data",
          "data": {
            "text/html": [
              "0.503533025262915"
            ],
            "text/markdown": "0.503533025262915",
            "text/latex": "0.503533025262915",
            "text/plain": [
              "[1] 0.503533"
            ]
          },
          "metadata": {}
        },
        {
          "output_type": "display_data",
          "data": {
            "text/html": [
              "1.6193501194939"
            ],
            "text/markdown": "1.6193501194939",
            "text/latex": "1.6193501194939",
            "text/plain": [
              "[1] 1.61935"
            ]
          },
          "metadata": {}
        },
        {
          "output_type": "display_data",
          "data": {
            "text/html": [
              "11.8788962065988"
            ],
            "text/markdown": "11.8788962065988",
            "text/latex": "11.8788962065988",
            "text/plain": [
              "[1] 11.8789"
            ]
          },
          "metadata": {}
        }
      ]
    },
    {
      "cell_type": "markdown",
      "source": [
        "Проведем экспериментальный расчет в среде R:"
      ],
      "metadata": {
        "id": "STF2x2ltd_2G"
      },
      "id": "STF2x2ltd_2G"
    },
    {
      "cell_type": "code",
      "execution_count": 14,
      "id": "853eeeb9-64ab-4130-a077-1e2990b727e6",
      "metadata": {
        "id": "853eeeb9-64ab-4130-a077-1e2990b727e6",
        "colab": {
          "base_uri": "https://localhost:8080/",
          "height": 34
        },
        "outputId": "a317ffa9-5115-415a-c07a-7748f8283422"
      },
      "outputs": [
        {
          "output_type": "display_data",
          "data": {
            "text/html": [
              "12.465369027805"
            ],
            "text/markdown": "12.465369027805",
            "text/latex": "12.465369027805",
            "text/plain": [
              "[1] 12.46537"
            ]
          },
          "metadata": {}
        }
      ],
      "source": [
        "N <- 1000000    # Число тиков (прибавления дельт времени)\n",
        "dt <- 0.01      # Тик (Дельта времени)\n",
        "curTime <- 0    # Текущее время симуляции\n",
        "\n",
        "q <- c()    # очередь заявок в систему\n",
        "qDur <- 0   # суммарная длительность всех заявок в очереди\n",
        "currentRequest <- 0 # текущий обрабатываемый запрос\n",
        "\n",
        "numOfReqs <- 0\n",
        "timeInSystTotal <- 0\n",
        "receiveRequestAt <- rexp(1, lambda)\n",
        "\n",
        "getHandleDuration <- function() {\n",
        "  i <-sample(c(1:m),1)\n",
        "  return(rexp(1, 1/{Q[i]}))\n",
        "}\n",
        "\n",
        "for (i in 1:N) {\n",
        "  curTime <- curTime + dt\n",
        "\n",
        "  if (curTime >= receiveRequestAt) {\n",
        "    numOfReqs <- numOfReqs + 1\n",
        "    handleDuration <- getHandleDuration()\n",
        "    if (currentRequest == 0) {\n",
        "      currentRequest <- handleDuration\n",
        "      timeInSystTotal <- timeInSystTotal + handleDuration\n",
        "    } else {\n",
        "      q <- append(q, handleDuration)\n",
        "      qDur <- qDur + handleDuration\n",
        "      timeInSystTotal <- timeInSystTotal + qDur\n",
        "    }\n",
        "    receiveRequestAt <- receiveRequestAt + rexp(1, lambda)\n",
        "  }\n",
        "\n",
        "  # сокращение времени обработки текущей программы, которая находится на сервере.\n",
        "  if (currentRequest >= 0) {\n",
        "    currentRequest <- currentRequest - dt\n",
        "    if (currentRequest <= 0) {\n",
        "      if (length(q) > 0) {\n",
        "        qDur <- qDur - q[1]\n",
        "        currentRequest <- q[1]\n",
        "        q <- q[-1]\n",
        "      } else {\n",
        "        currentRequest <- 0\n",
        "      }\n",
        "    }\n",
        "  }\n",
        "}\n",
        "\n",
        "timeInSystTotal / numOfReqs"
      ]
    },
    {
      "cell_type": "markdown",
      "source": [
        "#Часть 2:\n",
        "\n"
      ],
      "metadata": {
        "id": "VWHcgxd-jmmQ"
      },
      "id": "VWHcgxd-jmmQ"
    }
  ],
  "metadata": {
    "kernelspec": {
      "display_name": "R",
      "language": "R",
      "name": "ir"
    },
    "language_info": {
      "codemirror_mode": "r",
      "file_extension": ".r",
      "mimetype": "text/x-r-source",
      "name": "R",
      "pygments_lexer": "r",
      "version": "4.2.2"
    },
    "colab": {
      "provenance": []
    }
  },
  "nbformat": 4,
  "nbformat_minor": 5
}