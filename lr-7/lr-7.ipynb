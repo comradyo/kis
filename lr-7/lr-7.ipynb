{
  "cells": [
    {
      "cell_type": "markdown",
      "metadata": {
        "id": "view-in-github",
        "colab_type": "text"
      },
      "source": [
        "<a href=\"https://colab.research.google.com/github/comradyo/kis/blob/main/lr-7/lr-7.ipynb\" target=\"_parent\"><img src=\"https://colab.research.google.com/assets/colab-badge.svg\" alt=\"Open In Colab\"/></a>"
      ]
    },
    {
      "cell_type": "markdown",
      "id": "0930b58e-7229-48f1-bf09-b5d9e98dbabd",
      "metadata": {
        "id": "0930b58e-7229-48f1-bf09-b5d9e98dbabd"
      },
      "source": [
        "# Лабораторная работа 7. Управление ресурсами в однопроцессорной системе с неоднородными заявками"
      ]
    },
    {
      "cell_type": "markdown",
      "id": "812c1018-f022-4f93-b424-44d95c772e42",
      "metadata": {
        "id": "812c1018-f022-4f93-b424-44d95c772e42"
      },
      "source": [
        "## Задание 1.\n",
        "\n",
        "В однопроцессорную  систему случайным образом поступают на выполнение $m$ разных типов программ, отличающихся известной трудоемкостью $Q_1, Q_2, \\ldots, Q_m$. Входящий поток простейший с интенсивностью $\\lambda$.\n",
        "\n",
        "- Представив данную систему как одноканальную СМО с неограниченной очередью, вычислить среднее время обслуживания программ, считая длительность обслуживания случайной величиной (теоретически и экспериментально).\n",
        "\n",
        "- Реализовать алгоритм SPT, выбирая из очереди заявки в соответствии с их приоритетом по трудоемкости. Рассчитать среднее время обслуживания программ. Сравнить полученные результаты.\n",
        "\n",
        "- Реализовать алгоритм RR при заданном кванте времени $q$. Оценить среднее время обслуживания программ. Сравнить полученные результаты. Выяснить, как влияет величина кванта на среднее время обслуживания программ."
      ]
    },
    {
      "cell_type": "code",
      "execution_count": 346,
      "id": "98fc2563-02e6-4c17-9fea-9f4a47c89898",
      "metadata": {
        "id": "98fc2563-02e6-4c17-9fea-9f4a47c89898",
        "outputId": "89a748d3-1512-4719-fdf7-e26d15a0af2f",
        "colab": {
          "base_uri": "https://localhost:8080/",
          "height": 164
        }
      },
      "outputs": [
        {
          "output_type": "display_data",
          "data": {
            "text/plain": [
              "  m q lambda_const\n",
              "1 9 3 1.61935     "
            ],
            "text/html": [
              "<table class=\"dataframe\">\n",
              "<caption>A data.frame: 1 × 3</caption>\n",
              "<thead>\n",
              "\t<tr><th scope=col>m</th><th scope=col>q</th><th scope=col>lambda_const</th></tr>\n",
              "\t<tr><th scope=col>&lt;int&gt;</th><th scope=col>&lt;int&gt;</th><th scope=col>&lt;dbl&gt;</th></tr>\n",
              "</thead>\n",
              "<tbody>\n",
              "\t<tr><td>9</td><td>3</td><td>1.61935</td></tr>\n",
              "</tbody>\n",
              "</table>\n"
            ],
            "text/markdown": "\nA data.frame: 1 × 3\n\n| m &lt;int&gt; | q &lt;int&gt; | lambda_const &lt;dbl&gt; |\n|---|---|---|\n| 9 | 3 | 1.61935 |\n\n",
            "text/latex": "A data.frame: 1 × 3\n\\begin{tabular}{lll}\n m & q & lambda\\_const\\\\\n <int> & <int> & <dbl>\\\\\n\\hline\n\t 9 & 3 & 1.61935\\\\\n\\end{tabular}\n"
          },
          "metadata": {}
        },
        {
          "output_type": "stream",
          "name": "stdout",
          "text": [
            "[1] 1.012475452 3.263946321 1.459516694 2.855469094 1.489090714 2.516819748\n",
            "[7] 0.299747437 4.973630433 0.003007615\n"
          ]
        }
      ],
      "source": [
        "Variant<-8\n",
        "set.seed(Variant) \n",
        "m<-sample(c(6:20),1)\n",
        "lambda_const<-runif(1,0.1, 2)\n",
        "Q<-rexp(m,0.3)\n",
        "q<-sample(c(1:4),1)\n",
        "View(data.frame(m,q, lambda_const))\n",
        "print(Q)"
      ]
    },
    {
      "cell_type": "markdown",
      "source": [
        "#Часть 1:\n",
        "\n",
        "Заданная система является системой вида $M/M/1/\\infty$.\n",
        "\n",
        "Среднее время обслуживания для данного вида систем:\n",
        "\n",
        "$$ T_{сист} = \\frac{1}{\\mu(1-\\rho)} = \\frac{1}{\\mu-\\lambda} $$\n",
        "\n",
        "Определим интенсивность обслуживания $\\mu$:\n",
        "\n",
        "$$ \\mu = \\frac{1}{Q_{ср}} =  \\frac{m}{\\sum_{i=1}^{m}Q_i} $$\n",
        "\n"
      ],
      "metadata": {
        "id": "3KCqMpxLapX5"
      },
      "id": "3KCqMpxLapX5"
    },
    {
      "cell_type": "markdown",
      "source": [
        "Проведем теоретические рассчеты в среде R"
      ],
      "metadata": {
        "id": "y9jW_7BDdo8H"
      },
      "id": "y9jW_7BDdo8H"
    },
    {
      "cell_type": "code",
      "source": [
        "mu <- m / sum(Q)\n",
        "mu\n",
        "\n",
        "# lambda > mu, уменьшим лямбду\n",
        "lambda <- lambda_const - 1.2\n",
        "lambda\n",
        "\n",
        "1 / (mu - lambda)"
      ],
      "metadata": {
        "colab": {
          "base_uri": "https://localhost:8080/",
          "height": 69
        },
        "id": "wU6yVME4ds-W",
        "outputId": "d7131707-e09f-4f97-90bf-9420e9edcf91"
      },
      "id": "wU6yVME4ds-W",
      "execution_count": 347,
      "outputs": [
        {
          "output_type": "display_data",
          "data": {
            "text/html": [
              "0.503533025262915"
            ],
            "text/markdown": "0.503533025262915",
            "text/latex": "0.503533025262915",
            "text/plain": [
              "[1] 0.503533"
            ]
          },
          "metadata": {}
        },
        {
          "output_type": "display_data",
          "data": {
            "text/html": [
              "0.419350119493902"
            ],
            "text/markdown": "0.419350119493902",
            "text/latex": "0.419350119493902",
            "text/plain": [
              "[1] 0.4193501"
            ]
          },
          "metadata": {}
        },
        {
          "output_type": "display_data",
          "data": {
            "text/html": [
              "11.8788962065988"
            ],
            "text/markdown": "11.8788962065988",
            "text/latex": "11.8788962065988",
            "text/plain": [
              "[1] 11.8789"
            ]
          },
          "metadata": {}
        }
      ]
    },
    {
      "cell_type": "markdown",
      "source": [
        "Проведем экспериментальный расчет в среде R:"
      ],
      "metadata": {
        "id": "STF2x2ltd_2G"
      },
      "id": "STF2x2ltd_2G"
    },
    {
      "cell_type": "code",
      "execution_count": 311,
      "id": "853eeeb9-64ab-4130-a077-1e2990b727e6",
      "metadata": {
        "id": "853eeeb9-64ab-4130-a077-1e2990b727e6",
        "colab": {
          "base_uri": "https://localhost:8080/",
          "height": 34
        },
        "outputId": "074e880b-7830-481f-e20f-94a7bfaa49e9"
      },
      "outputs": [
        {
          "output_type": "display_data",
          "data": {
            "text/html": [
              "11.475619077035"
            ],
            "text/markdown": "11.475619077035",
            "text/latex": "11.475619077035",
            "text/plain": [
              "[1] 11.47562"
            ]
          },
          "metadata": {}
        }
      ],
      "source": [
        "N <- 10000000   # Число тиков (прибавления дельт времени)\n",
        "dt <- 0.01      # Тик (Дельта времени)\n",
        "curTime <- 0    # Текущее время симуляции\n",
        "\n",
        "buffer <- c() # буфер заявок в систему, обрабатывается первая заявка\n",
        "bufferReceiveAt <- c() # буфер моментов времени, когда заявки появились в системе\n",
        "\n",
        "numOfReqs <- 0\n",
        "numOfSuccesfulReqs <- 0\n",
        "timeInSystTotal <- 0\n",
        "receiveRequestAt <- rexp(1, lambda)\n",
        "\n",
        "getHandleDuration <- function() {\n",
        "  #i <-sample(c(1:m),1)\n",
        "  #return(rexp(1, 1/{Q[i]}))\n",
        "  return (rexp(1, mu))\n",
        "}\n",
        "\n",
        "for (i in 1:N) {\n",
        "  curTime <- curTime + dt\n",
        "\n",
        "  if (curTime >= receiveRequestAt) {\n",
        "    numOfReqs <- numOfReqs + 1\n",
        "    bufferReceiveAt <- append(bufferReceiveAt, receiveRequestAt)\n",
        "    handleDuration <- getHandleDuration()\n",
        "    buffer <- append(buffer, handleDuration)\n",
        "    receiveRequestAt <- receiveRequestAt + rexp(1, lambda)\n",
        "  }\n",
        "\n",
        "  # сокращение времени обработки текущей программы, которая находится на сервере.\n",
        "  if (length(buffer) > 0) {\n",
        "    buffer[1] <- buffer[1] - dt\n",
        "    if (buffer[1] <= 0) {\n",
        "      numOfSuccesfulReqs <- numOfSuccesfulReqs + 1\n",
        "      timeSpentInSystem <- curTime - bufferReceiveAt[1]\n",
        "      timeInSystTotal <- timeInSystTotal + timeSpentInSystem\n",
        "      buffer <- buffer[-1]\n",
        "      bufferReceiveAt <- bufferReceiveAt[-1]\n",
        "    }\n",
        "  }\n",
        "}\n",
        "\n",
        "timeInSystTotal / numOfSuccesfulReqs"
      ]
    },
    {
      "cell_type": "markdown",
      "source": [
        "#Часть 2:\n",
        "\n"
      ],
      "metadata": {
        "id": "VWHcgxd-jmmQ"
      },
      "id": "VWHcgxd-jmmQ"
    },
    {
      "cell_type": "code",
      "source": [
        "N <- 10000000  # Число тиков (прибавления дельт времени)\n",
        "dt <- 0.1      # Тик (Дельта времени)\n",
        "curTime <- 0   # Текущее время симуляции\n",
        "\n",
        "buffer <- c() # буфер заявок в систему, обрабатывается первая заявка\n",
        "bufferReceiveAt <- c() # буфер моментов времени, когда заявки появились в системе\n",
        "\n",
        "numOfReqs <- 0\n",
        "numOfSuccesfulReqs <- 0\n",
        "timeInSystTotal <- 0\n",
        "receiveRequestAt <- rexp(1, lambda)\n",
        "\n",
        "getHandleDuration <- function() {\n",
        "  #i <-sample(c(1:m),1)\n",
        "  #return(rexp(1, 1/{Q[i]}))\n",
        "  return (rexp(1, mu))\n",
        "}\n",
        "\n",
        "for (i in 1:N) {\n",
        "  curTime <- curTime + dt\n",
        "\n",
        "  if (curTime >= receiveRequestAt) {\n",
        "    numOfReqs <- numOfReqs + 1\n",
        "    bufferReceiveAt <- append(bufferReceiveAt, receiveRequestAt)\n",
        "    handleDuration <- getHandleDuration()\n",
        "    buffer <- append(buffer, handleDuration)\n",
        "\n",
        "    # поддержка отсортированности списка\n",
        "    j <- length(buffer)\n",
        "    while(j > 1 && buffer[j] < buffer[j-1]) {\n",
        "      a <- buffer[j-1]\n",
        "      buffer[j-1] <- buffer[j]\n",
        "      buffer[j] <- a\n",
        "\n",
        "      b <- bufferReceiveAt[j-1]\n",
        "      bufferReceiveAt[j-1] <- bufferReceiveAt[j]\n",
        "      bufferReceiveAt[j] <- b\n",
        "\n",
        "      j <- j - 1\n",
        "    }\n",
        "\n",
        "    receiveRequestAt <- receiveRequestAt + rexp(1, lambda)\n",
        "  }\n",
        "\n",
        "  # сокращение времени обработки текущей программы, которая находится на сервере.\n",
        "  if (length(buffer) > 0) {\n",
        "    buffer[1] <- buffer[1] - dt\n",
        "    if (buffer[1] <= 0) {\n",
        "      numOfSuccesfulReqs <- numOfSuccesfulReqs + 1\n",
        "      timeSpentInSystem <- curTime - bufferReceiveAt[1]\n",
        "      timeInSystTotal <- timeInSystTotal + timeSpentInSystem\n",
        "      buffer <- buffer[-1]\n",
        "      bufferReceiveAt <- bufferReceiveAt[-1]\n",
        "    }\n",
        "  }\n",
        "}\n",
        "\n",
        "timeInSystTotal / numOfSuccesfulReqs"
      ],
      "metadata": {
        "colab": {
          "base_uri": "https://localhost:8080/",
          "height": 34
        },
        "id": "XxhZvSicv5D5",
        "outputId": "0d233fe5-87bf-4d93-fd57-1d84392b1625"
      },
      "id": "XxhZvSicv5D5",
      "execution_count": 136,
      "outputs": [
        {
          "output_type": "display_data",
          "data": {
            "text/html": [
              "5.69972488648533"
            ],
            "text/markdown": "5.69972488648533",
            "text/latex": "5.69972488648533",
            "text/plain": [
              "[1] 5.699725"
            ]
          },
          "metadata": {}
        }
      ]
    },
    {
      "cell_type": "markdown",
      "source": [
        "#Часть 3:\n",
        "\n"
      ],
      "metadata": {
        "id": "mRHVlO57y5LI"
      },
      "id": "mRHVlO57y5LI"
    },
    {
      "cell_type": "code",
      "source": [
        "RR <- function(q) {\n",
        "  N <- 10000000    # Число тиков (прибавления дельт времени)\n",
        "  dt <- 0.01       # Тик (Дельта времени)\n",
        "  curTime <- 0     # Текущее время симуляции\n",
        "\n",
        "  buffer <- c() # буфер заявок в систему, обрабатывается первая заявка\n",
        "  bufferReceiveAt <- c() # буфер моментов времени, когда заявки появились в системе\n",
        "\n",
        "  numOfReqs <- 0\n",
        "  numOfSuccesfulReqs <- 0\n",
        "  timeInSystTotal <- 0\n",
        "  receiveRequestAt <- rexp(1, lambda)\n",
        "\n",
        "  getHandleDuration <- function() {\n",
        "    #i <-sample(c(1:m),1)\n",
        "    #return(rexp(1, 1/{Q[i]}))\n",
        "    return (rexp(1, mu))\n",
        "  }\n",
        "\n",
        "  qCounter <- q       # (1 / dt) = количество тиков, находящихся в единице времени\n",
        "\n",
        "  for (i in 1:N) {\n",
        "    curTime <- curTime + dt\n",
        "\n",
        "    if (curTime >= receiveRequestAt) {\n",
        "      numOfReqs <- numOfReqs + 1\n",
        "      bufferReceiveAt <- append(bufferReceiveAt, receiveRequestAt)\n",
        "      handleDuration <- getHandleDuration()\n",
        "      buffer <- append(buffer, handleDuration)\n",
        "      receiveRequestAt <- receiveRequestAt + rexp(1, lambda)\n",
        "    }\n",
        "\n",
        "    # обработка текущей программы, которая находится на сервере.\n",
        "    if (length(buffer) > 0) {\n",
        "      buffer[1] <- buffer[1] - dt\n",
        "      qCounter <- qCounter - dt\n",
        "      if (buffer[1] <= 0) {\n",
        "        numOfSuccesfulReqs <- numOfSuccesfulReqs + 1\n",
        "        timeSpentInSystem <- curTime - bufferReceiveAt[1]\n",
        "        timeInSystTotal <- timeInSystTotal + timeSpentInSystem\n",
        "        buffer <- buffer[-1]\n",
        "        bufferReceiveAt <- bufferReceiveAt[-1]\n",
        "\n",
        "        qCounter <- q # reset счетчика\n",
        "      } else if (qCounter <= 0) { # заявка не обработалась, ставим её в конец очереди\n",
        "          buffer <- append(buffer, buffer[1])\n",
        "          buffer <- buffer[-1]\n",
        "\n",
        "          bufferReceiveAt <- append(bufferReceiveAt, bufferReceiveAt[1])\n",
        "          bufferReceiveAt <- bufferReceiveAt[-1]\n",
        "\n",
        "          qCounter <- q\n",
        "      }\n",
        "    }\n",
        "  }\n",
        "\n",
        "  return(timeInSystTotal / numOfSuccesfulReqs)\n",
        "}"
      ],
      "metadata": {
        "id": "BZjBU5IkzJae"
      },
      "id": "BZjBU5IkzJae",
      "execution_count": 343,
      "outputs": []
    },
    {
      "cell_type": "code",
      "source": [
        "for (q in c(0.01, 0.1, 0.5, 1, 3, 5, 8, 10, 20, 30)) {\n",
        "  cat(q,\"\\t\", RR(q),'\\n')\n",
        "}"
      ],
      "metadata": {
        "colab": {
          "base_uri": "https://localhost:8080/"
        },
        "id": "EfjBPI3BWNSc",
        "outputId": "e3bdc3b3-db7e-414b-d83d-e49f680eb826"
      },
      "id": "EfjBPI3BWNSc",
      "execution_count": 344,
      "outputs": [
        {
          "output_type": "stream",
          "name": "stdout",
          "text": [
            "0.01 \t 11.64731 \n",
            "0.1 \t 13.08243 \n",
            "0.5 \t 11.31081 \n",
            "1 \t 11.98668 \n",
            "3 \t 10.89952 \n",
            "5 \t 11.23136 \n",
            "8 \t 11.02087 \n",
            "10 \t 11.48487 \n",
            "20 \t 11.57323 \n",
            "30 \t 11.24899 \n"
          ]
        }
      ]
    },
    {
      "cell_type": "markdown",
      "source": [
        "Решение для заранее заданного массива поступления заявок и длительностей их обработки:"
      ],
      "metadata": {
        "id": "AwfIFlHd99Y1"
      },
      "id": "AwfIFlHd99Y1"
    },
    {
      "cell_type": "code",
      "source": [
        "getHandleDuration <- function() {\n",
        "  #i <-sample(c(1:m),1)\n",
        "  #return(rexp(1, 1/{Q[i]}))\n",
        "  return (rexp(1, mu))\n",
        "}\n",
        "\n",
        "numOfReqs <- 10000\n",
        "buff <- double(numOfReqs) # буфер заявок в систему, обрабатывается первая заявка\n",
        "for (i in 1:numOfReqs) {\n",
        "  buff[i] <- getHandleDuration()\n",
        "}\n",
        "buffRecAt <- double(numOfReqs) # буфер моментов времени, когда заявки появились в системе\n",
        "buffRecAt[1] <- rexp(1, lambda)\n",
        "for (i in 2:numOfReqs) {\n",
        "  buffRecAt[i] <- buffRecAt[i-1] + rexp(1, lambda)\n",
        "}\n",
        "\n",
        "N <- 1000000\n",
        "\n",
        "RRAltVersion <- function(q, bf, bfReceiveAt) {\n",
        "  dt <- 0.01      # Тик (Дельта времени)\n",
        "  curTime <- 0    # Текущее время симуляции\n",
        "\n",
        "  i <- 1\n",
        "  timeInSystemTotal <- 0\n",
        "\n",
        "  buffer <- c()\n",
        "  bufferReceiveAt <- c()\n",
        "\n",
        "  nHandled <- 0\n",
        "  qCounter <- q   # (1 / dt) = количество тиков, находящихся в единице времени\n",
        "\n",
        "  for(i in 1:N) {\n",
        "    curTime <- curTime + dt\n",
        "    if (curTime >= bfReceiveAt[1]) {\n",
        "      bufferReceiveAt <- append(bufferReceiveAt, bfReceiveAt[1])\n",
        "      buffer <- append(buffer, bf[1])\n",
        "      bfReceiveAt <- bfReceiveAt[-1]\n",
        "      bf <- bf[-1]\n",
        "    }\n",
        "    if(length(buffer) > 0) {\n",
        "      buffer[1] <- buffer[1] - dt\n",
        "      qCounter <- qCounter - dt\n",
        "      if (buffer[1] <= 0) {\n",
        "        nHandled <- nHandled + 1\n",
        "\n",
        "        timeInSystemTotal <- timeInSystemTotal + curTime - bufferReceiveAt[1]\n",
        "        buffer <- buffer[-1]\n",
        "        bufferReceiveAt <- bufferReceiveAt[-1]\n",
        "\n",
        "        qCounter <- q # reset счетчика\n",
        "      } else if (qCounter <= 0) { # заявка не обработалась, ставим её в конец очереди\n",
        "          buffer <- append(buffer, buffer[1])\n",
        "          buffer <- buffer[-1]\n",
        "\n",
        "          bufferReceiveAt <- append(bufferReceiveAt, bufferReceiveAt[1])\n",
        "          bufferReceiveAt <- bufferReceiveAt[-1]\n",
        "\n",
        "          qCounter <- q\n",
        "      }\n",
        "    }\n",
        "  }\n",
        "\n",
        "  return(timeInSystemTotal / nHandled)\n",
        "}\n",
        "\n",
        "for (q in c(0.01, 0.1, 0.5, 1, 3, 5, 8, 10, 20, 30, 100)) {\n",
        "  bf <- buff\n",
        "  bfRecAt <- buffRecAt\n",
        "  cat(q,\"\\t\", RRAltVersion(q, bf, bfRecAt),'\\n')\n",
        "}"
      ],
      "metadata": {
        "colab": {
          "base_uri": "https://localhost:8080/"
        },
        "outputId": "e8ab348c-8b70-4cdc-fd60-2f6b31281a99",
        "id": "Vmidy_UgnTbR"
      },
      "execution_count": 358,
      "outputs": [
        {
          "output_type": "stream",
          "name": "stdout",
          "text": [
            "0.01 \t 10.6506 \n",
            "0.1 \t 10.65244 \n",
            "0.5 \t 10.6702 \n",
            "1 \t 10.68152 \n",
            "3 \t 10.64463 \n",
            "5 \t 10.60341 \n",
            "8 \t 10.64998 \n",
            "10 \t 10.59512 \n",
            "20 \t 10.5726 \n",
            "30 \t 10.5726 \n",
            "100 \t 10.5726 \n"
          ]
        }
      ],
      "id": "Vmidy_UgnTbR"
    },
    {
      "cell_type": "markdown",
      "source": [
        "Решение для фиксированного массива (без прибытия дополнительных заявок):"
      ],
      "metadata": {
        "id": "ETJQEkZc9JKj"
      },
      "id": "ETJQEkZc9JKj"
    },
    {
      "cell_type": "code",
      "source": [
        "getHandleDuration <- function() {\n",
        "  i <-sample(c(1:m),1)\n",
        "  return(rexp(1, 1/{Q[i]}))\n",
        "  #return (rexp(1, mu))\n",
        "}\n",
        "\n",
        "numOfReqs <- 100\n",
        "buff <- double(numOfReqs) # буфер заявок в систему, обрабатывается первая заявка\n",
        "for (i in 1:numOfReqs) {\n",
        "  buff[i] <- getHandleDuration()\n",
        "}\n",
        "buffRecAt <- double(numOfReqs) # буфер моментов времени, когда заявки появились в системе\n",
        "buffRecAt[1] <- rexp(1, lambda)\n",
        "for (i in 2:numOfReqs) {\n",
        "  buffRecAt[i] <- buffRecAt[i-1] + rexp(1, lambda)\n",
        "}\n",
        "\n",
        "RRWithLimitedNumOfReqs <- function(q, buffer, bufferReceiveAt) {\n",
        "  dt <- 0.01      # Тик (Дельта времени)\n",
        "  curTime <- 0    # Текущее время симуляции\n",
        "\n",
        "  i <- 1\n",
        "  nReqs <- length(buffer)\n",
        "  timeInSystemTotal <- 0\n",
        "\n",
        "  nHandled <- 0\n",
        "\n",
        "  while(nHandled != nReqs) {\n",
        "    while(curTime < bufferReceiveAt[1]) {\n",
        "      curTime <- curTime + dt\n",
        "    }\n",
        "    qCounter <- q   # (1 / dt) = количество тиков, находящихся в единице времени\n",
        "    while(qCounter > 0) {\n",
        "      buffer[1] <- buffer[1] - dt\n",
        "      qCounter <- qCounter - dt\n",
        "      if (buffer[1] <= 0) {\n",
        "        nHandled <- nHandled + 1\n",
        "\n",
        "        timeInSystemTotal <- timeInSystemTotal + curTime - bufferReceiveAt[1]\n",
        "        buffer <- buffer[-1]\n",
        "        bufferReceiveAt <- bufferReceiveAt[-1]\n",
        "\n",
        "        qCounter <- 0 # reset счетчика\n",
        "      } else if (qCounter <= 0) { # заявка не обработалась, ставим её в конец очереди\n",
        "          buffer <- append(buffer, buffer[1])\n",
        "          buffer <- buffer[-1]\n",
        "\n",
        "          bufferReceiveAt <- append(bufferReceiveAt, bufferReceiveAt[1])\n",
        "          bufferReceiveAt <- bufferReceiveAt[-1]\n",
        "\n",
        "          qCounter <- 0\n",
        "      }\n",
        "      curTime <- curTime + dt\n",
        "    }\n",
        "  }\n",
        "\n",
        "  return(timeInSystemTotal / nReqs)\n",
        "}"
      ],
      "metadata": {
        "id": "YACiSMD8U-2x"
      },
      "execution_count": 333,
      "outputs": [],
      "id": "YACiSMD8U-2x"
    },
    {
      "cell_type": "code",
      "source": [
        "for (q in c(0.01, 0.1, 0.5, 1, 3, 5, 8, 10, 20, 30, 100)) {\n",
        "  cat(q,\"\\t\", RRWithLimitedNumOfReqs(q, buff, buffRecAt),'\\n')\n",
        "}"
      ],
      "metadata": {
        "colab": {
          "base_uri": "https://localhost:8080/"
        },
        "id": "ZubNGkA_9kBo",
        "outputId": "0a24f705-908a-4243-c225-1f40acffab2a"
      },
      "id": "ZubNGkA_9kBo",
      "execution_count": 334,
      "outputs": [
        {
          "output_type": "stream",
          "name": "stdout",
          "text": [
            "0.01 \t 165.5326 \n",
            "0.1 \t 144.5221 \n",
            "0.5 \t 113.2033 \n",
            "1 \t 81.85206 \n",
            "3 \t 36.74816 \n",
            "5 \t 16.98206 \n",
            "8 \t 14.20136 \n",
            "10 \t 14.73666 \n",
            "20 \t 11.50396 \n",
            "30 \t 11.50396 \n",
            "100 \t 11.50396 \n"
          ]
        }
      ]
    }
  ],
  "metadata": {
    "kernelspec": {
      "display_name": "R",
      "language": "R",
      "name": "ir"
    },
    "language_info": {
      "codemirror_mode": "r",
      "file_extension": ".r",
      "mimetype": "text/x-r-source",
      "name": "R",
      "pygments_lexer": "r",
      "version": "4.2.2"
    },
    "colab": {
      "provenance": [],
      "include_colab_link": true
    }
  },
  "nbformat": 4,
  "nbformat_minor": 5
}