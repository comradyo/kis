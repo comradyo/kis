{
  "nbformat": 4,
  "nbformat_minor": 0,
  "metadata": {
    "colab": {
      "provenance": [],
      "authorship_tag": "ABX9TyM7NeTqOkSWPamvhU/f1KEr"
    },
    "kernelspec": {
      "name": "ir",
      "display_name": "R"
    },
    "language_info": {
      "name": "R"
    }
  },
  "cells": [
    {
      "cell_type": "markdown",
      "source": [
        "В магазине имеется 3 справочных телефона. В среднем обращаются за справками 40 человек/ч. Средняя продолжительность справочного разговора 3 мин. Издержки, связанные с работой одного телефона, – а руб./мин. Определить минимальную стоимость 1 мин разговора по телефону, при которой система неубыточна.\n"
      ],
      "metadata": {
        "id": "d1tyktcCrok4"
      }
    },
    {
      "cell_type": "markdown",
      "source": [
        "Данная система является многоканальной СМО с отказами $M/M/3/0$\n",
        "\n",
        "$$\\lambda = 40 \\frac{чел}{ч} = \\frac{40}{60} \\frac{чел}{мин} = \\frac{2}{3}\\frac{чел}{мин}$$\n",
        "\n",
        "$$\\mu = \\frac{1}{t_2} = \\frac{1}{3} \\frac{чел}{мин}$$\n",
        "\n",
        "Издержки, связанные с работой системы за время $\\tau$ минут:\n",
        "\n",
        "$$C = 3 a \\tau$$\n",
        "\n",
        "Заработок системы за время $\\tau$ минут:\n",
        "\n",
        "$$E = k b \\tau $$, где $k$ — среднее число занятых каналов, $b$ - стоимость 1 минуты разговора по телефону.\n",
        "\n",
        "Тогда необходимо, чтобы $E \\geq C$, то есть:\n",
        "\n",
        "$$k b \\tau \\geq 3 a \\tau \\Rightarrow k b \\geq 3a \\Rightarrow b \\geq \\frac{3a}{k} $$\n",
        "\n",
        "Опредеим $k$:\n",
        "\n",
        "$$k=\\frac{\\lambda'}{\\mu}=y\\cdot \\left(1-\\frac{y^n}{n!}\\cdot P_0\\right) = y\\cdot \\left(1-\\frac{y^3}{6}\\cdot P_0\\right) $$\n",
        "\n",
        "$$y = \\frac{\\lambda}{\\mu} $$\n",
        "$$P_0 = \\left(\\sum_{k=0}^n\\frac{y^k}{k!}\\right)^{-1} = \\left(\\sum_{k=0}^3\\frac{y^k}{k!}\\right)^{-1} = \\left(1 + \\frac{y}{1} + \\frac{y^2}{2} + \\frac{y^3}{6}\\right)^{-1} $$\n"
      ],
      "metadata": {
        "id": "RMkSppGizGob"
      }
    },
    {
      "cell_type": "markdown",
      "source": [
        "Вычислим результат в среде R:"
      ],
      "metadata": {
        "id": "ZnAUP1vD_Xny"
      }
    },
    {
      "cell_type": "code",
      "execution_count": 2,
      "metadata": {
        "colab": {
          "base_uri": "https://localhost:8080/",
          "height": 52
        },
        "id": "1rOtIdv2_L4i",
        "outputId": "d89d1705-9738-43eb-b237-6ebfa2ffedec"
      },
      "outputs": [
        {
          "output_type": "display_data",
          "data": {
            "text/html": [
              "1.57894736842105"
            ],
            "text/markdown": "1.57894736842105",
            "text/latex": "1.57894736842105",
            "text/plain": [
              "[1] 1.578947"
            ]
          },
          "metadata": {}
        },
        {
          "output_type": "display_data",
          "data": {
            "text/html": [
              "1.9"
            ],
            "text/markdown": "1.9",
            "text/latex": "1.9",
            "text/plain": [
              "[1] 1.9"
            ]
          },
          "metadata": {}
        }
      ],
      "source": [
        "lambda <- 2/3\n",
        "mu <- 1/3\n",
        "y <- lambda/mu\n",
        "P0 <- (1 + y/1 + y^2/2 + y^3/6) ^ -1\n",
        "k <- y * (1 - y^3/6 * P0)\n",
        "k\n",
        "3/k"
      ]
    },
    {
      "cell_type": "markdown",
      "source": [
        "Ответ:\n",
        "\n",
        "$$b \\geq 1.9 a $$"
      ],
      "metadata": {
        "id": "6C3nXI5AAAcH"
      }
    }
  ]
}