{
  "cells": [
    {
      "cell_type": "markdown",
      "metadata": {
        "id": "r194ZWE6sOWj"
      },
      "source": [
        "Загрузка датасета"
      ]
    },
    {
      "cell_type": "code",
      "execution_count": 1,
      "metadata": {
        "colab": {
          "base_uri": "https://localhost:8080/",
          "height": 286
        },
        "id": "0BeSW6XErl-2",
        "outputId": "2793646e-a2ae-4496-b56c-040afdecf4ae",
        "vscode": {
          "languageId": "r"
        }
      },
      "outputs": [
        {
          "data": {
            "text/html": [
              "<table class=\"dataframe\">\n",
              "<caption>A data.frame: 6 × 11</caption>\n",
              "<thead>\n",
              "\t<tr><th></th><th scope=col>X</th><th scope=col>price</th><th scope=col>speed</th><th scope=col>hd</th><th scope=col>ram</th><th scope=col>screen</th><th scope=col>cd</th><th scope=col>multi</th><th scope=col>premium</th><th scope=col>ads</th><th scope=col>trend</th></tr>\n",
              "\t<tr><th></th><th scope=col>&lt;int&gt;</th><th scope=col>&lt;int&gt;</th><th scope=col>&lt;int&gt;</th><th scope=col>&lt;int&gt;</th><th scope=col>&lt;int&gt;</th><th scope=col>&lt;int&gt;</th><th scope=col>&lt;chr&gt;</th><th scope=col>&lt;chr&gt;</th><th scope=col>&lt;chr&gt;</th><th scope=col>&lt;int&gt;</th><th scope=col>&lt;int&gt;</th></tr>\n",
              "</thead>\n",
              "<tbody>\n",
              "\t<tr><th scope=row>1</th><td>1</td><td>1499</td><td>25</td><td> 80</td><td> 4</td><td>14</td><td>no</td><td>no</td><td>yes</td><td>94</td><td>1</td></tr>\n",
              "\t<tr><th scope=row>2</th><td>2</td><td>1795</td><td>33</td><td> 85</td><td> 2</td><td>14</td><td>no</td><td>no</td><td>yes</td><td>94</td><td>1</td></tr>\n",
              "\t<tr><th scope=row>3</th><td>3</td><td>1595</td><td>25</td><td>170</td><td> 4</td><td>15</td><td>no</td><td>no</td><td>yes</td><td>94</td><td>1</td></tr>\n",
              "\t<tr><th scope=row>4</th><td>4</td><td>1849</td><td>25</td><td>170</td><td> 8</td><td>14</td><td>no</td><td>no</td><td>no </td><td>94</td><td>1</td></tr>\n",
              "\t<tr><th scope=row>5</th><td>5</td><td>3295</td><td>33</td><td>340</td><td>16</td><td>14</td><td>no</td><td>no</td><td>yes</td><td>94</td><td>1</td></tr>\n",
              "\t<tr><th scope=row>6</th><td>6</td><td>3695</td><td>66</td><td>340</td><td>16</td><td>14</td><td>no</td><td>no</td><td>yes</td><td>94</td><td>1</td></tr>\n",
              "</tbody>\n",
              "</table>\n"
            ],
            "text/latex": [
              "A data.frame: 6 × 11\n",
              "\\begin{tabular}{r|lllllllllll}\n",
              "  & X & price & speed & hd & ram & screen & cd & multi & premium & ads & trend\\\\\n",
              "  & <int> & <int> & <int> & <int> & <int> & <int> & <chr> & <chr> & <chr> & <int> & <int>\\\\\n",
              "\\hline\n",
              "\t1 & 1 & 1499 & 25 &  80 &  4 & 14 & no & no & yes & 94 & 1\\\\\n",
              "\t2 & 2 & 1795 & 33 &  85 &  2 & 14 & no & no & yes & 94 & 1\\\\\n",
              "\t3 & 3 & 1595 & 25 & 170 &  4 & 15 & no & no & yes & 94 & 1\\\\\n",
              "\t4 & 4 & 1849 & 25 & 170 &  8 & 14 & no & no & no  & 94 & 1\\\\\n",
              "\t5 & 5 & 3295 & 33 & 340 & 16 & 14 & no & no & yes & 94 & 1\\\\\n",
              "\t6 & 6 & 3695 & 66 & 340 & 16 & 14 & no & no & yes & 94 & 1\\\\\n",
              "\\end{tabular}\n"
            ],
            "text/markdown": [
              "\n",
              "A data.frame: 6 × 11\n",
              "\n",
              "| <!--/--> | X &lt;int&gt; | price &lt;int&gt; | speed &lt;int&gt; | hd &lt;int&gt; | ram &lt;int&gt; | screen &lt;int&gt; | cd &lt;chr&gt; | multi &lt;chr&gt; | premium &lt;chr&gt; | ads &lt;int&gt; | trend &lt;int&gt; |\n",
              "|---|---|---|---|---|---|---|---|---|---|---|---|\n",
              "| 1 | 1 | 1499 | 25 |  80 |  4 | 14 | no | no | yes | 94 | 1 |\n",
              "| 2 | 2 | 1795 | 33 |  85 |  2 | 14 | no | no | yes | 94 | 1 |\n",
              "| 3 | 3 | 1595 | 25 | 170 |  4 | 15 | no | no | yes | 94 | 1 |\n",
              "| 4 | 4 | 1849 | 25 | 170 |  8 | 14 | no | no | no  | 94 | 1 |\n",
              "| 5 | 5 | 3295 | 33 | 340 | 16 | 14 | no | no | yes | 94 | 1 |\n",
              "| 6 | 6 | 3695 | 66 | 340 | 16 | 14 | no | no | yes | 94 | 1 |\n",
              "\n"
            ],
            "text/plain": [
              "  X price speed hd  ram screen cd multi premium ads trend\n",
              "1 1 1499  25     80  4  14     no no    yes     94  1    \n",
              "2 2 1795  33     85  2  14     no no    yes     94  1    \n",
              "3 3 1595  25    170  4  15     no no    yes     94  1    \n",
              "4 4 1849  25    170  8  14     no no    no      94  1    \n",
              "5 5 3295  33    340 16  14     no no    yes     94  1    \n",
              "6 6 3695  66    340 16  14     no no    yes     94  1    "
            ]
          },
          "metadata": {},
          "output_type": "display_data"
        }
      ],
      "source": [
        "Dataset<-read.csv(\"https://raw.githubusercontent.com/junaart/ForStudents/master/KIS/Lab_1/Computers.csv\",sep=\",\")\n",
        "head(Dataset)"
      ]
    },
    {
      "attachments": {},
      "cell_type": "markdown",
      "metadata": {
        "id": "_Fy1LZofsV6p"
      },
      "source": [
        "Каждый компьютер - это $W_i$ \\in $W$, где $W = Dataset$ - множество решений.\n",
        "$price, speed, hd, ram$ - основные конструктивные параметры $P_1$, $P_2$, $P_3$, $P_4$.\n",
        "\n",
        "Количество станций каждого сегмента для 8 варианта:\n",
        "$$5   \\leq C1 \\leq  9$$\n",
        "$$20  \\leq C2 \\leq  32$$\n",
        "$$3   \\leq C3 \\leq  18$$\n",
        "$$5   \\leq C4 \\leq  14$$"
      ]
    },
    {
      "cell_type": "code",
      "execution_count": 2,
      "metadata": {
        "id": "BpcyKpSns7x7",
        "vscode": {
          "languageId": "r"
        }
      },
      "outputs": [],
      "source": [
        "# Ограничения на число Ci слева\n",
        "CL <- c(5, 20, 3,  5)\n",
        "# Ограничения на число Ci справа\n",
        "CR <- c(9, 32, 18, 14)"
      ]
    },
    {
      "cell_type": "markdown",
      "metadata": {
        "id": "arT0ecXxtA6p"
      },
      "source": [
        "Регрессионный анализ — набор статистических методов исследования влияния одной или нескольких независимых переменных $x_1, ..., x_n$ на зависимую переменную y. Независимые переменные иначе называют регрессорами или предикторами, а зависимые переменные — критериальными или регрессантами. Терминология зависимых и независимых переменных отражает лишь математическую зависимость переменных (корелляцию), а не причинно-следственные отношения."
      ]
    },
    {
      "cell_type": "code",
      "execution_count": 3,
      "metadata": {
        "colab": {
          "base_uri": "https://localhost:8080/",
          "height": 144
        },
        "id": "aBX9nINKtQvA",
        "outputId": "78809cfb-6133-4400-b442-5cc06609d741",
        "vscode": {
          "languageId": "r"
        }
      },
      "outputs": [
        {
          "data": {
            "text/plain": [
              "\n",
              "Call:\n",
              "lm(formula = price ~ speed + ram + hd, data = Dataset)\n",
              "\n",
              "Coefficients:\n",
              "(Intercept)        speed          ram           hd  \n",
              "  1492.1775       5.8112      78.2357      -0.5357  \n"
            ]
          },
          "metadata": {},
          "output_type": "display_data"
        }
      ],
      "source": [
        "# lm() используется для подбора модели линейной регрессии.\n",
        "lin_model <- lm(price~speed+ram+hd, Dataset)\n",
        "lin_model"
      ]
    },
    {
      "cell_type": "markdown",
      "metadata": {
        "id": "XZOYF4TStU1a"
      },
      "source": [
        "Функция $predict()$ используется для прогнозирования значений на основе входных данных."
      ]
    },
    {
      "cell_type": "code",
      "execution_count": 4,
      "metadata": {
        "colab": {
          "base_uri": "https://localhost:8080/",
          "height": 286
        },
        "id": "cE1Owb7WtZkn",
        "outputId": "a1de5551-e298-4533-b9f5-1a41accc8b91",
        "vscode": {
          "languageId": "r"
        }
      },
      "outputs": [
        {
          "data": {
            "text/html": [
              "<table class=\"dataframe\">\n",
              "<caption>A data.frame: 6 × 2</caption>\n",
              "<thead>\n",
              "\t<tr><th></th><th scope=col>Dataset.price</th><th scope=col>g</th></tr>\n",
              "\t<tr><th></th><th scope=col>&lt;int&gt;</th><th scope=col>&lt;dbl&gt;</th></tr>\n",
              "</thead>\n",
              "<tbody>\n",
              "\t<tr><th scope=row>1</th><td>1499</td><td>1907.542</td></tr>\n",
              "\t<tr><th scope=row>2</th><td>1795</td><td>1794.882</td></tr>\n",
              "\t<tr><th scope=row>3</th><td>1595</td><td>1859.328</td></tr>\n",
              "\t<tr><th scope=row>4</th><td>1849</td><td>2172.271</td></tr>\n",
              "\t<tr><th scope=row>5</th><td>3295</td><td>2753.573</td></tr>\n",
              "\t<tr><th scope=row>6</th><td>3695</td><td>2945.343</td></tr>\n",
              "</tbody>\n",
              "</table>\n"
            ],
            "text/latex": [
              "A data.frame: 6 × 2\n",
              "\\begin{tabular}{r|ll}\n",
              "  & Dataset.price & g\\\\\n",
              "  & <int> & <dbl>\\\\\n",
              "\\hline\n",
              "\t1 & 1499 & 1907.542\\\\\n",
              "\t2 & 1795 & 1794.882\\\\\n",
              "\t3 & 1595 & 1859.328\\\\\n",
              "\t4 & 1849 & 2172.271\\\\\n",
              "\t5 & 3295 & 2753.573\\\\\n",
              "\t6 & 3695 & 2945.343\\\\\n",
              "\\end{tabular}\n"
            ],
            "text/markdown": [
              "\n",
              "A data.frame: 6 × 2\n",
              "\n",
              "| <!--/--> | Dataset.price &lt;int&gt; | g &lt;dbl&gt; |\n",
              "|---|---|---|\n",
              "| 1 | 1499 | 1907.542 |\n",
              "| 2 | 1795 | 1794.882 |\n",
              "| 3 | 1595 | 1859.328 |\n",
              "| 4 | 1849 | 2172.271 |\n",
              "| 5 | 3295 | 2753.573 |\n",
              "| 6 | 3695 | 2945.343 |\n",
              "\n"
            ],
            "text/plain": [
              "  Dataset.price g       \n",
              "1 1499          1907.542\n",
              "2 1795          1794.882\n",
              "3 1595          1859.328\n",
              "4 1849          2172.271\n",
              "5 3295          2753.573\n",
              "6 3695          2945.343"
            ]
          },
          "metadata": {},
          "output_type": "display_data"
        }
      ],
      "source": [
        "g <- predict(lin_model, Dataset)\n",
        "head(data.frame(Dataset$price, g))"
      ]
    },
    {
      "cell_type": "markdown",
      "metadata": {
        "id": "HyIDGHw3ty-Y"
      },
      "source": [
        "Построить двухуровневую задачу проектирования КИС. На верхнем уровне оптимизируется стоимость всей системы в целом. На нижнем уровне по сегментам оптимизируется: \n",
        "- суммарная производительность ($speed, ram$) всего серверного оборудования,\n",
        "- суммарный объем долговременной и оперативной памяти ($hd, ram$).\n",
        "\n",
        "При необходимости провести нормализацию конструктивных параметров. Остальные критерии оптимизации, коэффициенты важности выбрать самостоятельно. На исходном датафрейме выбрать варианты, удовлетворяющие условиям работоспособности, на полученном множестве выбрать Парето-оптимальные решения, из множества эффективных по Парето решений подобрать варианты, которые наиболее близки к решениям задачи оптимизации. Сделать окончательные выводы $(i = 1..4)$.\n",
        "Сегмент $C_i$: количество компьютеров: $n_{ci}$, номер компьютера: $ID_{ci}$\n",
        "На верхнем уровне мы предъявляем требования к целевым свойствам систем(общесистемным параметрам): производительности, надежности и т.д. На нижнем уровне требования предъявляются к конструктивным параметрам.\n",
        "\n",
        "Верхний уровень:\n",
        "\n",
        "Самостоятельно сформулировать ограничения (максимальные или минимальные) на общую стоимость развертывания всей технической инфраструктуры КИС,возможные ограничения на суммарную стоимость отдельных типов станций ($C_1$, $C_2$, $C_3$, $C_4$), нижние ограничения на частоту процессора для станций, другие приемлемые ограничения. Критерии уровней - это общие критерии, они характеризуются направленностью (минимизация/максимализация), частные критерии характеризуют отношение величин к конкретной величине, критерии могут характеризоваться направленностью или отношением к величине."
      ]
    },
    {
      "cell_type": "markdown",
      "metadata": {
        "id": "3hoLcJOVvDcA"
      },
      "source": [
        "Критерий верхнего уровня:\n",
        "$$H_1 = N_1 * price_1 + ... + N_4 * price_4 → min$$\n",
        "$$H_1 = sum(N_i * (1492.1775 + 5.8112 * speed_i + 78.2357 * ram_i - 0.5357 * hd_i))$$\n",
        "$$H_1 = $$\n",
        "$$1492.1775 * N_1 + 5.8112 * N_1 * speed_1 + 78.2357 * N_1 * ram_1 - 0.5357 * N_1 * hd_1 + $$\n",
        "$$1492.1775 * N_2 + 5.8112 * N_2 * speed_1 + 78.2357 * N_2 * ram_1 - 0.5357 * N_2 * hd_1 + $$\n",
        "$$1492.1775 * N_3 + 5.8112 * N_3 * speed_1 + 78.2357 * N_3 * ram_1 - 0.5357 * N_3 * hd_1 + $$\n",
        "$$1492.1775 * N_4 + 5.8112 * N_4 * speed_1 + 78.2357 * N_4 * ram_1 - 0.5357 * N_4 * hd_1$$\n",
        "\n",
        "$i$ - номер сегмента (1, 2, 3, 4)\n",
        "$$x_{i1} = 1492.1775 * N_i$$\n",
        "$$x_{i2} = speed_i * N_i$$\n",
        "$$x_{i3} = ram_i * N_i$$\n",
        "$$x_{i4} = hd_i * N_i$$\n",
        "\n",
        "$$price_i = 1492.1775 + 5.8112 * speed_i + 78.2357 * ram_i - 0.5357 * hd_i$$\n",
        "$$price_i * N_i = x_{i1} + 5.8112 * x_{i2} + 78.2357 * x_{i3} - 0.5357 * x_{i4}$$"
      ]
    },
    {
      "cell_type": "code",
      "execution_count": 5,
      "metadata": {
        "colab": {
          "base_uri": "https://localhost:8080/",
          "height": 69
        },
        "id": "zROTihPzwyoh",
        "outputId": "049ea985-b4a1-47df-dd58-74253c6f079e",
        "vscode": {
          "languageId": "r"
        }
      },
      "outputs": [
        {
          "data": {
            "text/html": [
              "52.0110241252596"
            ],
            "text/latex": [
              "52.0110241252596"
            ],
            "text/markdown": [
              "52.0110241252596"
            ],
            "text/plain": [
              "[1] 52.01102"
            ]
          },
          "metadata": {},
          "output_type": "display_data"
        },
        {
          "data": {
            "text/html": [
              "8.28694679661288"
            ],
            "text/latex": [
              "8.28694679661288"
            ],
            "text/markdown": [
              "8.28694679661288"
            ],
            "text/plain": [
              "[1] 8.286947"
            ]
          },
          "metadata": {},
          "output_type": "display_data"
        },
        {
          "data": {
            "text/html": [
              "416.601693561272"
            ],
            "text/latex": [
              "416.601693561272"
            ],
            "text/markdown": [
              "416.601693561272"
            ],
            "text/plain": [
              "[1] 416.6017"
            ]
          },
          "metadata": {},
          "output_type": "display_data"
        }
      ],
      "source": [
        "# Для нахождения ограничений на xi2, xi3, xi4 можно взять усредненные характеристики:\n",
        "mean(Dataset$speed) \n",
        "mean(Dataset$ram)  \n",
        "mean(Dataset$hd)  "
      ]
    },
    {
      "attachments": {},
      "cell_type": "markdown",
      "metadata": {
        "id": "13eNEtiAw7a8"
      },
      "source": [
        "Тогда: ограничения на $x_{ij}$\n",
        "$$C_{i\\ min} * 1492.1775  \\leq x_{i1} \\leq C_{i\\ max} * 1492.1775$$\n",
        "  $$C_{i\\ min} * 52.011     \\leq x_{i2} \\leq C_{i\\ max} * 52.011$$\n",
        "  $$C_{i\\ min} * 8.287      \\leq x_{i3} \\leq C_{i\\ max} * 8.287$$\n",
        "  $$C_{i\\ min} * 416.602    \\leq x_{i4} \\leq C_{i\\ max} * 416.602$$"
      ]
    },
    {
      "cell_type": "code",
      "execution_count": 6,
      "metadata": {
        "id": "-B_NQU_qxpUw",
        "vscode": {
          "languageId": "r"
        }
      },
      "outputs": [],
      "source": [
        "# Restrictions left\n",
        "XRL <- matrix(nrow = 4, ncol = 4)\n",
        "# Restrictions right\n",
        "XRR <- matrix(nrow = 4, ncol = 4)\n",
        "for (i in c(1:4)) {\n",
        "  XRL[i,1]=1492.1775 * CL[i]\n",
        "  XRL[i,2]=52.011    * CL[i]\n",
        "  XRL[i,3]=8.287     * CL[i]\n",
        "  XRL[i,4]=416.602   * CL[i]\n",
        "  \n",
        "  XRR[i,1]=1492.1775 * CR[i]\n",
        "  XRR[i,2]=52.011    * CR[i]\n",
        "  XRR[i,3]=8.287     * CR[i]\n",
        "  XRR[i,4]=416.602   * CR[i]\n",
        "}"
      ]
    },
    {
      "attachments": {},
      "cell_type": "markdown",
      "metadata": {
        "id": "GOsaK59Bx0zm"
      },
      "source": [
        "Ограничения нижнего уровня:\n",
        "  - Cуммарная стоимость компьютеров сегмента $C_1$ должна быть не более 15000 у.е.\n",
        "    \n",
        "  $$N_1 * price \\leq 15000$$\n",
        "  $$x_{11} + 5.8112 * x_{12} + 78.2357 * x_{13} - 0.5357 * x_{14} \\leq 15000$$\n",
        "\n",
        "  - Cуммарная производительность $C_1$ и $C_2$ не менее 2000\n",
        "\n",
        "  $$N_1 * speed_1 + N_2 * speed_2 \\geq 2000$$\n",
        "   $$x_{12} + x_{22} \\geq 2000$$\n",
        "\n",
        "  - Суммарный объем жесткого диска сегментов $C_3$ и $C_4$ не менее 4000\n",
        "\n",
        "  $$N_3 * hd_3 + N_4 * hd_4 \\geq 4000$$\n",
        "  $$x_{34} + x_{44} \\geq 4000$$\n",
        "\n",
        "  -Cуммарный объем оперативной памяти $C_3$ и $C_4$ не менее 200\n",
        "  \n",
        "  $$N_3 * ram_3 + N_4 * ram_4 \\geq 200$$\n",
        "   $$x_{33} + x_{43} \\geq 200$$"
      ]
    },
    {
      "cell_type": "markdown",
      "metadata": {
        "id": "fm31k6HYyyGE"
      },
      "source": [
        "Частные критерии оптимизации на нижнем уровне:\n",
        "  - Cуммарная производительность $(speed, ram)$ в сегменте $C_1$ максимизируется:\n",
        "\n",
        "  $$ W_1 = 0.7 * N_1 * speed_1 + 0.3 * N_1 * ram_1 → max$$\n",
        "  $$W_1 = 0.7 * x_{12} + 0.3 * x_{13} → max$$\n",
        "\n",
        "  - Суммарный объем памяти $(ram, hd)$ в сегменте $C_3$ максимизируется:\n",
        "\n",
        "  $$W_2 = 0.3 * N_3 * ram_3 + 0.8 * N_3 * ram_3 → max$$\n",
        "  $$W_2 = 0.3 * x_{33} + 0.8 * x_{34} → max$$\n",
        "\n",
        "  - Cуммарная производительность $C_1$ и $C_2$ максимизируется:\n",
        "\n",
        "  $$W_3 = 0.9 * N_1 * speed_1 + 0.9 * N_1 * ram_1 + 0.4 * N_2 * speed_2 + 0.4 * N_2 * ram_2 → max$$\n",
        "  $$W_3 = 0.9 * x_{12} + 0.9 * x_{13} + 0.4 * x_{22} + 0.4 * x_{23} → max$$"
      ]
    },
    {
      "cell_type": "markdown",
      "metadata": {
        "id": "MxQmlkJ5zsq9"
      },
      "source": [
        "Критерий нижнего уровня: \n",
        "  $$H_2 = W_1 + 0.8 * W_2 + W_3 → max$$\n",
        "\n",
        "Критерий верхнего уровня: \n",
        "$$H_1 =$$ \n",
        "$$ x_{11} + 5.8112 * x_{12} + 78.2357 * x_{13} - 0.5357 * x_{14} + $$\n",
        "$$x_{21} + 5.8112 * x_{22} + 78.2357 * x_{23} - 0.5357 * x_{24} + $$\n",
        "$$x_{31} + 5.8112 * x_{32} + 78.2357 * x_{33} - 0.5357 * x_{34} +$$ \n",
        "$$x_{41} + 5.8112 * x_{42} + 78.2357 * x_{43} - 0.5357 * x_{44}$$"
      ]
    },
    {
      "cell_type": "code",
      "execution_count": 7,
      "metadata": {
        "id": "ZFOpWdHJ0Vh7",
        "vscode": {
          "languageId": "r"
        }
      },
      "outputs": [],
      "source": [
        "H1<-function(\n",
        "    x11,x12,x13,x14, \n",
        "    x21,x22,x23,x24, \n",
        "    x31,x32,x33,x34, \n",
        "    x41,x42,x43,x44\n",
        ") {\n",
        "  return(\n",
        "         x11 + 5.8112 * x12 + 78.2357 * x13 - 0.5357 * x14 + \n",
        "         x21 + 5.8112 * x22 + 78.2357 * x23 - 0.5357 * x24 + \n",
        "         x31 + 5.8112 * x32 + 78.2357 * x33 - 0.5357 * x34 + \n",
        "         x41 + 5.8112 * x42 + 78.2357 * x43 - 0.5357 * x44\n",
        "  )\n",
        "}"
      ]
    },
    {
      "cell_type": "markdown",
      "metadata": {
        "id": "g_Eh7IgB0cP9"
      },
      "source": [
        "Критерий нижнего уровня: \n",
        "$$ H_2 = W_1 + 0.8 * W_2 + W_3 → max$$\n",
        "$$H_2 = 0.7 * x_{12} + 0.3 * x_{13} + 0.8 * (0.3 * x_{33} + 0.8 * x_{34}) + 0.9 * x_{12} + 0.9 * x_{13} + 0.4 * x_{22} + 0.4 * x_{23} → max$$\n",
        "$$H_2 = 0.7*x_{12} + 0.3*x_{13} + 0.24*x_{33} + 0.64*x_{34} + 0.9*x_{12} + 0.9*x_{13} + 0.4*x_{22} + 0.4*x_{23} → max$$\n",
        "$$H2 = 1.6*x_{12} + 1.2*x_{13} + 0.4*x_{22} + 0.4*x_{23} + 0.24*x_{33} + 0.64*x_{34} → max$$"
      ]
    },
    {
      "cell_type": "code",
      "execution_count": 8,
      "metadata": {
        "id": "emQPhYxB1DsO",
        "vscode": {
          "languageId": "r"
        }
      },
      "outputs": [],
      "source": [
        "H2<-function(\n",
        "    x12,x13,x22,x23,x33,x34\n",
        ") {\n",
        "  return(1.6*x12 + 1.2*x13 + 0.4*x22 + 0.4*x23 + 0.24*x33 + 0.64*x34)\n",
        "}"
      ]
    },
    {
      "attachments": {},
      "cell_type": "markdown",
      "metadata": {
        "id": "Vea4BtFV1JvQ"
      },
      "source": [
        "Как решать:\n",
        "\n",
        "Имеем две задачи:\n",
        "\n",
        "Минимизировать выражение $H_1$ с учетом ограничений на $x_{ij}$ и $H_2 \\geq H_2(mean(DATA))$\n",
        "\n",
        "Максимизировать выражение $H_2$ с учетом ограничений на $x_{ij}$ и $H_1 \\leq H_1(mean(DATA))$\n",
        "\n",
        "Выберем критерий для максимизации, остальные критерии положим в ограничения, \n",
        "задав их значения не менее (для максимизируемых) или не более (для минимизируемых) средних на выборке.\n",
        "\n",
        "Эти задачи решаются с помощью библиотеки lpSolve (linear programming solve), \n",
        "предназначенной для решения задач линейного программирования.\n",
        "\n",
        "Линейное программирование посвящено решению экстремальных задач на множествах \n",
        "n-мерного векторного пространства, задаваемых системами линейных уравнений и неравенств.\n",
        "\n",
        "Для решения ЛР в этой библиотеке используется фукнция lp (https://www.rdocumentation.org/packages/lpSolve/versions/5.6.13/topics/lp)\n",
        "Выражения делятся на object (объект оптимизации, в случае ЛР - $H_1/H_2$) и subject (ограничения, в случае ЛР - ограничения на $x_{ij}$)."
      ]
    },
    {
      "cell_type": "code",
      "execution_count": 9,
      "metadata": {
        "colab": {
          "base_uri": "https://localhost:8080/"
        },
        "id": "ykIpIPv41tsl",
        "outputId": "f9726e9f-f0c4-485d-d14d-01283e6143a5",
        "vscode": {
          "languageId": "r"
        }
      },
      "outputs": [
        {
          "name": "stderr",
          "output_type": "stream",
          "text": [
            "Installing package into ‘/usr/local/lib/R/site-library’\n",
            "(as ‘lib’ is unspecified)\n",
            "\n"
          ]
        }
      ],
      "source": [
        "install.packages(\"lpSolve\")\n",
        "library(lpSolve)\n",
        "# Решаем H1 при условиях H2 -> max и ограничениях на xij\n",
        "\n",
        "#Вычислим meanH2\n",
        "##################################\n",
        "TempDataset <-data.frame(\n",
        "  Dataset, H2(Dataset$speed, Dataset$ram, Dataset$speed, Dataset$ram, Dataset$ram, Dataset$hd)\n",
        ")\n",
        "colnames(TempDataset)<-c(\"\",\"price\",\"speed\",\"hd\",\"ram\",\"screen\",\"cd\", \"multi\", \"premium\", \"ads\",\"trend\",\"H2\")\n",
        "meanH2<-mean(TempDataset$H2)\n",
        "##################################\n",
        "\n",
        "# Numeric vector of coefficients of objective function\n",
        "objective.in<-c(1, 5.8112, 78.2357, -0.5357, 1, 5.8112, 78.2357, -0.5357, 1,5.8112, 78.2357, -0.5357, 1, 5.8112, 78.2357, -0.5357)\n",
        "\n",
        "# Matrix of numeric constraint coefficients, one row per constraint, one column per variable.\n",
        "const.mat<-matrix(c(\n",
        "# x11 x12 x13 x14 x21 x22 x23 x24 x31 x32 x33 x34 x41 x42 x43 x44\n",
        "  1,  0,  0,  0,  0,  0,  0,  0,  0,  0,  0,  0,  0,  0,  0,  0, \n",
        "  1,  0,  0,  0,  0,  0,  0,  0,  0,  0,  0,  0,  0,  0,  0,  0, \n",
        "  0,  1,  0,  0,  0,  0,  0,  0,  0,  0,  0,  0,  0,  0,  0,  0, \n",
        "  0,  1,  0,  0,  0,  0,  0,  0,  0,  0,  0,  0,  0,  0,  0,  0,\n",
        "  0,  0,  1,  0,  0,  0,  0,  0,  0,  0,  0,  0,  0,  0,  0,  0, \n",
        "  0,  0,  1,  0,  0,  0,  0,  0,  0,  0,  0,  0,  0,  0,  0,  0,\n",
        "  0,  0,  0,  1,  0,  0,  0,  0,  0,  0,  0,  0,  0,  0,  0,  0,\n",
        "  0,  0,  0,  1,  0,  0,  0,  0,  0,  0,  0,  0,  0,  0,  0,  0,\n",
        "  0,  0,  0,  0,  1,  0,  0,  0,  0,  0,  0,  0,  0,  0,  0,  0,\n",
        "  0,  0,  0,  0,  1,  0,  0,  0,  0,  0,  0,  0,  0,  0,  0,  0,\n",
        "  0,  0,  0,  0,  0,  1,  0,  0,  0,  0,  0,  0,  0,  0,  0,  0,\n",
        "  0,  0,  0,  0,  0,  1,  0,  0,  0,  0,  0,  0,  0,  0,  0,  0,\n",
        "  0,  0,  0,  0,  0,  0,  1,  0,  0,  0,  0,  0,  0,  0,  0,  0,\n",
        "  0,  0,  0,  0,  0,  0,  1,  0,  0,  0,  0,  0,  0,  0,  0,  0,\n",
        "  0,  0,  0,  0,  0,  0,  0,  1,  0,  0,  0,  0,  0,  0,  0,  0,\n",
        "  0,  0,  0,  0,  0,  0,  0,  1,  0,  0,  0,  0,  0,  0,  0,  0,\n",
        "  0,  0,  0,  0,  0,  0,  0,  0,  1,  0,  0,  0,  0,  0,  0,  0,\n",
        "  0,  0,  0,  0,  0,  0,  0,  0,  1,  0,  0,  0,  0,  0,  0,  0,\n",
        "  0,  0,  0,  0,  0,  0,  0,  0,  0,  1,  0,  0,  0,  0,  0,  0,\n",
        "  0,  0,  0,  0,  0,  0,  0,  0,  0,  1,  0,  0,  0,  0,  0,  0,\n",
        "  0,  0,  0,  0,  0,  0,  0,  0,  0,  0,  1,  0,  0,  0,  0,  0,\n",
        "  0,  0,  0,  0,  0,  0,  0,  0,  0,  0,  1,  0,  0,  0,  0,  0,\n",
        "  0,  0,  0,  0,  0,  0,  0,  0,  0,  0,  0,  1,  0,  0,  0,  0,\n",
        "  0,  0,  0,  0,  0,  0,  0,  0,  0,  0,  0,  1,  0,  0,  0,  0,\n",
        "  0,  0,  0,  0,  0,  0,  0,  0,  0,  0,  0,  0,  1,  0,  0,  0,\n",
        "  0,  0,  0,  0,  0,  0,  0,  0,  0,  0,  0,  0,  1,  0,  0,  0,\n",
        "  0,  0,  0,  0,  0,  0,  0,  0,  0,  0,  0,  0,  0,  1,  0,  0,\n",
        "  0,  0,  0,  0,  0,  0,  0,  0,  0,  0,  0,  0,  0,  1,  0,  0,\n",
        "  0,  0,  0,  0,  0,  0,  0,  0,  0,  0,  0,  0,  0,  0,  1,  0,\n",
        "  0,  0,  0,  0,  0,  0,  0,  0,  0,  0,  0,  0,  0,  0,  1,  0,\n",
        "  0,  0,  0,  0,  0,  0,  0,  0,  0,  0,  0,  0,  0,  0,  0,  1,\n",
        "  0,  0,  0,  0,  0,  0,  0,  0,  0,  0,  0,  0,  0,  0,  0,  1,\n",
        "  # Ограничения нижнего уровня\n",
        "  1,  5.8112,  78.2357,  -0.5357,  0,  0,  0,  0,  0,  0,  0,  0,  0,  0,  0,  0, # x11 + 5.8112 * x12 + 78.2357 * x13 - 0.5357 * x14 \\leq 15000\n",
        "  0,  1,  0,  0,  0,  1,  0,  0,  0,  0,  0,  0,  0,  0,  0,  0, # x12 + x22 \\geq 2000\n",
        "  0,  0,  0,  0,  0,  0,  0,  0,  0,  0,  0,  1,  0,  0,  0,  1, # x34 + x44 \\geq 4000\n",
        "  0,  0,  0,  0,  0,  0,  0,  0,  0,  0,  1,  0,  0,  0,  1,  0, # x33 + x43 \\geq 200\n",
        "  # Критерий нижнего уровня: H2 = 1.6*x12 + 1.2*x13 + 0.4*x22 + 0.4*x23 + 0.24*x33 + 0.64*x34 -> max\n",
        "  0,    1.6,  1.2,  0,   0,  0.4,  0.4,   0,   0,    0,  0.24, 0.64,  0,   0,   0,   0\n",
        "# x11   x12   x13  x14  x21  x22   x23   x24  x31   x32   x33   x34   x41  x42  x43  x44\n",
        "), nrow=32+4+1, byrow=TRUE)"
      ]
    },
    {
      "cell_type": "code",
      "execution_count": 11,
      "metadata": {
        "id": "MrVg2bnc18l8",
        "vscode": {
          "languageId": "r"
        }
      },
      "outputs": [],
      "source": [
        "# Vector of character strings giving the direction of the constraint: each value should be one of \"<,\" \"\\leq,\" \"=,\" \"==,\" \">,\" or \"\\geq\". \n",
        "# (In each pair the two values are identical.)\n",
        "# каждый знак неравенства соответствует строке матрицы\n",
        "const.dir<-c(\n",
        "  # Ограничения на xij\n",
        "  \"\\geq\",\"\\leq\",\"\\geq\",\"\\leq\",\"\\geq\",\"\\leq\",\"\\geq\",\"\\leq\",\n",
        "  \"\\geq\",\"\\leq\",\"\\geq\",\"\\leq\",\"\\geq\",\"\\leq\",\"\\geq\",\"\\leq\",\n",
        "  \"\\geq\",\"\\leq\",\"\\geq\",\"\\leq\",\"\\geq\",\"\\leq\",\"\\geq\",\"\\leq\",\n",
        "  \"\\geq\",\"\\leq\",\"\\geq\",\"\\leq\",\"\\geq\",\"\\leq\",\"\\geq\",\"\\leq\",\n",
        "  # Ограничения нижнего уровня\n",
        "  \"\\leq\",\n",
        "  \"\\geq\",\n",
        "  \"\\geq\",\n",
        "  \"\\geq\",\n",
        "  # H2\n",
        "  \"\\geq\"\n",
        ")\n",
        "\n",
        "const.rhs<-c(\n",
        "  XRL[1,1],XRR[1,1],XRL[1,2],XRR[1,2],XRL[1,3],XRR[1,3],XRL[1,4],XRR[1,4],\n",
        "  XRL[2,1],XRR[2,1],XRL[2,2],XRR[2,2],XRL[2,3],XRR[2,3],XRL[2,4],XRR[2,4],\n",
        "  XRL[3,1],XRR[3,1],XRL[3,2],XRR[3,2],XRL[3,3],XRR[3,3],XRL[3,4],XRR[3,4],\n",
        "  XRL[4,1],XRR[4,1],XRL[4,2],XRR[4,2],XRL[4,3],XRR[4,3],XRL[4,4],XRR[4,4],\n",
        "  # Ограничения нижнего уровня\n",
        "  15000,\n",
        "  2000,\n",
        "  4000,\n",
        "  200,\n",
        "  # H2\n",
        "  meanH2\n",
        ")"
      ]
    },
    {
      "cell_type": "code",
      "execution_count": 12,
      "metadata": {
        "colab": {
          "base_uri": "https://localhost:8080/",
          "height": 34
        },
        "id": "97Eetabm2Ezq",
        "outputId": "7937a288-6e63-4ae3-a05c-78722e180177",
        "vscode": {
          "languageId": "r"
        }
      },
      "outputs": [
        {
          "data": {
            "text/html": [
              "<style>\n",
              ".list-inline {list-style: none; margin:0; padding: 0}\n",
              ".list-inline>li {display: inline-block}\n",
              ".list-inline>li:not(:last-child)::after {content: \"\\00b7\"; padding: 0 .5ex}\n",
              "</style>\n",
              "<ol class=list-inline><li>7460.8875</li><li>335.648</li><li>41.435</li><li>3749.418</li><li>29843.55</li><li>1664.352</li><li>165.74</li><li>13331.264</li><li>4476.5325</li><li>156.033</li><li>149.166</li><li>7498.836</li><li>7460.8875</li><li>260.055</li><li>50.834</li><li>5832.428</li></ol>\n"
            ],
            "text/latex": [
              "\\begin{enumerate*}\n",
              "\\item 7460.8875\n",
              "\\item 335.648\n",
              "\\item 41.435\n",
              "\\item 3749.418\n",
              "\\item 29843.55\n",
              "\\item 1664.352\n",
              "\\item 165.74\n",
              "\\item 13331.264\n",
              "\\item 4476.5325\n",
              "\\item 156.033\n",
              "\\item 149.166\n",
              "\\item 7498.836\n",
              "\\item 7460.8875\n",
              "\\item 260.055\n",
              "\\item 50.834\n",
              "\\item 5832.428\n",
              "\\end{enumerate*}\n"
            ],
            "text/markdown": [
              "1. 7460.8875\n",
              "2. 335.648\n",
              "3. 41.435\n",
              "4. 3749.418\n",
              "5. 29843.55\n",
              "6. 1664.352\n",
              "7. 165.74\n",
              "8. 13331.264\n",
              "9. 4476.5325\n",
              "10. 156.033\n",
              "11. 149.166\n",
              "12. 7498.836\n",
              "13. 7460.8875\n",
              "14. 260.055\n",
              "15. 50.834\n",
              "16. 5832.428\n",
              "\n",
              "\n"
            ],
            "text/plain": [
              " [1]  7460.887   335.648    41.435  3749.418 29843.550  1664.352   165.740\n",
              " [8] 13331.264  4476.533   156.033   149.166  7498.836  7460.887   260.055\n",
              "[15]    50.834  5832.428"
            ]
          },
          "metadata": {},
          "output_type": "display_data"
        }
      ],
      "source": [
        "# Решение\n",
        "Res<-lp(\"min\", objective.in, const.mat, const.dir, const.rhs)\n",
        "# Результат\n",
        "Res$solution"
      ]
    },
    {
      "cell_type": "code",
      "execution_count": 13,
      "metadata": {
        "colab": {
          "base_uri": "https://localhost:8080/",
          "height": 52
        },
        "id": "wg8N-diG2Ii-",
        "outputId": "7403425d-5df2-4394-a5fe-4a656758f396",
        "vscode": {
          "languageId": "r"
        }
      },
      "outputs": [
        {
          "data": {
            "text/html": [
              "111429.5287053"
            ],
            "text/latex": [
              "111429.5287053"
            ],
            "text/markdown": [
              "111429.5287053"
            ],
            "text/plain": [
              "[1] 111429.5"
            ]
          },
          "metadata": {},
          "output_type": "display_data"
        },
        {
          "data": {
            "text/html": [
              "6153.85048"
            ],
            "text/latex": [
              "6153.85048"
            ],
            "text/markdown": [
              "6153.85048"
            ],
            "text/plain": [
              "[1] 6153.85"
            ]
          },
          "metadata": {},
          "output_type": "display_data"
        }
      ],
      "source": [
        "H1_vec<-function(v) {\n",
        "  return(sum(v*c(\n",
        "        1,5.8112,78.2357,0.5357,\n",
        "        1,5.8112,78.2357,0.5357,\n",
        "        1,5.8112,78.2357,0.5357,\n",
        "        1,5.8112,78.2357,0.5357\n",
        "    )))\n",
        "}\n",
        "\n",
        "H2_vec<-function(v) {\n",
        "  return(sum(v*c(\n",
        "    0,1.6,1.2,0,\n",
        "    0,0.4,0.4,0,\n",
        "    0,0,0.24,0.64,\n",
        "    0,0,0,0\n",
        "  )))\n",
        "}\n",
        "\n",
        "H1_vec(Res$solution)\n",
        "H2_vec(Res$solution)"
      ]
    },
    {
      "cell_type": "code",
      "execution_count": 14,
      "metadata": {
        "id": "Mn5s_6DX2Nvd",
        "vscode": {
          "languageId": "r"
        }
      },
      "outputs": [],
      "source": [
        "optimum<-c(\n",
        "  # поменял порядок, поскольку он именно такой в датасете\n",
        "  #total_price   #total_speed   #total_hd    #total_ram\n",
        "  7460.887,      335.648,       3749.418,    41.435,\n",
        "  29843.550,     1664.352,      13331.264,   165.740,\n",
        "  4476.533,      156.033,       7498.836,    149.166,\n",
        "  7460.887,      260.055,       5832.428,    50.834\n",
        ")\n",
        "\n",
        "lmPrice <- 1492.1775\n",
        "# N<-c(ceiling(optimum[1]/lmPrice), ceiling(optimum[5]/lmPrice), ceiling(optimum[9]/lmPrice), ceiling(optimum[13]/lmPrice))\n",
        "N<-c(     optimum[1]/lmPrice, optimum[5]/lmPrice, optimum[9]/lmPrice,  optimum[13]/lmPrice )\n",
        "Speed<-c( optimum[2]/N[1],    optimum[6]/N[2],    optimum[10]/N[3],    optimum[14]/N[4] )\n",
        "Hd<-c(    optimum[3]/N[1],    optimum[7]/N[2],    optimum[11]/N[3],    optimum[15]/N[4] )\n",
        "Ram<-c(   optimum[4]/N[1],    optimum[8]/N[2],    optimum[12]/N[3],    optimum[16]/N[4] )\n",
        "# Идеальные точки для каждого из сегментов\n",
        "ideal_1 = c(Speed[1], Hd[1], Ram[1])\n",
        "ideal_2 = c(Speed[2], Hd[2], Ram[2])\n",
        "ideal_3 = c(Speed[3], Hd[3], Ram[3])\n",
        "ideal_4 = c(Speed[4], Hd[4], Ram[4])"
      ]
    },
    {
      "cell_type": "markdown",
      "metadata": {
        "id": "-B8pWWm42S3t"
      },
      "source": [
        "Утилиты"
      ]
    },
    {
      "cell_type": "code",
      "execution_count": 15,
      "metadata": {
        "id": "dprhEXwS2Uq1",
        "vscode": {
          "languageId": "r"
        }
      },
      "outputs": [],
      "source": [
        "distance<-function(A, B){\n",
        "  return(sqrt(sum((A-B)^2)))\n",
        "}"
      ]
    },
    {
      "cell_type": "code",
      "execution_count": 16,
      "metadata": {
        "id": "xMNLLzV-2avA",
        "vscode": {
          "languageId": "r"
        }
      },
      "outputs": [],
      "source": [
        "# Приведение конструктивных показатей к однонаправленной шкале [0,100], \n",
        "# направление улучшения - возрастание показателя.\n",
        "NormalizeDataset <- function(dataset) {\n",
        "  # определение максимального значения из столбца\n",
        "  # Vmax<-max(frame$field_i); \n",
        "  # определение минимального значения из столбца\n",
        "  # Vmin<-min(frame$field_i);\n",
        "  # Чем больше значение, тем лучше\n",
        "  # v <- N * (v - Vmin) / (Vmax - Vmin)\n",
        "  # Чем меньше значение, тем лучше\n",
        "  # v <- N * (Vmax - v) / (Vmax - Vmin)\n",
        "  \n",
        "  N <- 100\n",
        "  newDataset <- dataset\n",
        "  # цена; чем ниже, тем лучше\n",
        "  maxVal <- max(dataset$price);\n",
        "  minVal <- min(dataset$price);\n",
        "  newDataset$price <- N * (maxVal - dataset$price) / (maxVal - minVal)\n",
        "  # скорость; чем выше, тем лучше\n",
        "  maxVal <- max(dataset$speed);\n",
        "  minVal <- min(dataset$speed);\n",
        "  newDataset$speed <- N * (dataset$speed - minVal) / (maxVal - minVal)\n",
        "  # объем жесткого диска; чем больше, тем лучше\n",
        "  maxVal <- max(dataset$hd);\n",
        "  minVal <- min(dataset$hd);\n",
        "  newDataset$hd <- N * (dataset$hd - minVal) / (maxVal - minVal)\n",
        "  # объем оперативной памяти; чем больше, тем лучше\n",
        "  maxVal <- max(dataset$ram);\n",
        "  minVal <- min(dataset$ram);\n",
        "  newDataset$ram <- N * (dataset$ram - minVal) / (maxVal - minVal)\n",
        "  \n",
        "  return(newDataset)\n",
        "}"
      ]
    },
    {
      "cell_type": "code",
      "execution_count": 17,
      "metadata": {
        "id": "zs_iYCoT2fFt",
        "vscode": {
          "languageId": "r"
        }
      },
      "outputs": [],
      "source": [
        "# Приведение конструктивных показатей к однонаправленной шкале [0,100], \n",
        "# направление улучшения - возрастание показателя.\n",
        "NormalizedIdeal <- function(dataset, ideal) {\n",
        "  N <- 100\n",
        "  # скорость; чем выше, тем лучше\n",
        "  maxVal <- max(dataset$speed);\n",
        "  minVal <- min(dataset$speed);\n",
        "  nSpeed <- N * (ideal[1] - minVal) / (maxVal - minVal)\n",
        "  # объем жесткого диска; чем больше, тем лучше\n",
        "  maxVal <- max(dataset$hd);\n",
        "  minVal <- min(dataset$hd);\n",
        "  nHd <- N * (ideal[2] - minVal) / (maxVal - minVal)\n",
        "  # объем оперативной памяти; чем больше, тем лучше\n",
        "  maxVal <- max(dataset$ram);\n",
        "  minVal <- min(dataset$ram);\n",
        "  nRam <- N * (ideal[3] - minVal) / (maxVal - minVal)\n",
        "  return(c(nSpeed, nHd, nRam))\n",
        "}"
      ]
    },
    {
      "cell_type": "code",
      "execution_count": 18,
      "metadata": {
        "id": "pQ93JeAI2hyq",
        "vscode": {
          "languageId": "r"
        }
      },
      "outputs": [],
      "source": [
        "# Проверка доминирования по Парето X над Y\n",
        "DominatesOver<-function(X, Y) {\n",
        "  # у X есть хотя-бы один параметр, который лучше, чем у Y.\n",
        "  hasAdvantage <- FALSE;\n",
        "  # Пришлось закостылить, т.к. учитываем только 2-5 столбцы\n",
        "  for (i in 2:5) {\n",
        "    if (X[i] > Y[i]) {\n",
        "      hasAdvantage <- TRUE\n",
        "    } else if (X[i] < Y[i]) {\n",
        "      return(FALSE)\n",
        "    }\n",
        "  }\n",
        "  if (hasAdvantage) {\n",
        "    return(TRUE)\n",
        "  }\n",
        "  return(FALSE)\n",
        "}"
      ]
    },
    {
      "cell_type": "markdown",
      "metadata": {
        "id": "ZFdQsPS12k1S"
      },
      "source": [
        "Отобор вариантов, удовлетворяющих условиям работоспособности."
      ]
    },
    {
      "cell_type": "code",
      "execution_count": 19,
      "metadata": {
        "colab": {
          "base_uri": "https://localhost:8080/",
          "height": 69
        },
        "id": "sC8fFpFp2pXS",
        "outputId": "42408af7-416a-48f6-967c-6c2c0211b707",
        "vscode": {
          "languageId": "r"
        }
      },
      "outputs": [
        {
          "data": {
            "text/html": [
              "6259"
            ],
            "text/latex": [
              "6259"
            ],
            "text/markdown": [
              "6259"
            ],
            "text/plain": [
              "[1] 6259"
            ]
          },
          "metadata": {},
          "output_type": "display_data"
        },
        {
          "data": {
            "text/html": [
              "388"
            ],
            "text/latex": [
              "388"
            ],
            "text/markdown": [
              "388"
            ],
            "text/plain": [
              "[1] 388"
            ]
          },
          "metadata": {},
          "output_type": "display_data"
        },
        {
          "data": {
            "text/html": [
              "<style>\n",
              ".list-inline {list-style: none; margin:0; padding: 0}\n",
              ".list-inline>li {display: inline-block}\n",
              ".list-inline>li:not(:last-child)::after {content: \"\\00b7\"; padding: 0 .5ex}\n",
              "</style>\n",
              "<ol class=list-inline><li>'5300'</li><li>'5619'</li><li>'5758'</li><li>'5796'</li><li>'5815'</li><li>'5822'</li><li>'5827'</li><li>'5830'</li><li>'5881'</li><li>'5882'</li><li>'5930'</li><li>'5961'</li><li>'6149'</li><li>'6158'</li><li>'6168'</li><li>'6186'</li><li>'6205'</li><li>'6227'</li><li>'6243'</li></ol>\n"
            ],
            "text/latex": [
              "\\begin{enumerate*}\n",
              "\\item '5300'\n",
              "\\item '5619'\n",
              "\\item '5758'\n",
              "\\item '5796'\n",
              "\\item '5815'\n",
              "\\item '5822'\n",
              "\\item '5827'\n",
              "\\item '5830'\n",
              "\\item '5881'\n",
              "\\item '5882'\n",
              "\\item '5930'\n",
              "\\item '5961'\n",
              "\\item '6149'\n",
              "\\item '6158'\n",
              "\\item '6168'\n",
              "\\item '6186'\n",
              "\\item '6205'\n",
              "\\item '6227'\n",
              "\\item '6243'\n",
              "\\end{enumerate*}\n"
            ],
            "text/markdown": [
              "1. '5300'\n",
              "2. '5619'\n",
              "3. '5758'\n",
              "4. '5796'\n",
              "5. '5815'\n",
              "6. '5822'\n",
              "7. '5827'\n",
              "8. '5830'\n",
              "9. '5881'\n",
              "10. '5882'\n",
              "11. '5930'\n",
              "12. '5961'\n",
              "13. '6149'\n",
              "14. '6158'\n",
              "15. '6168'\n",
              "16. '6186'\n",
              "17. '6205'\n",
              "18. '6227'\n",
              "19. '6243'\n",
              "\n",
              "\n"
            ],
            "text/plain": [
              " [1] \"5300\" \"5619\" \"5758\" \"5796\" \"5815\" \"5822\" \"5827\" \"5830\" \"5881\" \"5882\"\n",
              "[11] \"5930\" \"5961\" \"6149\" \"6158\" \"6168\" \"6186\" \"6205\" \"6227\" \"6243\""
            ]
          },
          "metadata": {},
          "output_type": "display_data"
        }
      ],
      "source": [
        "FilteredDataset<-data.frame()\n",
        "nrow(Dataset)\n",
        "for (i in c(1:length(rownames(Dataset))))\n",
        "{\n",
        "  if (Dataset[i, \"screen\"] \\geq 15 & Dataset[i, \"multi\"] == \"yes\") {\n",
        "    FilteredDataset<-rbind(FilteredDataset, Dataset[i,])\n",
        "  }\n",
        "}\n",
        "nrow(FilteredDataset)\n",
        "\n",
        "# приведение к одной шкале\n",
        "nDataset <- NormalizeDataset(FilteredDataset)\n",
        "\n",
        "# определение парето-оптимальных вариантов\n",
        "pOptVaiantsIDs<-c()\n",
        "for (i in c(1:length(rownames(nDataset))) ) {\n",
        "  isParetoOptiomal<-TRUE\n",
        "  for (j in c(1:length(rownames(nDataset)))) {\n",
        "    if (DominatesOver(nDataset[j,], nDataset[i,])) {\n",
        "      isParetoOptiomal<-FALSE # если над i-м вариантом доминирует какой-либо j-й, то i-й точно не оптимален по Парето.\n",
        "    }\n",
        "  }\n",
        "  if (isParetoOptiomal) {\n",
        "    pOptVaiantsIDs<-c(pOptVaiantsIDs, rownames(nDataset)[i])\n",
        "  }\n",
        "}\n",
        "pOptVaiantsIDs"
      ]
    },
    {
      "cell_type": "code",
      "execution_count": 20,
      "metadata": {
        "id": "TPW3hGBf2sjk",
        "vscode": {
          "languageId": "r"
        }
      },
      "outputs": [],
      "source": [
        "# выбрать наиболее близкую к идеалу альтернативу\n",
        "getClosestOption<-function(nIdeal, optVariantsIDs){\n",
        "  minDist <- .Machine$integer.max\n",
        "  closestOptionID<-1\n",
        "  for (i in optVariantsIDs){\n",
        "    tempDist <- distance(nIdeal, nDataset[i, (3:5)])\n",
        "    if (tempDist < minDist) {\n",
        "      minDist <- tempDist\n",
        "      closestOptionID = i\n",
        "    }\n",
        "  }\n",
        "  return(closestOptionID)\n",
        "}"
      ]
    },
    {
      "cell_type": "code",
      "execution_count": 21,
      "metadata": {
        "id": "SJQxCk042vEM",
        "vscode": {
          "languageId": "r"
        }
      },
      "outputs": [],
      "source": [
        "# Нормализованные идеальные точки для каждого из сегментов\n",
        "nIdeal_1 = NormalizedIdeal(Dataset, ideal_1)\n",
        "nIdeal_2 = NormalizedIdeal(Dataset, ideal_2)\n",
        "nIdeal_3 = NormalizedIdeal(Dataset, ideal_3)\n",
        "nIdeal_4 = NormalizedIdeal(Dataset, ideal_4)"
      ]
    },
    {
      "cell_type": "code",
      "execution_count": 22,
      "metadata": {
        "colab": {
          "base_uri": "https://localhost:8080/",
          "height": 34
        },
        "id": "nxXn878J2zGB",
        "outputId": "f4e69740-9eaf-4190-95cc-9f9124fda676",
        "vscode": {
          "languageId": "r"
        }
      },
      "outputs": [
        {
          "data": {
            "text/html": [
              "<style>\n",
              ".list-inline {list-style: none; margin:0; padding: 0}\n",
              ".list-inline>li {display: inline-block}\n",
              ".list-inline>li:not(:last-child)::after {content: \"\\00b7\"; padding: 0 .5ex}\n",
              "</style>\n",
              "<ol class=list-inline><li>'5300'</li><li>'5619'</li><li>'5758'</li><li>'5796'</li><li>'5815'</li><li>'5822'</li><li>'5827'</li><li>'5830'</li><li>'5881'</li><li>'5882'</li><li>'5930'</li><li>'5961'</li><li>'6149'</li><li>'6158'</li><li>'6168'</li><li>'6186'</li><li>'6205'</li><li>'6227'</li><li>'6243'</li></ol>\n"
            ],
            "text/latex": [
              "\\begin{enumerate*}\n",
              "\\item '5300'\n",
              "\\item '5619'\n",
              "\\item '5758'\n",
              "\\item '5796'\n",
              "\\item '5815'\n",
              "\\item '5822'\n",
              "\\item '5827'\n",
              "\\item '5830'\n",
              "\\item '5881'\n",
              "\\item '5882'\n",
              "\\item '5930'\n",
              "\\item '5961'\n",
              "\\item '6149'\n",
              "\\item '6158'\n",
              "\\item '6168'\n",
              "\\item '6186'\n",
              "\\item '6205'\n",
              "\\item '6227'\n",
              "\\item '6243'\n",
              "\\end{enumerate*}\n"
            ],
            "text/markdown": [
              "1. '5300'\n",
              "2. '5619'\n",
              "3. '5758'\n",
              "4. '5796'\n",
              "5. '5815'\n",
              "6. '5822'\n",
              "7. '5827'\n",
              "8. '5830'\n",
              "9. '5881'\n",
              "10. '5882'\n",
              "11. '5930'\n",
              "12. '5961'\n",
              "13. '6149'\n",
              "14. '6158'\n",
              "15. '6168'\n",
              "16. '6186'\n",
              "17. '6205'\n",
              "18. '6227'\n",
              "19. '6243'\n",
              "\n",
              "\n"
            ],
            "text/plain": [
              " [1] \"5300\" \"5619\" \"5758\" \"5796\" \"5815\" \"5822\" \"5827\" \"5830\" \"5881\" \"5882\"\n",
              "[11] \"5930\" \"5961\" \"6149\" \"6158\" \"6168\" \"6186\" \"6205\" \"6227\" \"6243\""
            ]
          },
          "metadata": {},
          "output_type": "display_data"
        }
      ],
      "source": [
        "# лучшие варианты для каждого из сегментов\n",
        "closestOptionsIDs <- c(\n",
        "  getClosestOption(nIdeal_1, pOptVaiantsIDs),\n",
        "  getClosestOption(nIdeal_2, pOptVaiantsIDs),\n",
        "  getClosestOption(nIdeal_3, pOptVaiantsIDs),\n",
        "  getClosestOption(nIdeal_4, pOptVaiantsIDs)\n",
        ")\n",
        "\n",
        "pOptVaiantsIDs"
      ]
    },
    {
      "cell_type": "code",
      "execution_count": 23,
      "metadata": {
        "colab": {
          "base_uri": "https://localhost:8080/",
          "height": 465
        },
        "id": "CzY3qsTQ21uH",
        "outputId": "4aae684f-1bd1-4f48-ebef-05938cd30e81",
        "vscode": {
          "languageId": "r"
        }
      },
      "outputs": [
        {
          "data": {
            "text/html": [
              "<table class=\"dataframe\">\n",
              "<caption>A data.frame: 1 × 11</caption>\n",
              "<thead>\n",
              "\t<tr><th></th><th scope=col>X</th><th scope=col>price</th><th scope=col>speed</th><th scope=col>hd</th><th scope=col>ram</th><th scope=col>screen</th><th scope=col>cd</th><th scope=col>multi</th><th scope=col>premium</th><th scope=col>ads</th><th scope=col>trend</th></tr>\n",
              "\t<tr><th></th><th scope=col>&lt;int&gt;</th><th scope=col>&lt;int&gt;</th><th scope=col>&lt;int&gt;</th><th scope=col>&lt;int&gt;</th><th scope=col>&lt;int&gt;</th><th scope=col>&lt;int&gt;</th><th scope=col>&lt;chr&gt;</th><th scope=col>&lt;chr&gt;</th><th scope=col>&lt;chr&gt;</th><th scope=col>&lt;int&gt;</th><th scope=col>&lt;int&gt;</th></tr>\n",
              "</thead>\n",
              "<tbody>\n",
              "\t<tr><th scope=row>5796</th><td>5796</td><td>1840</td><td>75</td><td>730</td><td>8</td><td>15</td><td>yes</td><td>yes</td><td>yes</td><td>132</td><td>28</td></tr>\n",
              "</tbody>\n",
              "</table>\n"
            ],
            "text/latex": [
              "A data.frame: 1 × 11\n",
              "\\begin{tabular}{r|lllllllllll}\n",
              "  & X & price & speed & hd & ram & screen & cd & multi & premium & ads & trend\\\\\n",
              "  & <int> & <int> & <int> & <int> & <int> & <int> & <chr> & <chr> & <chr> & <int> & <int>\\\\\n",
              "\\hline\n",
              "\t5796 & 5796 & 1840 & 75 & 730 & 8 & 15 & yes & yes & yes & 132 & 28\\\\\n",
              "\\end{tabular}\n"
            ],
            "text/markdown": [
              "\n",
              "A data.frame: 1 × 11\n",
              "\n",
              "| <!--/--> | X &lt;int&gt; | price &lt;int&gt; | speed &lt;int&gt; | hd &lt;int&gt; | ram &lt;int&gt; | screen &lt;int&gt; | cd &lt;chr&gt; | multi &lt;chr&gt; | premium &lt;chr&gt; | ads &lt;int&gt; | trend &lt;int&gt; |\n",
              "|---|---|---|---|---|---|---|---|---|---|---|---|\n",
              "| 5796 | 5796 | 1840 | 75 | 730 | 8 | 15 | yes | yes | yes | 132 | 28 |\n",
              "\n"
            ],
            "text/plain": [
              "     X    price speed hd  ram screen cd  multi premium ads trend\n",
              "5796 5796 1840  75    730 8   15     yes yes   yes     132 28   "
            ]
          },
          "metadata": {},
          "output_type": "display_data"
        },
        {
          "data": {
            "text/html": [
              "<table class=\"dataframe\">\n",
              "<caption>A data.frame: 1 × 11</caption>\n",
              "<thead>\n",
              "\t<tr><th></th><th scope=col>X</th><th scope=col>price</th><th scope=col>speed</th><th scope=col>hd</th><th scope=col>ram</th><th scope=col>screen</th><th scope=col>cd</th><th scope=col>multi</th><th scope=col>premium</th><th scope=col>ads</th><th scope=col>trend</th></tr>\n",
              "\t<tr><th></th><th scope=col>&lt;int&gt;</th><th scope=col>&lt;int&gt;</th><th scope=col>&lt;int&gt;</th><th scope=col>&lt;int&gt;</th><th scope=col>&lt;int&gt;</th><th scope=col>&lt;int&gt;</th><th scope=col>&lt;chr&gt;</th><th scope=col>&lt;chr&gt;</th><th scope=col>&lt;chr&gt;</th><th scope=col>&lt;int&gt;</th><th scope=col>&lt;int&gt;</th></tr>\n",
              "</thead>\n",
              "<tbody>\n",
              "\t<tr><th scope=row>5796</th><td>5796</td><td>1840</td><td>75</td><td>730</td><td>8</td><td>15</td><td>yes</td><td>yes</td><td>yes</td><td>132</td><td>28</td></tr>\n",
              "</tbody>\n",
              "</table>\n"
            ],
            "text/latex": [
              "A data.frame: 1 × 11\n",
              "\\begin{tabular}{r|lllllllllll}\n",
              "  & X & price & speed & hd & ram & screen & cd & multi & premium & ads & trend\\\\\n",
              "  & <int> & <int> & <int> & <int> & <int> & <int> & <chr> & <chr> & <chr> & <int> & <int>\\\\\n",
              "\\hline\n",
              "\t5796 & 5796 & 1840 & 75 & 730 & 8 & 15 & yes & yes & yes & 132 & 28\\\\\n",
              "\\end{tabular}\n"
            ],
            "text/markdown": [
              "\n",
              "A data.frame: 1 × 11\n",
              "\n",
              "| <!--/--> | X &lt;int&gt; | price &lt;int&gt; | speed &lt;int&gt; | hd &lt;int&gt; | ram &lt;int&gt; | screen &lt;int&gt; | cd &lt;chr&gt; | multi &lt;chr&gt; | premium &lt;chr&gt; | ads &lt;int&gt; | trend &lt;int&gt; |\n",
              "|---|---|---|---|---|---|---|---|---|---|---|---|\n",
              "| 5796 | 5796 | 1840 | 75 | 730 | 8 | 15 | yes | yes | yes | 132 | 28 |\n",
              "\n"
            ],
            "text/plain": [
              "     X    price speed hd  ram screen cd  multi premium ads trend\n",
              "5796 5796 1840  75    730 8   15     yes yes   yes     132 28   "
            ]
          },
          "metadata": {},
          "output_type": "display_data"
        },
        {
          "data": {
            "text/html": [
              "<table class=\"dataframe\">\n",
              "<caption>A data.frame: 1 × 11</caption>\n",
              "<thead>\n",
              "\t<tr><th></th><th scope=col>X</th><th scope=col>price</th><th scope=col>speed</th><th scope=col>hd</th><th scope=col>ram</th><th scope=col>screen</th><th scope=col>cd</th><th scope=col>multi</th><th scope=col>premium</th><th scope=col>ads</th><th scope=col>trend</th></tr>\n",
              "\t<tr><th></th><th scope=col>&lt;int&gt;</th><th scope=col>&lt;int&gt;</th><th scope=col>&lt;int&gt;</th><th scope=col>&lt;int&gt;</th><th scope=col>&lt;int&gt;</th><th scope=col>&lt;int&gt;</th><th scope=col>&lt;chr&gt;</th><th scope=col>&lt;chr&gt;</th><th scope=col>&lt;chr&gt;</th><th scope=col>&lt;int&gt;</th><th scope=col>&lt;int&gt;</th></tr>\n",
              "</thead>\n",
              "<tbody>\n",
              "\t<tr><th scope=row>6186</th><td>6186</td><td>3123</td><td>75</td><td>1600</td><td>32</td><td>15</td><td>yes</td><td>yes</td><td>yes</td><td>39</td><td>34</td></tr>\n",
              "</tbody>\n",
              "</table>\n"
            ],
            "text/latex": [
              "A data.frame: 1 × 11\n",
              "\\begin{tabular}{r|lllllllllll}\n",
              "  & X & price & speed & hd & ram & screen & cd & multi & premium & ads & trend\\\\\n",
              "  & <int> & <int> & <int> & <int> & <int> & <int> & <chr> & <chr> & <chr> & <int> & <int>\\\\\n",
              "\\hline\n",
              "\t6186 & 6186 & 3123 & 75 & 1600 & 32 & 15 & yes & yes & yes & 39 & 34\\\\\n",
              "\\end{tabular}\n"
            ],
            "text/markdown": [
              "\n",
              "A data.frame: 1 × 11\n",
              "\n",
              "| <!--/--> | X &lt;int&gt; | price &lt;int&gt; | speed &lt;int&gt; | hd &lt;int&gt; | ram &lt;int&gt; | screen &lt;int&gt; | cd &lt;chr&gt; | multi &lt;chr&gt; | premium &lt;chr&gt; | ads &lt;int&gt; | trend &lt;int&gt; |\n",
              "|---|---|---|---|---|---|---|---|---|---|---|---|\n",
              "| 6186 | 6186 | 3123 | 75 | 1600 | 32 | 15 | yes | yes | yes | 39 | 34 |\n",
              "\n"
            ],
            "text/plain": [
              "     X    price speed hd   ram screen cd  multi premium ads trend\n",
              "6186 6186 3123  75    1600 32  15     yes yes   yes     39  34   "
            ]
          },
          "metadata": {},
          "output_type": "display_data"
        },
        {
          "data": {
            "text/html": [
              "<table class=\"dataframe\">\n",
              "<caption>A data.frame: 1 × 11</caption>\n",
              "<thead>\n",
              "\t<tr><th></th><th scope=col>X</th><th scope=col>price</th><th scope=col>speed</th><th scope=col>hd</th><th scope=col>ram</th><th scope=col>screen</th><th scope=col>cd</th><th scope=col>multi</th><th scope=col>premium</th><th scope=col>ads</th><th scope=col>trend</th></tr>\n",
              "\t<tr><th></th><th scope=col>&lt;int&gt;</th><th scope=col>&lt;int&gt;</th><th scope=col>&lt;int&gt;</th><th scope=col>&lt;int&gt;</th><th scope=col>&lt;int&gt;</th><th scope=col>&lt;int&gt;</th><th scope=col>&lt;chr&gt;</th><th scope=col>&lt;chr&gt;</th><th scope=col>&lt;chr&gt;</th><th scope=col>&lt;int&gt;</th><th scope=col>&lt;int&gt;</th></tr>\n",
              "</thead>\n",
              "<tbody>\n",
              "\t<tr><th scope=row>5300</th><td>5300</td><td>2075</td><td>66</td><td>1080</td><td>8</td><td>15</td><td>yes</td><td>yes</td><td>yes</td><td>158</td><td>25</td></tr>\n",
              "</tbody>\n",
              "</table>\n"
            ],
            "text/latex": [
              "A data.frame: 1 × 11\n",
              "\\begin{tabular}{r|lllllllllll}\n",
              "  & X & price & speed & hd & ram & screen & cd & multi & premium & ads & trend\\\\\n",
              "  & <int> & <int> & <int> & <int> & <int> & <int> & <chr> & <chr> & <chr> & <int> & <int>\\\\\n",
              "\\hline\n",
              "\t5300 & 5300 & 2075 & 66 & 1080 & 8 & 15 & yes & yes & yes & 158 & 25\\\\\n",
              "\\end{tabular}\n"
            ],
            "text/markdown": [
              "\n",
              "A data.frame: 1 × 11\n",
              "\n",
              "| <!--/--> | X &lt;int&gt; | price &lt;int&gt; | speed &lt;int&gt; | hd &lt;int&gt; | ram &lt;int&gt; | screen &lt;int&gt; | cd &lt;chr&gt; | multi &lt;chr&gt; | premium &lt;chr&gt; | ads &lt;int&gt; | trend &lt;int&gt; |\n",
              "|---|---|---|---|---|---|---|---|---|---|---|---|\n",
              "| 5300 | 5300 | 2075 | 66 | 1080 | 8 | 15 | yes | yes | yes | 158 | 25 |\n",
              "\n"
            ],
            "text/plain": [
              "     X    price speed hd   ram screen cd  multi premium ads trend\n",
              "5300 5300 2075  66    1080 8   15     yes yes   yes     158 25   "
            ]
          },
          "metadata": {},
          "output_type": "display_data"
        }
      ],
      "source": [
        "# результаты\n",
        "FilteredDataset[closestOptionsIDs[1], ]\n",
        "FilteredDataset[closestOptionsIDs[2], ]\n",
        "FilteredDataset[closestOptionsIDs[3], ]\n",
        "FilteredDataset[closestOptionsIDs[4], ]"
      ]
    }
  ],
  "metadata": {
    "colab": {
      "provenance": []
    },
    "kernelspec": {
      "display_name": "R",
      "name": "ir"
    },
    "language_info": {
      "name": "R"
    }
  },
  "nbformat": 4,
  "nbformat_minor": 0
}
